{
  "nbformat": 4,
  "nbformat_minor": 0,
  "metadata": {
    "colab": {
      "name": "5 ML Logistic Regression Using Naive Bayes -cross validation-PowerTransformer-GridSearchCV.ipynb",
      "provenance": [],
      "collapsed_sections": [],
      "authorship_tag": "ABX9TyPEpUCeHsqx+oO+ho/y0Ilk",
      "include_colab_link": true
    },
    "kernelspec": {
      "name": "python3",
      "display_name": "Python 3"
    },
    "language_info": {
      "name": "python"
    }
  },
  "cells": [
    {
      "cell_type": "markdown",
      "metadata": {
        "id": "view-in-github",
        "colab_type": "text"
      },
      "source": [
        "<a href=\"https://colab.research.google.com/github/mukeshsharma1981/ML-Projects/blob/main/5_ML_Logistic_Regression_Using_Naive_Bayes_cross_validation_PowerTransformer_GridSearchCV.ipynb\" target=\"_parent\"><img src=\"https://colab.research.google.com/assets/colab-badge.svg\" alt=\"Open In Colab\"/></a>"
      ]
    },
    {
      "cell_type": "markdown",
      "source": [
        "Import the Library Pandas"
      ],
      "metadata": {
        "id": "ystwut7TTJL6"
      }
    },
    {
      "cell_type": "code",
      "source": [
        "import pandas as pd\n",
        "col_names = [\"preg\", \"plas\", \"pres\", \"skin\", \"test\", \"mass\", \"pedi\", \"age\", \"class\"]\n",
        "df=pd.read_csv('/content/diabetes.csv', names=col_names)\n",
        "df=df.drop(df.index[0])\n",
        "df.head()\n",
        "df.info()"
      ],
      "metadata": {
        "colab": {
          "base_uri": "https://localhost:8080/"
        },
        "id": "mgsOEjsgcAjB",
        "outputId": "fb92cd78-da04-43ca-c2b4-58bd82981ce7"
      },
      "execution_count": 59,
      "outputs": [
        {
          "output_type": "stream",
          "name": "stdout",
          "text": [
            "<class 'pandas.core.frame.DataFrame'>\n",
            "Int64Index: 768 entries, 1 to 768\n",
            "Data columns (total 9 columns):\n",
            " #   Column  Non-Null Count  Dtype \n",
            "---  ------  --------------  ----- \n",
            " 0   preg    768 non-null    object\n",
            " 1   plas    768 non-null    object\n",
            " 2   pres    768 non-null    object\n",
            " 3   skin    768 non-null    object\n",
            " 4   test    768 non-null    object\n",
            " 5   mass    768 non-null    object\n",
            " 6   pedi    768 non-null    object\n",
            " 7   age     768 non-null    object\n",
            " 8   class   768 non-null    object\n",
            "dtypes: object(9)\n",
            "memory usage: 60.0+ KB\n"
          ]
        }
      ]
    },
    {
      "cell_type": "code",
      "source": [
        "convert_dict = {'preg' : int,\n",
        "                'plas' : int,\n",
        "                'pres' : int,\n",
        "                'skin' : int,\n",
        "                'test' : int,\n",
        "                'mass' : float,\n",
        "                'pedi' : float,\n",
        "                'age' : int,\n",
        "                'class' : int}\n",
        "## converting object into int and float type\n",
        "df = df.astype(convert_dict)\n",
        "df.info()\n"
      ],
      "metadata": {
        "colab": {
          "base_uri": "https://localhost:8080/"
        },
        "id": "ZgpZm90s3zcx",
        "outputId": "4306f8a3-afe7-41e7-affc-60bc3104f9a2"
      },
      "execution_count": 60,
      "outputs": [
        {
          "output_type": "stream",
          "name": "stdout",
          "text": [
            "<class 'pandas.core.frame.DataFrame'>\n",
            "Int64Index: 768 entries, 1 to 768\n",
            "Data columns (total 9 columns):\n",
            " #   Column  Non-Null Count  Dtype  \n",
            "---  ------  --------------  -----  \n",
            " 0   preg    768 non-null    int64  \n",
            " 1   plas    768 non-null    int64  \n",
            " 2   pres    768 non-null    int64  \n",
            " 3   skin    768 non-null    int64  \n",
            " 4   test    768 non-null    int64  \n",
            " 5   mass    768 non-null    float64\n",
            " 6   pedi    768 non-null    float64\n",
            " 7   age     768 non-null    int64  \n",
            " 8   class   768 non-null    int64  \n",
            "dtypes: float64(2), int64(7)\n",
            "memory usage: 60.0 KB\n"
          ]
        }
      ]
    },
    {
      "cell_type": "code",
      "source": [
        "df.head(15)\n"
      ],
      "metadata": {
        "colab": {
          "base_uri": "https://localhost:8080/",
          "height": 520
        },
        "id": "ymeX-e9W3zfn",
        "outputId": "c1b5129d-532e-466f-98a5-6b1b7666e450"
      },
      "execution_count": 64,
      "outputs": [
        {
          "output_type": "execute_result",
          "data": {
            "text/plain": [
              "    preg  plas  pres  skin  test  mass   pedi  age  class\n",
              "1      6   148    72    35     0  33.6  0.627   50      1\n",
              "2      1    85    66    29     0  26.6  0.351   31      0\n",
              "3      8   183    64     0     0  23.3  0.672   32      1\n",
              "4      1    89    66    23    94  28.1  0.167   21      0\n",
              "5      0   137    40    35   168  43.1  2.288   33      1\n",
              "6      5   116    74     0     0  25.6  0.201   30      0\n",
              "7      3    78    50    32    88  31.0  0.248   26      1\n",
              "8     10   115     0     0     0  35.3  0.134   29      0\n",
              "9      2   197    70    45   543  30.5  0.158   53      1\n",
              "10     8   125    96     0     0   0.0  0.232   54      1\n",
              "11     4   110    92     0     0  37.6  0.191   30      0\n",
              "12    10   168    74     0     0  38.0  0.537   34      1\n",
              "13    10   139    80     0     0  27.1  1.441   57      0\n",
              "14     1   189    60    23   846  30.1  0.398   59      1\n",
              "15     5   166    72    19   175  25.8  0.587   51      1"
            ],
            "text/html": [
              "\n",
              "  <div id=\"df-7c07956b-26a4-4b9d-ab02-2852fedb8c27\">\n",
              "    <div class=\"colab-df-container\">\n",
              "      <div>\n",
              "<style scoped>\n",
              "    .dataframe tbody tr th:only-of-type {\n",
              "        vertical-align: middle;\n",
              "    }\n",
              "\n",
              "    .dataframe tbody tr th {\n",
              "        vertical-align: top;\n",
              "    }\n",
              "\n",
              "    .dataframe thead th {\n",
              "        text-align: right;\n",
              "    }\n",
              "</style>\n",
              "<table border=\"1\" class=\"dataframe\">\n",
              "  <thead>\n",
              "    <tr style=\"text-align: right;\">\n",
              "      <th></th>\n",
              "      <th>preg</th>\n",
              "      <th>plas</th>\n",
              "      <th>pres</th>\n",
              "      <th>skin</th>\n",
              "      <th>test</th>\n",
              "      <th>mass</th>\n",
              "      <th>pedi</th>\n",
              "      <th>age</th>\n",
              "      <th>class</th>\n",
              "    </tr>\n",
              "  </thead>\n",
              "  <tbody>\n",
              "    <tr>\n",
              "      <th>1</th>\n",
              "      <td>6</td>\n",
              "      <td>148</td>\n",
              "      <td>72</td>\n",
              "      <td>35</td>\n",
              "      <td>0</td>\n",
              "      <td>33.6</td>\n",
              "      <td>0.627</td>\n",
              "      <td>50</td>\n",
              "      <td>1</td>\n",
              "    </tr>\n",
              "    <tr>\n",
              "      <th>2</th>\n",
              "      <td>1</td>\n",
              "      <td>85</td>\n",
              "      <td>66</td>\n",
              "      <td>29</td>\n",
              "      <td>0</td>\n",
              "      <td>26.6</td>\n",
              "      <td>0.351</td>\n",
              "      <td>31</td>\n",
              "      <td>0</td>\n",
              "    </tr>\n",
              "    <tr>\n",
              "      <th>3</th>\n",
              "      <td>8</td>\n",
              "      <td>183</td>\n",
              "      <td>64</td>\n",
              "      <td>0</td>\n",
              "      <td>0</td>\n",
              "      <td>23.3</td>\n",
              "      <td>0.672</td>\n",
              "      <td>32</td>\n",
              "      <td>1</td>\n",
              "    </tr>\n",
              "    <tr>\n",
              "      <th>4</th>\n",
              "      <td>1</td>\n",
              "      <td>89</td>\n",
              "      <td>66</td>\n",
              "      <td>23</td>\n",
              "      <td>94</td>\n",
              "      <td>28.1</td>\n",
              "      <td>0.167</td>\n",
              "      <td>21</td>\n",
              "      <td>0</td>\n",
              "    </tr>\n",
              "    <tr>\n",
              "      <th>5</th>\n",
              "      <td>0</td>\n",
              "      <td>137</td>\n",
              "      <td>40</td>\n",
              "      <td>35</td>\n",
              "      <td>168</td>\n",
              "      <td>43.1</td>\n",
              "      <td>2.288</td>\n",
              "      <td>33</td>\n",
              "      <td>1</td>\n",
              "    </tr>\n",
              "    <tr>\n",
              "      <th>6</th>\n",
              "      <td>5</td>\n",
              "      <td>116</td>\n",
              "      <td>74</td>\n",
              "      <td>0</td>\n",
              "      <td>0</td>\n",
              "      <td>25.6</td>\n",
              "      <td>0.201</td>\n",
              "      <td>30</td>\n",
              "      <td>0</td>\n",
              "    </tr>\n",
              "    <tr>\n",
              "      <th>7</th>\n",
              "      <td>3</td>\n",
              "      <td>78</td>\n",
              "      <td>50</td>\n",
              "      <td>32</td>\n",
              "      <td>88</td>\n",
              "      <td>31.0</td>\n",
              "      <td>0.248</td>\n",
              "      <td>26</td>\n",
              "      <td>1</td>\n",
              "    </tr>\n",
              "    <tr>\n",
              "      <th>8</th>\n",
              "      <td>10</td>\n",
              "      <td>115</td>\n",
              "      <td>0</td>\n",
              "      <td>0</td>\n",
              "      <td>0</td>\n",
              "      <td>35.3</td>\n",
              "      <td>0.134</td>\n",
              "      <td>29</td>\n",
              "      <td>0</td>\n",
              "    </tr>\n",
              "    <tr>\n",
              "      <th>9</th>\n",
              "      <td>2</td>\n",
              "      <td>197</td>\n",
              "      <td>70</td>\n",
              "      <td>45</td>\n",
              "      <td>543</td>\n",
              "      <td>30.5</td>\n",
              "      <td>0.158</td>\n",
              "      <td>53</td>\n",
              "      <td>1</td>\n",
              "    </tr>\n",
              "    <tr>\n",
              "      <th>10</th>\n",
              "      <td>8</td>\n",
              "      <td>125</td>\n",
              "      <td>96</td>\n",
              "      <td>0</td>\n",
              "      <td>0</td>\n",
              "      <td>0.0</td>\n",
              "      <td>0.232</td>\n",
              "      <td>54</td>\n",
              "      <td>1</td>\n",
              "    </tr>\n",
              "    <tr>\n",
              "      <th>11</th>\n",
              "      <td>4</td>\n",
              "      <td>110</td>\n",
              "      <td>92</td>\n",
              "      <td>0</td>\n",
              "      <td>0</td>\n",
              "      <td>37.6</td>\n",
              "      <td>0.191</td>\n",
              "      <td>30</td>\n",
              "      <td>0</td>\n",
              "    </tr>\n",
              "    <tr>\n",
              "      <th>12</th>\n",
              "      <td>10</td>\n",
              "      <td>168</td>\n",
              "      <td>74</td>\n",
              "      <td>0</td>\n",
              "      <td>0</td>\n",
              "      <td>38.0</td>\n",
              "      <td>0.537</td>\n",
              "      <td>34</td>\n",
              "      <td>1</td>\n",
              "    </tr>\n",
              "    <tr>\n",
              "      <th>13</th>\n",
              "      <td>10</td>\n",
              "      <td>139</td>\n",
              "      <td>80</td>\n",
              "      <td>0</td>\n",
              "      <td>0</td>\n",
              "      <td>27.1</td>\n",
              "      <td>1.441</td>\n",
              "      <td>57</td>\n",
              "      <td>0</td>\n",
              "    </tr>\n",
              "    <tr>\n",
              "      <th>14</th>\n",
              "      <td>1</td>\n",
              "      <td>189</td>\n",
              "      <td>60</td>\n",
              "      <td>23</td>\n",
              "      <td>846</td>\n",
              "      <td>30.1</td>\n",
              "      <td>0.398</td>\n",
              "      <td>59</td>\n",
              "      <td>1</td>\n",
              "    </tr>\n",
              "    <tr>\n",
              "      <th>15</th>\n",
              "      <td>5</td>\n",
              "      <td>166</td>\n",
              "      <td>72</td>\n",
              "      <td>19</td>\n",
              "      <td>175</td>\n",
              "      <td>25.8</td>\n",
              "      <td>0.587</td>\n",
              "      <td>51</td>\n",
              "      <td>1</td>\n",
              "    </tr>\n",
              "  </tbody>\n",
              "</table>\n",
              "</div>\n",
              "      <button class=\"colab-df-convert\" onclick=\"convertToInteractive('df-7c07956b-26a4-4b9d-ab02-2852fedb8c27')\"\n",
              "              title=\"Convert this dataframe to an interactive table.\"\n",
              "              style=\"display:none;\">\n",
              "        \n",
              "  <svg xmlns=\"http://www.w3.org/2000/svg\" height=\"24px\"viewBox=\"0 0 24 24\"\n",
              "       width=\"24px\">\n",
              "    <path d=\"M0 0h24v24H0V0z\" fill=\"none\"/>\n",
              "    <path d=\"M18.56 5.44l.94 2.06.94-2.06 2.06-.94-2.06-.94-.94-2.06-.94 2.06-2.06.94zm-11 1L8.5 8.5l.94-2.06 2.06-.94-2.06-.94L8.5 2.5l-.94 2.06-2.06.94zm10 10l.94 2.06.94-2.06 2.06-.94-2.06-.94-.94-2.06-.94 2.06-2.06.94z\"/><path d=\"M17.41 7.96l-1.37-1.37c-.4-.4-.92-.59-1.43-.59-.52 0-1.04.2-1.43.59L10.3 9.45l-7.72 7.72c-.78.78-.78 2.05 0 2.83L4 21.41c.39.39.9.59 1.41.59.51 0 1.02-.2 1.41-.59l7.78-7.78 2.81-2.81c.8-.78.8-2.07 0-2.86zM5.41 20L4 18.59l7.72-7.72 1.47 1.35L5.41 20z\"/>\n",
              "  </svg>\n",
              "      </button>\n",
              "      \n",
              "  <style>\n",
              "    .colab-df-container {\n",
              "      display:flex;\n",
              "      flex-wrap:wrap;\n",
              "      gap: 12px;\n",
              "    }\n",
              "\n",
              "    .colab-df-convert {\n",
              "      background-color: #E8F0FE;\n",
              "      border: none;\n",
              "      border-radius: 50%;\n",
              "      cursor: pointer;\n",
              "      display: none;\n",
              "      fill: #1967D2;\n",
              "      height: 32px;\n",
              "      padding: 0 0 0 0;\n",
              "      width: 32px;\n",
              "    }\n",
              "\n",
              "    .colab-df-convert:hover {\n",
              "      background-color: #E2EBFA;\n",
              "      box-shadow: 0px 1px 2px rgba(60, 64, 67, 0.3), 0px 1px 3px 1px rgba(60, 64, 67, 0.15);\n",
              "      fill: #174EA6;\n",
              "    }\n",
              "\n",
              "    [theme=dark] .colab-df-convert {\n",
              "      background-color: #3B4455;\n",
              "      fill: #D2E3FC;\n",
              "    }\n",
              "\n",
              "    [theme=dark] .colab-df-convert:hover {\n",
              "      background-color: #434B5C;\n",
              "      box-shadow: 0px 1px 3px 1px rgba(0, 0, 0, 0.15);\n",
              "      filter: drop-shadow(0px 1px 2px rgba(0, 0, 0, 0.3));\n",
              "      fill: #FFFFFF;\n",
              "    }\n",
              "  </style>\n",
              "\n",
              "      <script>\n",
              "        const buttonEl =\n",
              "          document.querySelector('#df-7c07956b-26a4-4b9d-ab02-2852fedb8c27 button.colab-df-convert');\n",
              "        buttonEl.style.display =\n",
              "          google.colab.kernel.accessAllowed ? 'block' : 'none';\n",
              "\n",
              "        async function convertToInteractive(key) {\n",
              "          const element = document.querySelector('#df-7c07956b-26a4-4b9d-ab02-2852fedb8c27');\n",
              "          const dataTable =\n",
              "            await google.colab.kernel.invokeFunction('convertToInteractive',\n",
              "                                                     [key], {});\n",
              "          if (!dataTable) return;\n",
              "\n",
              "          const docLinkHtml = 'Like what you see? Visit the ' +\n",
              "            '<a target=\"_blank\" href=https://colab.research.google.com/notebooks/data_table.ipynb>data table notebook</a>'\n",
              "            + ' to learn more about interactive tables.';\n",
              "          element.innerHTML = '';\n",
              "          dataTable['output_type'] = 'display_data';\n",
              "          await google.colab.output.renderOutput(dataTable, element);\n",
              "          const docLink = document.createElement('div');\n",
              "          docLink.innerHTML = docLinkHtml;\n",
              "          element.appendChild(docLink);\n",
              "        }\n",
              "      </script>\n",
              "    </div>\n",
              "  </div>\n",
              "  "
            ]
          },
          "metadata": {},
          "execution_count": 64
        }
      ]
    },
    {
      "cell_type": "code",
      "source": [
        "## as we can see some 0 values so we will convert these into nan\n",
        "import numpy as np\n",
        "\n",
        "df.preg.replace(0,np.nan, inplace=True)\n",
        "df.plas.replace(0,np.nan, inplace=True)\n",
        "df.pres.replace(0,np.nan, inplace=True)\n",
        "df.skin.replace(0,np.nan, inplace=True)\n",
        "df.test.replace(0,np.nan, inplace=True)\n",
        "df.mass.replace(0,np.nan, inplace=True)\n",
        "df.pedi.replace(0,np.nan, inplace=True)\n",
        "df.age.replace(0,np.nan, inplace=True)\n",
        "\n",
        "df.info()"
      ],
      "metadata": {
        "colab": {
          "base_uri": "https://localhost:8080/"
        },
        "id": "JeJE-C2y3ziY",
        "outputId": "cd416f48-641a-40d1-f8bf-13c2e68be6fd"
      },
      "execution_count": 72,
      "outputs": [
        {
          "output_type": "stream",
          "name": "stdout",
          "text": [
            "<class 'pandas.core.frame.DataFrame'>\n",
            "Int64Index: 768 entries, 1 to 768\n",
            "Data columns (total 9 columns):\n",
            " #   Column  Non-Null Count  Dtype  \n",
            "---  ------  --------------  -----  \n",
            " 0   preg    657 non-null    float64\n",
            " 1   plas    763 non-null    float64\n",
            " 2   pres    733 non-null    float64\n",
            " 3   skin    541 non-null    float64\n",
            " 4   test    394 non-null    float64\n",
            " 5   mass    757 non-null    float64\n",
            " 6   pedi    768 non-null    float64\n",
            " 7   age     768 non-null    int64  \n",
            " 8   class   768 non-null    int64  \n",
            "dtypes: float64(7), int64(2)\n",
            "memory usage: 76.2 KB\n"
          ]
        }
      ]
    },
    {
      "cell_type": "code",
      "source": [
        "## Impute missing values\n",
        "from sklearn.impute import SimpleImputer as imp\n",
        "impute = imp(missing_values=np.nan, strategy='mean')\n",
        "impute.fit(df)\n",
        "X1=impute.transform(df)\n",
        "X1[0:5,:]"
      ],
      "metadata": {
        "colab": {
          "base_uri": "https://localhost:8080/"
        },
        "id": "oSL7Gba03zlA",
        "outputId": "5ca2e33a-4ce3-455a-dc5d-249d56995942"
      },
      "execution_count": 76,
      "outputs": [
        {
          "output_type": "execute_result",
          "data": {
            "text/plain": [
              "array([[6.00000000e+00, 1.48000000e+02, 7.20000000e+01, 3.50000000e+01,\n",
              "        1.55548223e+02, 3.36000000e+01, 6.27000000e-01, 5.00000000e+01,\n",
              "        1.00000000e+00],\n",
              "       [1.00000000e+00, 8.50000000e+01, 6.60000000e+01, 2.90000000e+01,\n",
              "        1.55548223e+02, 2.66000000e+01, 3.51000000e-01, 3.10000000e+01,\n",
              "        0.00000000e+00],\n",
              "       [8.00000000e+00, 1.83000000e+02, 6.40000000e+01, 2.91534196e+01,\n",
              "        1.55548223e+02, 2.33000000e+01, 6.72000000e-01, 3.20000000e+01,\n",
              "        1.00000000e+00],\n",
              "       [1.00000000e+00, 8.90000000e+01, 6.60000000e+01, 2.30000000e+01,\n",
              "        9.40000000e+01, 2.81000000e+01, 1.67000000e-01, 2.10000000e+01,\n",
              "        0.00000000e+00],\n",
              "       [4.49467275e+00, 1.37000000e+02, 4.00000000e+01, 3.50000000e+01,\n",
              "        1.68000000e+02, 4.31000000e+01, 2.28800000e+00, 3.30000000e+01,\n",
              "        1.00000000e+00]])"
            ]
          },
          "metadata": {},
          "execution_count": 76
        }
      ]
    },
    {
      "cell_type": "code",
      "source": [
        "## converting imputed data into a data frame\n",
        "df = pd.DataFrame(data=X1, columns=[\"preg\", \"plas\", \"pres\", \"skin\", \"test\", \"mass\", \"pedi\", \"age\", \"class\"])\n",
        "df.info()"
      ],
      "metadata": {
        "colab": {
          "base_uri": "https://localhost:8080/"
        },
        "id": "qN4Rbma83znh",
        "outputId": "40b4e60c-d46f-4a96-920f-e3a028b90351"
      },
      "execution_count": 77,
      "outputs": [
        {
          "output_type": "stream",
          "name": "stdout",
          "text": [
            "<class 'pandas.core.frame.DataFrame'>\n",
            "RangeIndex: 768 entries, 0 to 767\n",
            "Data columns (total 9 columns):\n",
            " #   Column  Non-Null Count  Dtype  \n",
            "---  ------  --------------  -----  \n",
            " 0   preg    768 non-null    float64\n",
            " 1   plas    768 non-null    float64\n",
            " 2   pres    768 non-null    float64\n",
            " 3   skin    768 non-null    float64\n",
            " 4   test    768 non-null    float64\n",
            " 5   mass    768 non-null    float64\n",
            " 6   pedi    768 non-null    float64\n",
            " 7   age     768 non-null    float64\n",
            " 8   class   768 non-null    float64\n",
            "dtypes: float64(9)\n",
            "memory usage: 54.1 KB\n"
          ]
        }
      ]
    },
    {
      "cell_type": "code",
      "source": [
        "## Dividing the data into X and Y\n",
        "X=df.drop(\"class\", axis=1)\n",
        "Y=df[\"class\"]"
      ],
      "metadata": {
        "id": "jUXOhvGJ3zqG"
      },
      "execution_count": 80,
      "outputs": []
    },
    {
      "cell_type": "code",
      "source": [
        "## segregating the data using sklearn traintestsplit\n",
        "from sklearn.model_selection import train_test_split as tts \n",
        "\n",
        "X_train,X_test,y_train,y_test = tts(X,Y,test_size=0.3, random_state=3)\n",
        "print(X_train.shape)\n",
        "\n",
        "print(X_test.shape) # X_test - test set on which your model is applied\n",
        "\n",
        "print(y_train.shape)\n",
        "\n",
        "print(y_test.shape) # y_test - is the actual output\n",
        "\n"
      ],
      "metadata": {
        "colab": {
          "base_uri": "https://localhost:8080/"
        },
        "id": "6i6D5e2lcAll",
        "outputId": "c0155095-a072-46dc-9284-fc7c462bd579"
      },
      "execution_count": 83,
      "outputs": [
        {
          "output_type": "stream",
          "name": "stdout",
          "text": [
            "(537, 8)\n",
            "(231, 8)\n",
            "(537,)\n",
            "(231,)\n"
          ]
        }
      ]
    },
    {
      "cell_type": "code",
      "source": [
        "## Importing Naiv Bayes and cross validation score\n",
        "from sklearn.naive_bayes import GaussianNB\n",
        "from sklearn.model_selection import cross_val_score \n",
        "\n",
        "model=GaussianNB()\n",
        "\n",
        "cv_scores = cross_val_score(model, X, Y, cv=5) ## We have done the cross validation scores on full data set not on X_train and y_train only\n",
        "cv_scores\n"
      ],
      "metadata": {
        "colab": {
          "base_uri": "https://localhost:8080/"
        },
        "id": "6NgGwGpwcAoS",
        "outputId": "c124bffb-a0ee-49a1-e905-4ad1b5ad125c"
      },
      "execution_count": 84,
      "outputs": [
        {
          "output_type": "execute_result",
          "data": {
            "text/plain": [
              "array([0.74675325, 0.73376623, 0.74675325, 0.79084967, 0.74509804])"
            ]
          },
          "metadata": {},
          "execution_count": 84
        }
      ]
    },
    {
      "cell_type": "code",
      "source": [
        "print(model, 'mean accuracy: ', round(cv_scores.mean()*100, 3))"
      ],
      "metadata": {
        "colab": {
          "base_uri": "https://localhost:8080/"
        },
        "id": "jhrL3NV5cAq9",
        "outputId": "a9b776f8-f4da-4748-eef2-891f94dafa72"
      },
      "execution_count": 86,
      "outputs": [
        {
          "output_type": "stream",
          "name": "stdout",
          "text": [
            "GaussianNB() mean accuracy:  75.264\n"
          ]
        }
      ]
    },
    {
      "cell_type": "code",
      "source": [
        "## importing accuracy scores from sklearn\n",
        "from sklearn.metrics import accuracy_score \n",
        "\n",
        "## Train Set\n",
        "predict_train = model.fit(X_train, y_train).predict(X_train)\n",
        "\n",
        "## Accuracy score on train set\n",
        "accuracy_train= accuracy_score(y_train, predict_train)\n",
        "print('accuracy score on train dataset', accuracy_train)\n",
        "\n",
        "\n",
        "## Test Set\n",
        "predict_test = model.predict(X_test)\n",
        "\n",
        "## Accuracy score on train set\n",
        "accuracy_test= accuracy_score(y_test, predict_test)\n",
        "print('accuracy score on test dataset', accuracy_test)\n",
        "\n"
      ],
      "metadata": {
        "colab": {
          "base_uri": "https://localhost:8080/"
        },
        "id": "tNeT3ABvcAtl",
        "outputId": "05f116e7-b302-4926-cb78-3a748cab2dde"
      },
      "execution_count": 89,
      "outputs": [
        {
          "output_type": "stream",
          "name": "stdout",
          "text": [
            "accuracy score on train dataset 0.7672253258845437\n",
            "accuracy score on test dataset 0.7402597402597403\n"
          ]
        }
      ]
    },
    {
      "cell_type": "code",
      "source": [
        "## Importing classification report and confusion matrix\n",
        "from sklearn.metrics import classification_report, confusion_matrix \n",
        "print(classification_report(y_train, predict_train))\n",
        "print(classification_report(y_test, predict_test))\n"
      ],
      "metadata": {
        "colab": {
          "base_uri": "https://localhost:8080/"
        },
        "id": "HtdvcS9zX-Ku",
        "outputId": "957e5923-185c-469e-f21c-89fbe48778e7"
      },
      "execution_count": 90,
      "outputs": [
        {
          "output_type": "stream",
          "name": "stdout",
          "text": [
            "              precision    recall  f1-score   support\n",
            "\n",
            "         0.0       0.82      0.85      0.83       367\n",
            "         1.0       0.65      0.58      0.61       170\n",
            "\n",
            "    accuracy                           0.77       537\n",
            "   macro avg       0.73      0.72      0.72       537\n",
            "weighted avg       0.76      0.77      0.76       537\n",
            "\n",
            "              precision    recall  f1-score   support\n",
            "\n",
            "         0.0       0.74      0.83      0.79       133\n",
            "         1.0       0.73      0.61      0.67        98\n",
            "\n",
            "    accuracy                           0.74       231\n",
            "   macro avg       0.74      0.72      0.73       231\n",
            "weighted avg       0.74      0.74      0.74       231\n",
            "\n"
          ]
        }
      ]
    },
    {
      "cell_type": "code",
      "source": [
        "## confusion matrix\n",
        "print(confusion_matrix(y_test, predict_test))"
      ],
      "metadata": {
        "colab": {
          "base_uri": "https://localhost:8080/"
        },
        "id": "f5TQPWo3CJ5B",
        "outputId": "ca5960b5-ec76-428f-a05f-076eccd33918"
      },
      "execution_count": 91,
      "outputs": [
        {
          "output_type": "stream",
          "name": "stdout",
          "text": [
            "[[111  22]\n",
            " [ 38  60]]\n"
          ]
        }
      ]
    },
    {
      "cell_type": "markdown",
      "source": [
        "Gaussian Naive Bayes assumes that features follows normal distrubution which is very har in the real world\n",
        "\n",
        "To solve this problem we can perform \"power transformation\" on each feature to make it more or less normally distributed\n",
        "\n",
        "By default, PowerTransformer results in features that have a 0 mean and 1 standard deviation "
      ],
      "metadata": {
        "id": "oldmNBNOD898"
      }
    },
    {
      "cell_type": "code",
      "source": [
        "from sklearn.preprocessing import PowerTransformer\n",
        "from sklearn.model_selection import GridSearchCV \n",
        "\n",
        "## The numpy.Logspace() functin returns number spaces evenly w.r.t interval on a Log Scale\n",
        "\n",
        "params_np = {\"var_smoothing\" : np.logspace(0,-9, num=100)}\n",
        "\n",
        "gnb = GridSearchCV(estimator=model,\n",
        "                   param_grid=params_np,\n",
        "                   cv=5,\n",
        "                   scoring='accuracy')\n",
        "\n",
        "data_trans = PowerTransformer().fit_transform(X_train)\n",
        "\n",
        "gnb.fit(data_trans, y_train)\n",
        "\n"
      ],
      "metadata": {
        "colab": {
          "base_uri": "https://localhost:8080/"
        },
        "id": "FUFV8QH3CJ8C",
        "outputId": "6b0234f5-2883-449b-b28c-70f2bf751fbb"
      },
      "execution_count": 92,
      "outputs": [
        {
          "output_type": "execute_result",
          "data": {
            "text/plain": [
              "GridSearchCV(cv=5, estimator=GaussianNB(),\n",
              "             param_grid={'var_smoothing': array([1.00000000e+00, 8.11130831e-01, 6.57933225e-01, 5.33669923e-01,\n",
              "       4.32876128e-01, 3.51119173e-01, 2.84803587e-01, 2.31012970e-01,\n",
              "       1.87381742e-01, 1.51991108e-01, 1.23284674e-01, 1.00000000e-01,\n",
              "       8.11130831e-02, 6.57933225e-02, 5.33669923e-02, 4.32876128e-02,\n",
              "       3.51119173e-02, 2.84803587e-02, 2.31...\n",
              "       1.23284674e-07, 1.00000000e-07, 8.11130831e-08, 6.57933225e-08,\n",
              "       5.33669923e-08, 4.32876128e-08, 3.51119173e-08, 2.84803587e-08,\n",
              "       2.31012970e-08, 1.87381742e-08, 1.51991108e-08, 1.23284674e-08,\n",
              "       1.00000000e-08, 8.11130831e-09, 6.57933225e-09, 5.33669923e-09,\n",
              "       4.32876128e-09, 3.51119173e-09, 2.84803587e-09, 2.31012970e-09,\n",
              "       1.87381742e-09, 1.51991108e-09, 1.23284674e-09, 1.00000000e-09])},\n",
              "             scoring='accuracy')"
            ]
          },
          "metadata": {},
          "execution_count": 92
        }
      ]
    },
    {
      "cell_type": "code",
      "source": [
        "gnb.best_params_"
      ],
      "metadata": {
        "colab": {
          "base_uri": "https://localhost:8080/"
        },
        "id": "MsLqzOJ0CJ-v",
        "outputId": "2b88d7c0-bfd4-4182-b26a-15c48b81c630"
      },
      "execution_count": 93,
      "outputs": [
        {
          "output_type": "execute_result",
          "data": {
            "text/plain": [
              "{'var_smoothing': 0.657933224657568}"
            ]
          },
          "metadata": {},
          "execution_count": 93
        }
      ]
    },
    {
      "cell_type": "code",
      "source": [
        "gnb.best_score_"
      ],
      "metadata": {
        "colab": {
          "base_uri": "https://localhost:8080/"
        },
        "id": "F1lygVvOCKBs",
        "outputId": "bd05bbdb-847e-435f-c968-a9e58299e0f6"
      },
      "execution_count": 94,
      "outputs": [
        {
          "output_type": "execute_result",
          "data": {
            "text/plain": [
              "0.778348909657321"
            ]
          },
          "metadata": {},
          "execution_count": 94
        }
      ]
    },
    {
      "cell_type": "code",
      "source": [
        "## Applying power transformer on test set\n",
        "\n",
        "data_trans1=PowerTransformer().fit_transform(X_test) \n",
        "\n",
        "# Predict the target on the test data set\n",
        "\n",
        "predict_test=gnb.predict(data_trans1)\n",
        "\n",
        "# Accuracy score on test dataset\n",
        "accuracy_test=accuracy_score(y_test, predict_test)\n",
        "print('accyracy score on test set' , accuracy_test)\n",
        "\n"
      ],
      "metadata": {
        "colab": {
          "base_uri": "https://localhost:8080/"
        },
        "id": "AkO-HJApCKEW",
        "outputId": "ba8c5992-92b6-4b5e-ff44-e183bf8a8bd4"
      },
      "execution_count": 98,
      "outputs": [
        {
          "output_type": "stream",
          "name": "stdout",
          "text": [
            "accyracy score on test set 0.7359307359307359\n"
          ]
        }
      ]
    },
    {
      "cell_type": "code",
      "source": [
        "## Importing classification report and confusion matrix\n",
        "from sklearn.metrics import classification_report, confusion_matrix \n",
        "print(classification_report(y_test, predict_test))\n"
      ],
      "metadata": {
        "colab": {
          "base_uri": "https://localhost:8080/"
        },
        "id": "zW-BixN3CKGw",
        "outputId": "ae8180ff-2b4b-474f-8cea-d01c29c91357"
      },
      "execution_count": 99,
      "outputs": [
        {
          "output_type": "stream",
          "name": "stdout",
          "text": [
            "              precision    recall  f1-score   support\n",
            "\n",
            "         0.0       0.72      0.89      0.80       133\n",
            "         1.0       0.78      0.52      0.63        98\n",
            "\n",
            "    accuracy                           0.74       231\n",
            "   macro avg       0.75      0.71      0.71       231\n",
            "weighted avg       0.75      0.74      0.72       231\n",
            "\n"
          ]
        }
      ]
    },
    {
      "cell_type": "code",
      "source": [
        "## confusion matrix\n",
        "print(confusion_matrix(y_test, predict_test))"
      ],
      "metadata": {
        "colab": {
          "base_uri": "https://localhost:8080/"
        },
        "id": "oZZIoTkzCKJX",
        "outputId": "41a30ea7-d724-4ee2-b57e-994c22eb9873"
      },
      "execution_count": 100,
      "outputs": [
        {
          "output_type": "stream",
          "name": "stdout",
          "text": [
            "[[119  14]\n",
            " [ 47  51]]\n"
          ]
        }
      ]
    },
    {
      "cell_type": "code",
      "source": [
        "import seaborn as sns\n",
        "\n",
        "sns.heatmap((confusion_matrix(y_test, predict_test)), annot=True, fmt='.5g').set_title=('Test Data')"
      ],
      "metadata": {
        "colab": {
          "base_uri": "https://localhost:8080/",
          "height": 264
        },
        "id": "TUg4XmumCKMT",
        "outputId": "f4c162ac-c395-41ed-cae2-5e27f8954205"
      },
      "execution_count": 104,
      "outputs": [
        {
          "output_type": "display_data",
          "data": {
            "text/plain": [
              "<Figure size 432x288 with 2 Axes>"
            ],
            "image/png": "[encoded data removed]"
          },
          "metadata": {
            "needs_background": "light"
          }
        }
      ]
    },
    {
      "cell_type": "code",
      "source": [
        ""
      ],
      "metadata": {
        "id": "TGxyZnmVCKO_"
      },
      "execution_count": null,
      "outputs": []
    }
  ]
}