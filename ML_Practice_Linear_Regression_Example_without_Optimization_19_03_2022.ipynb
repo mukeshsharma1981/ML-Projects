{
  "nbformat": 4,
  "nbformat_minor": 0,
  "metadata": {
    "colab": {
      "name": "ML Practice - Linear Regression Example without Optimization 19-03-2022.ipynb",
      "provenance": [],
      "collapsed_sections": [],
      "authorship_tag": "ABX9TyMZRk3GdA0GAwzqKWaGV6I/",
      "include_colab_link": true
    },
    "kernelspec": {
      "name": "python3",
      "display_name": "Python 3"
    },
    "language_info": {
      "name": "python"
    }
  },
  "cells": [
    {
      "cell_type": "markdown",
      "metadata": {
        "id": "view-in-github",
        "colab_type": "text"
      },
      "source": [
        "<a href=\"https://colab.research.google.com/github/mukeshsharma1981/ML-Projects/blob/main/ML_Practice_Linear_Regression_Example_without_Optimization_19_03_2022.ipynb\" target=\"_parent\"><img src=\"https://colab.research.google.com/assets/colab-badge.svg\" alt=\"Open In Colab\"/></a>"
      ]
    },
    {
      "cell_type": "markdown",
      "source": [
        "Use boston_house_prices. \n",
        "\n",
        "Consider the column TAX as the output variable and the remaining columns as input variables. Accomplish the regression task using linear regression. \n",
        "\n",
        "To do so:\n",
        "\n",
        "![image.png](data:image/png;base64,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)"
      ],
      "metadata": {
        "id": "QWyaZTSk5HkW"
      }
    },
    {
      "cell_type": "code",
      "execution_count": 4,
      "metadata": {
        "colab": {
          "base_uri": "https://localhost:8080/",
          "height": 206
        },
        "id": "jdT3iR-g4dE4",
        "outputId": "f29a58a9-1ad1-4c8d-c29b-806eb1805ce5"
      },
      "outputs": [
        {
          "output_type": "execute_result",
          "data": {
            "text/plain": [
              "      CRIM    ZN  INDUS  CHAS    NOX     RM   AGE     DIS  RAD  TAX  PTRATIO  \\\n",
              "0  0.00632  18.0   2.31     0  0.538  6.575  65.2  4.0900    1  296     15.3   \n",
              "1  0.02731   0.0   7.07     0  0.469  6.421  78.9  4.9671    2  242     17.8   \n",
              "2  0.02729   0.0   7.07     0  0.469  7.185  61.1  4.9671    2  242     17.8   \n",
              "3  0.03237   0.0   2.18     0  0.458  6.998  45.8  6.0622    3  222     18.7   \n",
              "4  0.06905   0.0   2.18     0  0.458  7.147  54.2  6.0622    3  222     18.7   \n",
              "\n",
              "        B  LSTAT  MEDV  \n",
              "0  396.90   4.98  24.0  \n",
              "1  396.90   9.14  21.6  \n",
              "2  392.83   4.03  34.7  \n",
              "3  394.63   2.94  33.4  \n",
              "4  396.90   5.33  36.2  "
            ],
            "text/html": [
              "\n",
              "  <div id=\"df-269efbfb-c3e0-4c47-bdd7-3d42c7cab39e\">\n",
              "    <div class=\"colab-df-container\">\n",
              "      <div>\n",
              "<style scoped>\n",
              "    .dataframe tbody tr th:only-of-type {\n",
              "        vertical-align: middle;\n",
              "    }\n",
              "\n",
              "    .dataframe tbody tr th {\n",
              "        vertical-align: top;\n",
              "    }\n",
              "\n",
              "    .dataframe thead th {\n",
              "        text-align: right;\n",
              "    }\n",
              "</style>\n",
              "<table border=\"1\" class=\"dataframe\">\n",
              "  <thead>\n",
              "    <tr style=\"text-align: right;\">\n",
              "      <th></th>\n",
              "      <th>CRIM</th>\n",
              "      <th>ZN</th>\n",
              "      <th>INDUS</th>\n",
              "      <th>CHAS</th>\n",
              "      <th>NOX</th>\n",
              "      <th>RM</th>\n",
              "      <th>AGE</th>\n",
              "      <th>DIS</th>\n",
              "      <th>RAD</th>\n",
              "      <th>TAX</th>\n",
              "      <th>PTRATIO</th>\n",
              "      <th>B</th>\n",
              "      <th>LSTAT</th>\n",
              "      <th>MEDV</th>\n",
              "    </tr>\n",
              "  </thead>\n",
              "  <tbody>\n",
              "    <tr>\n",
              "      <th>0</th>\n",
              "      <td>0.00632</td>\n",
              "      <td>18.0</td>\n",
              "      <td>2.31</td>\n",
              "      <td>0</td>\n",
              "      <td>0.538</td>\n",
              "      <td>6.575</td>\n",
              "      <td>65.2</td>\n",
              "      <td>4.0900</td>\n",
              "      <td>1</td>\n",
              "      <td>296</td>\n",
              "      <td>15.3</td>\n",
              "      <td>396.90</td>\n",
              "      <td>4.98</td>\n",
              "      <td>24.0</td>\n",
              "    </tr>\n",
              "    <tr>\n",
              "      <th>1</th>\n",
              "      <td>0.02731</td>\n",
              "      <td>0.0</td>\n",
              "      <td>7.07</td>\n",
              "      <td>0</td>\n",
              "      <td>0.469</td>\n",
              "      <td>6.421</td>\n",
              "      <td>78.9</td>\n",
              "      <td>4.9671</td>\n",
              "      <td>2</td>\n",
              "      <td>242</td>\n",
              "      <td>17.8</td>\n",
              "      <td>396.90</td>\n",
              "      <td>9.14</td>\n",
              "      <td>21.6</td>\n",
              "    </tr>\n",
              "    <tr>\n",
              "      <th>2</th>\n",
              "      <td>0.02729</td>\n",
              "      <td>0.0</td>\n",
              "      <td>7.07</td>\n",
              "      <td>0</td>\n",
              "      <td>0.469</td>\n",
              "      <td>7.185</td>\n",
              "      <td>61.1</td>\n",
              "      <td>4.9671</td>\n",
              "      <td>2</td>\n",
              "      <td>242</td>\n",
              "      <td>17.8</td>\n",
              "      <td>392.83</td>\n",
              "      <td>4.03</td>\n",
              "      <td>34.7</td>\n",
              "    </tr>\n",
              "    <tr>\n",
              "      <th>3</th>\n",
              "      <td>0.03237</td>\n",
              "      <td>0.0</td>\n",
              "      <td>2.18</td>\n",
              "      <td>0</td>\n",
              "      <td>0.458</td>\n",
              "      <td>6.998</td>\n",
              "      <td>45.8</td>\n",
              "      <td>6.0622</td>\n",
              "      <td>3</td>\n",
              "      <td>222</td>\n",
              "      <td>18.7</td>\n",
              "      <td>394.63</td>\n",
              "      <td>2.94</td>\n",
              "      <td>33.4</td>\n",
              "    </tr>\n",
              "    <tr>\n",
              "      <th>4</th>\n",
              "      <td>0.06905</td>\n",
              "      <td>0.0</td>\n",
              "      <td>2.18</td>\n",
              "      <td>0</td>\n",
              "      <td>0.458</td>\n",
              "      <td>7.147</td>\n",
              "      <td>54.2</td>\n",
              "      <td>6.0622</td>\n",
              "      <td>3</td>\n",
              "      <td>222</td>\n",
              "      <td>18.7</td>\n",
              "      <td>396.90</td>\n",
              "      <td>5.33</td>\n",
              "      <td>36.2</td>\n",
              "    </tr>\n",
              "  </tbody>\n",
              "</table>\n",
              "</div>\n",
              "      <button class=\"colab-df-convert\" onclick=\"convertToInteractive('df-269efbfb-c3e0-4c47-bdd7-3d42c7cab39e')\"\n",
              "              title=\"Convert this dataframe to an interactive table.\"\n",
              "              style=\"display:none;\">\n",
              "        \n",
              "  <svg xmlns=\"http://www.w3.org/2000/svg\" height=\"24px\"viewBox=\"0 0 24 24\"\n",
              "       width=\"24px\">\n",
              "    <path d=\"M0 0h24v24H0V0z\" fill=\"none\"/>\n",
              "    <path d=\"M18.56 5.44l.94 2.06.94-2.06 2.06-.94-2.06-.94-.94-2.06-.94 2.06-2.06.94zm-11 1L8.5 8.5l.94-2.06 2.06-.94-2.06-.94L8.5 2.5l-.94 2.06-2.06.94zm10 10l.94 2.06.94-2.06 2.06-.94-2.06-.94-.94-2.06-.94 2.06-2.06.94z\"/><path d=\"M17.41 7.96l-1.37-1.37c-.4-.4-.92-.59-1.43-.59-.52 0-1.04.2-1.43.59L10.3 9.45l-7.72 7.72c-.78.78-.78 2.05 0 2.83L4 21.41c.39.39.9.59 1.41.59.51 0 1.02-.2 1.41-.59l7.78-7.78 2.81-2.81c.8-.78.8-2.07 0-2.86zM5.41 20L4 18.59l7.72-7.72 1.47 1.35L5.41 20z\"/>\n",
              "  </svg>\n",
              "      </button>\n",
              "      \n",
              "  <style>\n",
              "    .colab-df-container {\n",
              "      display:flex;\n",
              "      flex-wrap:wrap;\n",
              "      gap: 12px;\n",
              "    }\n",
              "\n",
              "    .colab-df-convert {\n",
              "      background-color: #E8F0FE;\n",
              "      border: none;\n",
              "      border-radius: 50%;\n",
              "      cursor: pointer;\n",
              "      display: none;\n",
              "      fill: #1967D2;\n",
              "      height: 32px;\n",
              "      padding: 0 0 0 0;\n",
              "      width: 32px;\n",
              "    }\n",
              "\n",
              "    .colab-df-convert:hover {\n",
              "      background-color: #E2EBFA;\n",
              "      box-shadow: 0px 1px 2px rgba(60, 64, 67, 0.3), 0px 1px 3px 1px rgba(60, 64, 67, 0.15);\n",
              "      fill: #174EA6;\n",
              "    }\n",
              "\n",
              "    [theme=dark] .colab-df-convert {\n",
              "      background-color: #3B4455;\n",
              "      fill: #D2E3FC;\n",
              "    }\n",
              "\n",
              "    [theme=dark] .colab-df-convert:hover {\n",
              "      background-color: #434B5C;\n",
              "      box-shadow: 0px 1px 3px 1px rgba(0, 0, 0, 0.15);\n",
              "      filter: drop-shadow(0px 1px 2px rgba(0, 0, 0, 0.3));\n",
              "      fill: #FFFFFF;\n",
              "    }\n",
              "  </style>\n",
              "\n",
              "      <script>\n",
              "        const buttonEl =\n",
              "          document.querySelector('#df-269efbfb-c3e0-4c47-bdd7-3d42c7cab39e button.colab-df-convert');\n",
              "        buttonEl.style.display =\n",
              "          google.colab.kernel.accessAllowed ? 'block' : 'none';\n",
              "\n",
              "        async function convertToInteractive(key) {\n",
              "          const element = document.querySelector('#df-269efbfb-c3e0-4c47-bdd7-3d42c7cab39e');\n",
              "          const dataTable =\n",
              "            await google.colab.kernel.invokeFunction('convertToInteractive',\n",
              "                                                     [key], {});\n",
              "          if (!dataTable) return;\n",
              "\n",
              "          const docLinkHtml = 'Like what you see? Visit the ' +\n",
              "            '<a target=\"_blank\" href=https://colab.research.google.com/notebooks/data_table.ipynb>data table notebook</a>'\n",
              "            + ' to learn more about interactive tables.';\n",
              "          element.innerHTML = '';\n",
              "          dataTable['output_type'] = 'display_data';\n",
              "          await google.colab.output.renderOutput(dataTable, element);\n",
              "          const docLink = document.createElement('div');\n",
              "          docLink.innerHTML = docLinkHtml;\n",
              "          element.appendChild(docLink);\n",
              "        }\n",
              "      </script>\n",
              "    </div>\n",
              "  </div>\n",
              "  "
            ]
          },
          "metadata": {},
          "execution_count": 4
        }
      ],
      "source": [
        "from pandas import read_csv\n",
        "from sklearn.linear_model import LinearRegression\n",
        "\n",
        "df=read_csv(\"/content/boston_house_prices.csv\")\n",
        "df.head()"
      ]
    },
    {
      "cell_type": "code",
      "source": [
        "import pandas as pd\n",
        "## Segrigate the input and output features\n",
        "X=df.drop(\"TAX\", axis=1)\n",
        "Y=df[\"TAX\"]\n",
        "\n",
        "## fit the Linear Regression on X and Y\n",
        "from sklearn.linear_model import LinearRegression\n",
        "model=LinearRegression()\n",
        "model.fit(X,Y)\n",
        "\n",
        "## a- Estimate the parameter cooefficient\n",
        "cf=model.coef_\n",
        "\n",
        "pd.DataFrame(cf, X.columns, columns=['coef'])"
      ],
      "metadata": {
        "colab": {
          "base_uri": "https://localhost:8080/",
          "height": 456
        },
        "id": "f6P1DFsY5MVL",
        "outputId": "7dbca25b-58b9-4809-c809-a66b3289e94a"
      },
      "execution_count": 9,
      "outputs": [
        {
          "output_type": "execute_result",
          "data": {
            "text/plain": [
              "              coef\n",
              "CRIM     -0.288734\n",
              "ZN        0.877860\n",
              "INDUS     7.044132\n",
              "CHAS    -22.511923\n",
              "NOX      43.326644\n",
              "RM       -1.468983\n",
              "AGE       0.104152\n",
              "DIS      -1.549475\n",
              "RAD      14.135333\n",
              "PTRATIO   0.916181\n",
              "B        -0.002470\n",
              "LSTAT    -1.112606\n",
              "MEDV     -1.734866"
            ],
            "text/html": [
              "\n",
              "  <div id=\"df-351b58d1-a9b3-4104-91ef-1838ff58fe42\">\n",
              "    <div class=\"colab-df-container\">\n",
              "      <div>\n",
              "<style scoped>\n",
              "    .dataframe tbody tr th:only-of-type {\n",
              "        vertical-align: middle;\n",
              "    }\n",
              "\n",
              "    .dataframe tbody tr th {\n",
              "        vertical-align: top;\n",
              "    }\n",
              "\n",
              "    .dataframe thead th {\n",
              "        text-align: right;\n",
              "    }\n",
              "</style>\n",
              "<table border=\"1\" class=\"dataframe\">\n",
              "  <thead>\n",
              "    <tr style=\"text-align: right;\">\n",
              "      <th></th>\n",
              "      <th>coef</th>\n",
              "    </tr>\n",
              "  </thead>\n",
              "  <tbody>\n",
              "    <tr>\n",
              "      <th>CRIM</th>\n",
              "      <td>-0.288734</td>\n",
              "    </tr>\n",
              "    <tr>\n",
              "      <th>ZN</th>\n",
              "      <td>0.877860</td>\n",
              "    </tr>\n",
              "    <tr>\n",
              "      <th>INDUS</th>\n",
              "      <td>7.044132</td>\n",
              "    </tr>\n",
              "    <tr>\n",
              "      <th>CHAS</th>\n",
              "      <td>-22.511923</td>\n",
              "    </tr>\n",
              "    <tr>\n",
              "      <th>NOX</th>\n",
              "      <td>43.326644</td>\n",
              "    </tr>\n",
              "    <tr>\n",
              "      <th>RM</th>\n",
              "      <td>-1.468983</td>\n",
              "    </tr>\n",
              "    <tr>\n",
              "      <th>AGE</th>\n",
              "      <td>0.104152</td>\n",
              "    </tr>\n",
              "    <tr>\n",
              "      <th>DIS</th>\n",
              "      <td>-1.549475</td>\n",
              "    </tr>\n",
              "    <tr>\n",
              "      <th>RAD</th>\n",
              "      <td>14.135333</td>\n",
              "    </tr>\n",
              "    <tr>\n",
              "      <th>PTRATIO</th>\n",
              "      <td>0.916181</td>\n",
              "    </tr>\n",
              "    <tr>\n",
              "      <th>B</th>\n",
              "      <td>-0.002470</td>\n",
              "    </tr>\n",
              "    <tr>\n",
              "      <th>LSTAT</th>\n",
              "      <td>-1.112606</td>\n",
              "    </tr>\n",
              "    <tr>\n",
              "      <th>MEDV</th>\n",
              "      <td>-1.734866</td>\n",
              "    </tr>\n",
              "  </tbody>\n",
              "</table>\n",
              "</div>\n",
              "      <button class=\"colab-df-convert\" onclick=\"convertToInteractive('df-351b58d1-a9b3-4104-91ef-1838ff58fe42')\"\n",
              "              title=\"Convert this dataframe to an interactive table.\"\n",
              "              style=\"display:none;\">\n",
              "        \n",
              "  <svg xmlns=\"http://www.w3.org/2000/svg\" height=\"24px\"viewBox=\"0 0 24 24\"\n",
              "       width=\"24px\">\n",
              "    <path d=\"M0 0h24v24H0V0z\" fill=\"none\"/>\n",
              "    <path d=\"M18.56 5.44l.94 2.06.94-2.06 2.06-.94-2.06-.94-.94-2.06-.94 2.06-2.06.94zm-11 1L8.5 8.5l.94-2.06 2.06-.94-2.06-.94L8.5 2.5l-.94 2.06-2.06.94zm10 10l.94 2.06.94-2.06 2.06-.94-2.06-.94-.94-2.06-.94 2.06-2.06.94z\"/><path d=\"M17.41 7.96l-1.37-1.37c-.4-.4-.92-.59-1.43-.59-.52 0-1.04.2-1.43.59L10.3 9.45l-7.72 7.72c-.78.78-.78 2.05 0 2.83L4 21.41c.39.39.9.59 1.41.59.51 0 1.02-.2 1.41-.59l7.78-7.78 2.81-2.81c.8-.78.8-2.07 0-2.86zM5.41 20L4 18.59l7.72-7.72 1.47 1.35L5.41 20z\"/>\n",
              "  </svg>\n",
              "      </button>\n",
              "      \n",
              "  <style>\n",
              "    .colab-df-container {\n",
              "      display:flex;\n",
              "      flex-wrap:wrap;\n",
              "      gap: 12px;\n",
              "    }\n",
              "\n",
              "    .colab-df-convert {\n",
              "      background-color: #E8F0FE;\n",
              "      border: none;\n",
              "      border-radius: 50%;\n",
              "      cursor: pointer;\n",
              "      display: none;\n",
              "      fill: #1967D2;\n",
              "      height: 32px;\n",
              "      padding: 0 0 0 0;\n",
              "      width: 32px;\n",
              "    }\n",
              "\n",
              "    .colab-df-convert:hover {\n",
              "      background-color: #E2EBFA;\n",
              "      box-shadow: 0px 1px 2px rgba(60, 64, 67, 0.3), 0px 1px 3px 1px rgba(60, 64, 67, 0.15);\n",
              "      fill: #174EA6;\n",
              "    }\n",
              "\n",
              "    [theme=dark] .colab-df-convert {\n",
              "      background-color: #3B4455;\n",
              "      fill: #D2E3FC;\n",
              "    }\n",
              "\n",
              "    [theme=dark] .colab-df-convert:hover {\n",
              "      background-color: #434B5C;\n",
              "      box-shadow: 0px 1px 3px 1px rgba(0, 0, 0, 0.15);\n",
              "      filter: drop-shadow(0px 1px 2px rgba(0, 0, 0, 0.3));\n",
              "      fill: #FFFFFF;\n",
              "    }\n",
              "  </style>\n",
              "\n",
              "      <script>\n",
              "        const buttonEl =\n",
              "          document.querySelector('#df-351b58d1-a9b3-4104-91ef-1838ff58fe42 button.colab-df-convert');\n",
              "        buttonEl.style.display =\n",
              "          google.colab.kernel.accessAllowed ? 'block' : 'none';\n",
              "\n",
              "        async function convertToInteractive(key) {\n",
              "          const element = document.querySelector('#df-351b58d1-a9b3-4104-91ef-1838ff58fe42');\n",
              "          const dataTable =\n",
              "            await google.colab.kernel.invokeFunction('convertToInteractive',\n",
              "                                                     [key], {});\n",
              "          if (!dataTable) return;\n",
              "\n",
              "          const docLinkHtml = 'Like what you see? Visit the ' +\n",
              "            '<a target=\"_blank\" href=https://colab.research.google.com/notebooks/data_table.ipynb>data table notebook</a>'\n",
              "            + ' to learn more about interactive tables.';\n",
              "          element.innerHTML = '';\n",
              "          dataTable['output_type'] = 'display_data';\n",
              "          await google.colab.output.renderOutput(dataTable, element);\n",
              "          const docLink = document.createElement('div');\n",
              "          docLink.innerHTML = docLinkHtml;\n",
              "          element.appendChild(docLink);\n",
              "        }\n",
              "      </script>\n",
              "    </div>\n",
              "  </div>\n",
              "  "
            ]
          },
          "metadata": {},
          "execution_count": 9
        }
      ]
    },
    {
      "cell_type": "code",
      "source": [
        "# b - p.values\n",
        "from sklearn.feature_selection import chi2\n",
        "scores, pvalues = chi2(X,Y)\n",
        "pvalues"
      ],
      "metadata": {
        "colab": {
          "base_uri": "https://localhost:8080/"
        },
        "id": "81KsYItW5MYF",
        "outputId": "1d0ce91f-8402-4eb5-9455-9aaef22ff80b"
      },
      "execution_count": 10,
      "outputs": [
        {
          "output_type": "execute_result",
          "data": {
            "text/plain": [
              "array([0.00000000e+000, 0.00000000e+000, 0.00000000e+000, 8.19809139e-004,\n",
              "       1.00000000e+000, 1.00000000e+000, 0.00000000e+000, 6.66674967e-078,\n",
              "       0.00000000e+000, 1.83465213e-004, 0.00000000e+000, 3.16676251e-159,\n",
              "       1.40555122e-129])"
            ]
          },
          "metadata": {},
          "execution_count": 10
        }
      ]
    },
    {
      "cell_type": "code",
      "source": [
        "# c- We will exclude variable NOX and RM while finalizing the model"
      ],
      "metadata": {
        "id": "szO0cV6k5Mas"
      },
      "execution_count": null,
      "outputs": []
    },
    {
      "cell_type": "code",
      "source": [
        ""
      ],
      "metadata": {
        "id": "urz_ZHRb5MdL"
      },
      "execution_count": null,
      "outputs": []
    },
    {
      "cell_type": "code",
      "source": [
        ""
      ],
      "metadata": {
        "id": "Qk1yys8s5MgC"
      },
      "execution_count": null,
      "outputs": []
    },
    {
      "cell_type": "code",
      "source": [
        ""
      ],
      "metadata": {
        "id": "qdJAEMye5Mip"
      },
      "execution_count": null,
      "outputs": []
    },
    {
      "cell_type": "code",
      "source": [
        ""
      ],
      "metadata": {
        "id": "WHsBbgFU5MlU"
      },
      "execution_count": null,
      "outputs": []
    },
    {
      "cell_type": "code",
      "source": [
        ""
      ],
      "metadata": {
        "id": "eiLKOfoT5MoK"
      },
      "execution_count": null,
      "outputs": []
    },
    {
      "cell_type": "code",
      "source": [
        ""
      ],
      "metadata": {
        "id": "0S7XZl-75Mq6"
      },
      "execution_count": null,
      "outputs": []
    },
    {
      "cell_type": "code",
      "source": [
        ""
      ],
      "metadata": {
        "id": "NoE5Cp3t5MtW"
      },
      "execution_count": null,
      "outputs": []
    },
    {
      "cell_type": "code",
      "source": [
        ""
      ],
      "metadata": {
        "id": "Qnfd9P0b5Mvn"
      },
      "execution_count": null,
      "outputs": []
    }
  ]
}