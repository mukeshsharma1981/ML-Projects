{
  "nbformat": 4,
  "nbformat_minor": 0,
  "metadata": {
    "colab": {
      "name": "ML Support Vector Machine (GridSearchCV / SGDRegressor / SVR).ipynb",
      "provenance": [],
      "collapsed_sections": [],
      "authorship_tag": "ABX9TyNbhj1K6pm58m4Xoj5+qZtM",
      "include_colab_link": true
    },
    "kernelspec": {
      "name": "python3",
      "display_name": "Python 3"
    },
    "language_info": {
      "name": "python"
    }
  },
  "cells": [
    {
      "cell_type": "markdown",
      "metadata": {
        "id": "view-in-github",
        "colab_type": "text"
      },
      "source": [
        "<a href=\"https://colab.research.google.com/github/mukeshsharma1981/ML-Projects/blob/main/ML_Support_Vector_Machine_(GridSearchCV_SGDRegressor_SVR).ipynb\" target=\"_parent\"><img src=\"https://colab.research.google.com/assets/colab-badge.svg\" alt=\"Open In Colab\"/></a>"
      ]
    },
    {
      "cell_type": "code",
      "execution_count": 52,
      "metadata": {
        "id": "dCnqDozMLDwC"
      },
      "outputs": [],
      "source": [
        "import numpy as np\n",
        "import pandas as pd\n",
        "from sklearn.preprocessing import StandardScaler\n",
        "from sklearn.model_selection import GridSearchCV\n",
        "from sklearn.linear_model import SGDRegressor\n",
        "from sklearn.svm import SVR\n",
        "import plotly.graph_objs as go\n",
        "import plotly.figure_factory as ff"
      ]
    },
    {
      "cell_type": "code",
      "source": [
        "dataset = pd.read_csv('/content/PricePrediction.csv')"
      ],
      "metadata": {
        "id": "QkL7EzZbMa-Y"
      },
      "execution_count": 66,
      "outputs": []
    },
    {
      "cell_type": "code",
      "source": [
        "dataset.head()"
      ],
      "metadata": {
        "colab": {
          "base_uri": "https://localhost:8080/",
          "height": 300
        },
        "id": "LsQAjnKyMbBW",
        "outputId": "f6b88917-33c7-452d-fc00-9ffb7c273519"
      },
      "execution_count": 67,
      "outputs": [
        {
          "output_type": "execute_result",
          "data": {
            "text/plain": [
              "   LotArea  YearBuilt  YearRemodelled  TotalBsmtSF CentralAir  1stFlrSF  \\\n",
              "0     8450       2003            2003          856          Y       856   \n",
              "1     9600       1976            1976         1262          Y      1262   \n",
              "2    11250       2001            2002          920          Y       920   \n",
              "3     9550       1915            1970          756          Y       961   \n",
              "4    14260       2000            2000         1145          Y      1145   \n",
              "\n",
              "   2ndFlrSF  GrLivArea  BsmtFullBath  BsmtHalfBath  ...  BedroomAbvGr  \\\n",
              "0       854       1710             1             0  ...             3   \n",
              "1         0       1262             0             1  ...             3   \n",
              "2       866       1786             1             0  ...             3   \n",
              "3       756       1717             1             0  ...             3   \n",
              "4      1053       2198             1             0  ...             4   \n",
              "\n",
              "   KitchenAbvGr  TotRmsAbvGrd  Fireplaces  GarageCars  GarageArea  PavedDrive  \\\n",
              "0             1             8           0           2         548           Y   \n",
              "1             1             6           1           2         460           Y   \n",
              "2             1             6           1           2         608           Y   \n",
              "3             1             7           1           3         642           Y   \n",
              "4             1             9           1           3         836           Y   \n",
              "\n",
              "   WoodDeckSF PoolArea  SalePrice  \n",
              "0           0        0     208500  \n",
              "1         298        0     181500  \n",
              "2           0        0     223500  \n",
              "3           0        0     140000  \n",
              "4         192        0     250000  \n",
              "\n",
              "[5 rows x 22 columns]"
            ],
            "text/html": [
              "\n",
              "  <div id=\"df-92e8fa55-da46-48cb-b582-9d172a70eb35\">\n",
              "    <div class=\"colab-df-container\">\n",
              "      <div>\n",
              "<style scoped>\n",
              "    .dataframe tbody tr th:only-of-type {\n",
              "        vertical-align: middle;\n",
              "    }\n",
              "\n",
              "    .dataframe tbody tr th {\n",
              "        vertical-align: top;\n",
              "    }\n",
              "\n",
              "    .dataframe thead th {\n",
              "        text-align: right;\n",
              "    }\n",
              "</style>\n",
              "<table border=\"1\" class=\"dataframe\">\n",
              "  <thead>\n",
              "    <tr style=\"text-align: right;\">\n",
              "      <th></th>\n",
              "      <th>LotArea</th>\n",
              "      <th>YearBuilt</th>\n",
              "      <th>YearRemodelled</th>\n",
              "      <th>TotalBsmtSF</th>\n",
              "      <th>CentralAir</th>\n",
              "      <th>1stFlrSF</th>\n",
              "      <th>2ndFlrSF</th>\n",
              "      <th>GrLivArea</th>\n",
              "      <th>BsmtFullBath</th>\n",
              "      <th>BsmtHalfBath</th>\n",
              "      <th>...</th>\n",
              "      <th>BedroomAbvGr</th>\n",
              "      <th>KitchenAbvGr</th>\n",
              "      <th>TotRmsAbvGrd</th>\n",
              "      <th>Fireplaces</th>\n",
              "      <th>GarageCars</th>\n",
              "      <th>GarageArea</th>\n",
              "      <th>PavedDrive</th>\n",
              "      <th>WoodDeckSF</th>\n",
              "      <th>PoolArea</th>\n",
              "      <th>SalePrice</th>\n",
              "    </tr>\n",
              "  </thead>\n",
              "  <tbody>\n",
              "    <tr>\n",
              "      <th>0</th>\n",
              "      <td>8450</td>\n",
              "      <td>2003</td>\n",
              "      <td>2003</td>\n",
              "      <td>856</td>\n",
              "      <td>Y</td>\n",
              "      <td>856</td>\n",
              "      <td>854</td>\n",
              "      <td>1710</td>\n",
              "      <td>1</td>\n",
              "      <td>0</td>\n",
              "      <td>...</td>\n",
              "      <td>3</td>\n",
              "      <td>1</td>\n",
              "      <td>8</td>\n",
              "      <td>0</td>\n",
              "      <td>2</td>\n",
              "      <td>548</td>\n",
              "      <td>Y</td>\n",
              "      <td>0</td>\n",
              "      <td>0</td>\n",
              "      <td>208500</td>\n",
              "    </tr>\n",
              "    <tr>\n",
              "      <th>1</th>\n",
              "      <td>9600</td>\n",
              "      <td>1976</td>\n",
              "      <td>1976</td>\n",
              "      <td>1262</td>\n",
              "      <td>Y</td>\n",
              "      <td>1262</td>\n",
              "      <td>0</td>\n",
              "      <td>1262</td>\n",
              "      <td>0</td>\n",
              "      <td>1</td>\n",
              "      <td>...</td>\n",
              "      <td>3</td>\n",
              "      <td>1</td>\n",
              "      <td>6</td>\n",
              "      <td>1</td>\n",
              "      <td>2</td>\n",
              "      <td>460</td>\n",
              "      <td>Y</td>\n",
              "      <td>298</td>\n",
              "      <td>0</td>\n",
              "      <td>181500</td>\n",
              "    </tr>\n",
              "    <tr>\n",
              "      <th>2</th>\n",
              "      <td>11250</td>\n",
              "      <td>2001</td>\n",
              "      <td>2002</td>\n",
              "      <td>920</td>\n",
              "      <td>Y</td>\n",
              "      <td>920</td>\n",
              "      <td>866</td>\n",
              "      <td>1786</td>\n",
              "      <td>1</td>\n",
              "      <td>0</td>\n",
              "      <td>...</td>\n",
              "      <td>3</td>\n",
              "      <td>1</td>\n",
              "      <td>6</td>\n",
              "      <td>1</td>\n",
              "      <td>2</td>\n",
              "      <td>608</td>\n",
              "      <td>Y</td>\n",
              "      <td>0</td>\n",
              "      <td>0</td>\n",
              "      <td>223500</td>\n",
              "    </tr>\n",
              "    <tr>\n",
              "      <th>3</th>\n",
              "      <td>9550</td>\n",
              "      <td>1915</td>\n",
              "      <td>1970</td>\n",
              "      <td>756</td>\n",
              "      <td>Y</td>\n",
              "      <td>961</td>\n",
              "      <td>756</td>\n",
              "      <td>1717</td>\n",
              "      <td>1</td>\n",
              "      <td>0</td>\n",
              "      <td>...</td>\n",
              "      <td>3</td>\n",
              "      <td>1</td>\n",
              "      <td>7</td>\n",
              "      <td>1</td>\n",
              "      <td>3</td>\n",
              "      <td>642</td>\n",
              "      <td>Y</td>\n",
              "      <td>0</td>\n",
              "      <td>0</td>\n",
              "      <td>140000</td>\n",
              "    </tr>\n",
              "    <tr>\n",
              "      <th>4</th>\n",
              "      <td>14260</td>\n",
              "      <td>2000</td>\n",
              "      <td>2000</td>\n",
              "      <td>1145</td>\n",
              "      <td>Y</td>\n",
              "      <td>1145</td>\n",
              "      <td>1053</td>\n",
              "      <td>2198</td>\n",
              "      <td>1</td>\n",
              "      <td>0</td>\n",
              "      <td>...</td>\n",
              "      <td>4</td>\n",
              "      <td>1</td>\n",
              "      <td>9</td>\n",
              "      <td>1</td>\n",
              "      <td>3</td>\n",
              "      <td>836</td>\n",
              "      <td>Y</td>\n",
              "      <td>192</td>\n",
              "      <td>0</td>\n",
              "      <td>250000</td>\n",
              "    </tr>\n",
              "  </tbody>\n",
              "</table>\n",
              "<p>5 rows × 22 columns</p>\n",
              "</div>\n",
              "      <button class=\"colab-df-convert\" onclick=\"convertToInteractive('df-92e8fa55-da46-48cb-b582-9d172a70eb35')\"\n",
              "              title=\"Convert this dataframe to an interactive table.\"\n",
              "              style=\"display:none;\">\n",
              "        \n",
              "  <svg xmlns=\"http://www.w3.org/2000/svg\" height=\"24px\"viewBox=\"0 0 24 24\"\n",
              "       width=\"24px\">\n",
              "    <path d=\"M0 0h24v24H0V0z\" fill=\"none\"/>\n",
              "    <path d=\"M18.56 5.44l.94 2.06.94-2.06 2.06-.94-2.06-.94-.94-2.06-.94 2.06-2.06.94zm-11 1L8.5 8.5l.94-2.06 2.06-.94-2.06-.94L8.5 2.5l-.94 2.06-2.06.94zm10 10l.94 2.06.94-2.06 2.06-.94-2.06-.94-.94-2.06-.94 2.06-2.06.94z\"/><path d=\"M17.41 7.96l-1.37-1.37c-.4-.4-.92-.59-1.43-.59-.52 0-1.04.2-1.43.59L10.3 9.45l-7.72 7.72c-.78.78-.78 2.05 0 2.83L4 21.41c.39.39.9.59 1.41.59.51 0 1.02-.2 1.41-.59l7.78-7.78 2.81-2.81c.8-.78.8-2.07 0-2.86zM5.41 20L4 18.59l7.72-7.72 1.47 1.35L5.41 20z\"/>\n",
              "  </svg>\n",
              "      </button>\n",
              "      \n",
              "  <style>\n",
              "    .colab-df-container {\n",
              "      display:flex;\n",
              "      flex-wrap:wrap;\n",
              "      gap: 12px;\n",
              "    }\n",
              "\n",
              "    .colab-df-convert {\n",
              "      background-color: #E8F0FE;\n",
              "      border: none;\n",
              "      border-radius: 50%;\n",
              "      cursor: pointer;\n",
              "      display: none;\n",
              "      fill: #1967D2;\n",
              "      height: 32px;\n",
              "      padding: 0 0 0 0;\n",
              "      width: 32px;\n",
              "    }\n",
              "\n",
              "    .colab-df-convert:hover {\n",
              "      background-color: #E2EBFA;\n",
              "      box-shadow: 0px 1px 2px rgba(60, 64, 67, 0.3), 0px 1px 3px 1px rgba(60, 64, 67, 0.15);\n",
              "      fill: #174EA6;\n",
              "    }\n",
              "\n",
              "    [theme=dark] .colab-df-convert {\n",
              "      background-color: #3B4455;\n",
              "      fill: #D2E3FC;\n",
              "    }\n",
              "\n",
              "    [theme=dark] .colab-df-convert:hover {\n",
              "      background-color: #434B5C;\n",
              "      box-shadow: 0px 1px 3px 1px rgba(0, 0, 0, 0.15);\n",
              "      filter: drop-shadow(0px 1px 2px rgba(0, 0, 0, 0.3));\n",
              "      fill: #FFFFFF;\n",
              "    }\n",
              "  </style>\n",
              "\n",
              "      <script>\n",
              "        const buttonEl =\n",
              "          document.querySelector('#df-92e8fa55-da46-48cb-b582-9d172a70eb35 button.colab-df-convert');\n",
              "        buttonEl.style.display =\n",
              "          google.colab.kernel.accessAllowed ? 'block' : 'none';\n",
              "\n",
              "        async function convertToInteractive(key) {\n",
              "          const element = document.querySelector('#df-92e8fa55-da46-48cb-b582-9d172a70eb35');\n",
              "          const dataTable =\n",
              "            await google.colab.kernel.invokeFunction('convertToInteractive',\n",
              "                                                     [key], {});\n",
              "          if (!dataTable) return;\n",
              "\n",
              "          const docLinkHtml = 'Like what you see? Visit the ' +\n",
              "            '<a target=\"_blank\" href=https://colab.research.google.com/notebooks/data_table.ipynb>data table notebook</a>'\n",
              "            + ' to learn more about interactive tables.';\n",
              "          element.innerHTML = '';\n",
              "          dataTable['output_type'] = 'display_data';\n",
              "          await google.colab.output.renderOutput(dataTable, element);\n",
              "          const docLink = document.createElement('div');\n",
              "          docLink.innerHTML = docLinkHtml;\n",
              "          element.appendChild(docLink);\n",
              "        }\n",
              "      </script>\n",
              "    </div>\n",
              "  </div>\n",
              "  "
            ]
          },
          "metadata": {},
          "execution_count": 67
        }
      ]
    },
    {
      "cell_type": "code",
      "source": [
        "dataset.shape"
      ],
      "metadata": {
        "colab": {
          "base_uri": "https://localhost:8080/"
        },
        "id": "HnkSgCRcMbEP",
        "outputId": "43fd1e2a-e65e-4e49-f85a-618b4e0cd516"
      },
      "execution_count": 68,
      "outputs": [
        {
          "output_type": "execute_result",
          "data": {
            "text/plain": [
              "(1460, 22)"
            ]
          },
          "metadata": {},
          "execution_count": 68
        }
      ]
    },
    {
      "cell_type": "code",
      "source": [
        "dataset.info()"
      ],
      "metadata": {
        "colab": {
          "base_uri": "https://localhost:8080/"
        },
        "id": "Of8y89-jMbHK",
        "outputId": "be71c236-ea0a-499a-cb16-8d3d204b799c"
      },
      "execution_count": 69,
      "outputs": [
        {
          "output_type": "stream",
          "name": "stdout",
          "text": [
            "<class 'pandas.core.frame.DataFrame'>\n",
            "RangeIndex: 1460 entries, 0 to 1459\n",
            "Data columns (total 22 columns):\n",
            " #   Column          Non-Null Count  Dtype \n",
            "---  ------          --------------  ----- \n",
            " 0   LotArea         1460 non-null   int64 \n",
            " 1   YearBuilt       1460 non-null   int64 \n",
            " 2   YearRemodelled  1460 non-null   int64 \n",
            " 3   TotalBsmtSF     1460 non-null   int64 \n",
            " 4   CentralAir      1460 non-null   object\n",
            " 5   1stFlrSF        1460 non-null   int64 \n",
            " 6   2ndFlrSF        1460 non-null   int64 \n",
            " 7   GrLivArea       1460 non-null   int64 \n",
            " 8   BsmtFullBath    1460 non-null   int64 \n",
            " 9   BsmtHalfBath    1460 non-null   int64 \n",
            " 10  FullBath        1460 non-null   int64 \n",
            " 11  HalfBath        1460 non-null   int64 \n",
            " 12  BedroomAbvGr    1460 non-null   int64 \n",
            " 13  KitchenAbvGr    1460 non-null   int64 \n",
            " 14  TotRmsAbvGrd    1460 non-null   int64 \n",
            " 15  Fireplaces      1460 non-null   int64 \n",
            " 16  GarageCars      1460 non-null   int64 \n",
            " 17  GarageArea      1460 non-null   int64 \n",
            " 18  PavedDrive      1460 non-null   object\n",
            " 19  WoodDeckSF      1460 non-null   int64 \n",
            " 20  PoolArea        1460 non-null   int64 \n",
            " 21  SalePrice       1460 non-null   int64 \n",
            "dtypes: int64(20), object(2)\n",
            "memory usage: 251.1+ KB\n"
          ]
        }
      ]
    },
    {
      "cell_type": "code",
      "source": [
        "dataset.describe().T"
      ],
      "metadata": {
        "colab": {
          "base_uri": "https://localhost:8080/",
          "height": 676
        },
        "id": "5CvGiVYTMbJ7",
        "outputId": "99d17c60-e62d-400e-a604-756c63b227ce"
      },
      "execution_count": 70,
      "outputs": [
        {
          "output_type": "execute_result",
          "data": {
            "text/plain": [
              "                 count           mean           std      min        25%  \\\n",
              "LotArea         1460.0   10516.828082   9981.264932   1300.0    7553.50   \n",
              "YearBuilt       1460.0    1971.267808     30.202904   1872.0    1954.00   \n",
              "YearRemodelled  1460.0    1984.865753     20.645407   1950.0    1967.00   \n",
              "TotalBsmtSF     1460.0    1057.429452    438.705324      0.0     795.75   \n",
              "1stFlrSF        1460.0    1162.626712    386.587738    334.0     882.00   \n",
              "2ndFlrSF        1460.0     346.992466    436.528436      0.0       0.00   \n",
              "GrLivArea       1460.0    1515.463699    525.480383    334.0    1129.50   \n",
              "BsmtFullBath    1460.0       0.425342      0.518911      0.0       0.00   \n",
              "BsmtHalfBath    1460.0       0.057534      0.238753      0.0       0.00   \n",
              "FullBath        1460.0       1.565068      0.550916      0.0       1.00   \n",
              "HalfBath        1460.0       0.382877      0.502885      0.0       0.00   \n",
              "BedroomAbvGr    1460.0       2.866438      0.815778      0.0       2.00   \n",
              "KitchenAbvGr    1460.0       1.046575      0.220338      0.0       1.00   \n",
              "TotRmsAbvGrd    1460.0       6.517808      1.625393      2.0       5.00   \n",
              "Fireplaces      1460.0       0.613014      0.644666      0.0       0.00   \n",
              "GarageCars      1460.0       1.767123      0.747315      0.0       1.00   \n",
              "GarageArea      1460.0     472.980137    213.804841      0.0     334.50   \n",
              "WoodDeckSF      1460.0      94.244521    125.338794      0.0       0.00   \n",
              "PoolArea        1460.0       2.758904     40.177307      0.0       0.00   \n",
              "SalePrice       1460.0  180921.195890  79442.502883  34900.0  129975.00   \n",
              "\n",
              "                     50%        75%       max  \n",
              "LotArea           9478.5   11601.50  215245.0  \n",
              "YearBuilt         1973.0    2000.00    2010.0  \n",
              "YearRemodelled    1994.0    2004.00    2010.0  \n",
              "TotalBsmtSF        991.5    1298.25    6110.0  \n",
              "1stFlrSF          1087.0    1391.25    4692.0  \n",
              "2ndFlrSF             0.0     728.00    2065.0  \n",
              "GrLivArea         1464.0    1776.75    5642.0  \n",
              "BsmtFullBath         0.0       1.00       3.0  \n",
              "BsmtHalfBath         0.0       0.00       2.0  \n",
              "FullBath             2.0       2.00       3.0  \n",
              "HalfBath             0.0       1.00       2.0  \n",
              "BedroomAbvGr         3.0       3.00       8.0  \n",
              "KitchenAbvGr         1.0       1.00       3.0  \n",
              "TotRmsAbvGrd         6.0       7.00      14.0  \n",
              "Fireplaces           1.0       1.00       3.0  \n",
              "GarageCars           2.0       2.00       4.0  \n",
              "GarageArea         480.0     576.00    1418.0  \n",
              "WoodDeckSF           0.0     168.00     857.0  \n",
              "PoolArea             0.0       0.00     738.0  \n",
              "SalePrice       163000.0  214000.00  755000.0  "
            ],
            "text/html": [
              "\n",
              "  <div id=\"df-82b27554-9513-4b30-84b9-8a9aa71a5874\">\n",
              "    <div class=\"colab-df-container\">\n",
              "      <div>\n",
              "<style scoped>\n",
              "    .dataframe tbody tr th:only-of-type {\n",
              "        vertical-align: middle;\n",
              "    }\n",
              "\n",
              "    .dataframe tbody tr th {\n",
              "        vertical-align: top;\n",
              "    }\n",
              "\n",
              "    .dataframe thead th {\n",
              "        text-align: right;\n",
              "    }\n",
              "</style>\n",
              "<table border=\"1\" class=\"dataframe\">\n",
              "  <thead>\n",
              "    <tr style=\"text-align: right;\">\n",
              "      <th></th>\n",
              "      <th>count</th>\n",
              "      <th>mean</th>\n",
              "      <th>std</th>\n",
              "      <th>min</th>\n",
              "      <th>25%</th>\n",
              "      <th>50%</th>\n",
              "      <th>75%</th>\n",
              "      <th>max</th>\n",
              "    </tr>\n",
              "  </thead>\n",
              "  <tbody>\n",
              "    <tr>\n",
              "      <th>LotArea</th>\n",
              "      <td>1460.0</td>\n",
              "      <td>10516.828082</td>\n",
              "      <td>9981.264932</td>\n",
              "      <td>1300.0</td>\n",
              "      <td>7553.50</td>\n",
              "      <td>9478.5</td>\n",
              "      <td>11601.50</td>\n",
              "      <td>215245.0</td>\n",
              "    </tr>\n",
              "    <tr>\n",
              "      <th>YearBuilt</th>\n",
              "      <td>1460.0</td>\n",
              "      <td>1971.267808</td>\n",
              "      <td>30.202904</td>\n",
              "      <td>1872.0</td>\n",
              "      <td>1954.00</td>\n",
              "      <td>1973.0</td>\n",
              "      <td>2000.00</td>\n",
              "      <td>2010.0</td>\n",
              "    </tr>\n",
              "    <tr>\n",
              "      <th>YearRemodelled</th>\n",
              "      <td>1460.0</td>\n",
              "      <td>1984.865753</td>\n",
              "      <td>20.645407</td>\n",
              "      <td>1950.0</td>\n",
              "      <td>1967.00</td>\n",
              "      <td>1994.0</td>\n",
              "      <td>2004.00</td>\n",
              "      <td>2010.0</td>\n",
              "    </tr>\n",
              "    <tr>\n",
              "      <th>TotalBsmtSF</th>\n",
              "      <td>1460.0</td>\n",
              "      <td>1057.429452</td>\n",
              "      <td>438.705324</td>\n",
              "      <td>0.0</td>\n",
              "      <td>795.75</td>\n",
              "      <td>991.5</td>\n",
              "      <td>1298.25</td>\n",
              "      <td>6110.0</td>\n",
              "    </tr>\n",
              "    <tr>\n",
              "      <th>1stFlrSF</th>\n",
              "      <td>1460.0</td>\n",
              "      <td>1162.626712</td>\n",
              "      <td>386.587738</td>\n",
              "      <td>334.0</td>\n",
              "      <td>882.00</td>\n",
              "      <td>1087.0</td>\n",
              "      <td>1391.25</td>\n",
              "      <td>4692.0</td>\n",
              "    </tr>\n",
              "    <tr>\n",
              "      <th>2ndFlrSF</th>\n",
              "      <td>1460.0</td>\n",
              "      <td>346.992466</td>\n",
              "      <td>436.528436</td>\n",
              "      <td>0.0</td>\n",
              "      <td>0.00</td>\n",
              "      <td>0.0</td>\n",
              "      <td>728.00</td>\n",
              "      <td>2065.0</td>\n",
              "    </tr>\n",
              "    <tr>\n",
              "      <th>GrLivArea</th>\n",
              "      <td>1460.0</td>\n",
              "      <td>1515.463699</td>\n",
              "      <td>525.480383</td>\n",
              "      <td>334.0</td>\n",
              "      <td>1129.50</td>\n",
              "      <td>1464.0</td>\n",
              "      <td>1776.75</td>\n",
              "      <td>5642.0</td>\n",
              "    </tr>\n",
              "    <tr>\n",
              "      <th>BsmtFullBath</th>\n",
              "      <td>1460.0</td>\n",
              "      <td>0.425342</td>\n",
              "      <td>0.518911</td>\n",
              "      <td>0.0</td>\n",
              "      <td>0.00</td>\n",
              "      <td>0.0</td>\n",
              "      <td>1.00</td>\n",
              "      <td>3.0</td>\n",
              "    </tr>\n",
              "    <tr>\n",
              "      <th>BsmtHalfBath</th>\n",
              "      <td>1460.0</td>\n",
              "      <td>0.057534</td>\n",
              "      <td>0.238753</td>\n",
              "      <td>0.0</td>\n",
              "      <td>0.00</td>\n",
              "      <td>0.0</td>\n",
              "      <td>0.00</td>\n",
              "      <td>2.0</td>\n",
              "    </tr>\n",
              "    <tr>\n",
              "      <th>FullBath</th>\n",
              "      <td>1460.0</td>\n",
              "      <td>1.565068</td>\n",
              "      <td>0.550916</td>\n",
              "      <td>0.0</td>\n",
              "      <td>1.00</td>\n",
              "      <td>2.0</td>\n",
              "      <td>2.00</td>\n",
              "      <td>3.0</td>\n",
              "    </tr>\n",
              "    <tr>\n",
              "      <th>HalfBath</th>\n",
              "      <td>1460.0</td>\n",
              "      <td>0.382877</td>\n",
              "      <td>0.502885</td>\n",
              "      <td>0.0</td>\n",
              "      <td>0.00</td>\n",
              "      <td>0.0</td>\n",
              "      <td>1.00</td>\n",
              "      <td>2.0</td>\n",
              "    </tr>\n",
              "    <tr>\n",
              "      <th>BedroomAbvGr</th>\n",
              "      <td>1460.0</td>\n",
              "      <td>2.866438</td>\n",
              "      <td>0.815778</td>\n",
              "      <td>0.0</td>\n",
              "      <td>2.00</td>\n",
              "      <td>3.0</td>\n",
              "      <td>3.00</td>\n",
              "      <td>8.0</td>\n",
              "    </tr>\n",
              "    <tr>\n",
              "      <th>KitchenAbvGr</th>\n",
              "      <td>1460.0</td>\n",
              "      <td>1.046575</td>\n",
              "      <td>0.220338</td>\n",
              "      <td>0.0</td>\n",
              "      <td>1.00</td>\n",
              "      <td>1.0</td>\n",
              "      <td>1.00</td>\n",
              "      <td>3.0</td>\n",
              "    </tr>\n",
              "    <tr>\n",
              "      <th>TotRmsAbvGrd</th>\n",
              "      <td>1460.0</td>\n",
              "      <td>6.517808</td>\n",
              "      <td>1.625393</td>\n",
              "      <td>2.0</td>\n",
              "      <td>5.00</td>\n",
              "      <td>6.0</td>\n",
              "      <td>7.00</td>\n",
              "      <td>14.0</td>\n",
              "    </tr>\n",
              "    <tr>\n",
              "      <th>Fireplaces</th>\n",
              "      <td>1460.0</td>\n",
              "      <td>0.613014</td>\n",
              "      <td>0.644666</td>\n",
              "      <td>0.0</td>\n",
              "      <td>0.00</td>\n",
              "      <td>1.0</td>\n",
              "      <td>1.00</td>\n",
              "      <td>3.0</td>\n",
              "    </tr>\n",
              "    <tr>\n",
              "      <th>GarageCars</th>\n",
              "      <td>1460.0</td>\n",
              "      <td>1.767123</td>\n",
              "      <td>0.747315</td>\n",
              "      <td>0.0</td>\n",
              "      <td>1.00</td>\n",
              "      <td>2.0</td>\n",
              "      <td>2.00</td>\n",
              "      <td>4.0</td>\n",
              "    </tr>\n",
              "    <tr>\n",
              "      <th>GarageArea</th>\n",
              "      <td>1460.0</td>\n",
              "      <td>472.980137</td>\n",
              "      <td>213.804841</td>\n",
              "      <td>0.0</td>\n",
              "      <td>334.50</td>\n",
              "      <td>480.0</td>\n",
              "      <td>576.00</td>\n",
              "      <td>1418.0</td>\n",
              "    </tr>\n",
              "    <tr>\n",
              "      <th>WoodDeckSF</th>\n",
              "      <td>1460.0</td>\n",
              "      <td>94.244521</td>\n",
              "      <td>125.338794</td>\n",
              "      <td>0.0</td>\n",
              "      <td>0.00</td>\n",
              "      <td>0.0</td>\n",
              "      <td>168.00</td>\n",
              "      <td>857.0</td>\n",
              "    </tr>\n",
              "    <tr>\n",
              "      <th>PoolArea</th>\n",
              "      <td>1460.0</td>\n",
              "      <td>2.758904</td>\n",
              "      <td>40.177307</td>\n",
              "      <td>0.0</td>\n",
              "      <td>0.00</td>\n",
              "      <td>0.0</td>\n",
              "      <td>0.00</td>\n",
              "      <td>738.0</td>\n",
              "    </tr>\n",
              "    <tr>\n",
              "      <th>SalePrice</th>\n",
              "      <td>1460.0</td>\n",
              "      <td>180921.195890</td>\n",
              "      <td>79442.502883</td>\n",
              "      <td>34900.0</td>\n",
              "      <td>129975.00</td>\n",
              "      <td>163000.0</td>\n",
              "      <td>214000.00</td>\n",
              "      <td>755000.0</td>\n",
              "    </tr>\n",
              "  </tbody>\n",
              "</table>\n",
              "</div>\n",
              "      <button class=\"colab-df-convert\" onclick=\"convertToInteractive('df-82b27554-9513-4b30-84b9-8a9aa71a5874')\"\n",
              "              title=\"Convert this dataframe to an interactive table.\"\n",
              "              style=\"display:none;\">\n",
              "        \n",
              "  <svg xmlns=\"http://www.w3.org/2000/svg\" height=\"24px\"viewBox=\"0 0 24 24\"\n",
              "       width=\"24px\">\n",
              "    <path d=\"M0 0h24v24H0V0z\" fill=\"none\"/>\n",
              "    <path d=\"M18.56 5.44l.94 2.06.94-2.06 2.06-.94-2.06-.94-.94-2.06-.94 2.06-2.06.94zm-11 1L8.5 8.5l.94-2.06 2.06-.94-2.06-.94L8.5 2.5l-.94 2.06-2.06.94zm10 10l.94 2.06.94-2.06 2.06-.94-2.06-.94-.94-2.06-.94 2.06-2.06.94z\"/><path d=\"M17.41 7.96l-1.37-1.37c-.4-.4-.92-.59-1.43-.59-.52 0-1.04.2-1.43.59L10.3 9.45l-7.72 7.72c-.78.78-.78 2.05 0 2.83L4 21.41c.39.39.9.59 1.41.59.51 0 1.02-.2 1.41-.59l7.78-7.78 2.81-2.81c.8-.78.8-2.07 0-2.86zM5.41 20L4 18.59l7.72-7.72 1.47 1.35L5.41 20z\"/>\n",
              "  </svg>\n",
              "      </button>\n",
              "      \n",
              "  <style>\n",
              "    .colab-df-container {\n",
              "      display:flex;\n",
              "      flex-wrap:wrap;\n",
              "      gap: 12px;\n",
              "    }\n",
              "\n",
              "    .colab-df-convert {\n",
              "      background-color: #E8F0FE;\n",
              "      border: none;\n",
              "      border-radius: 50%;\n",
              "      cursor: pointer;\n",
              "      display: none;\n",
              "      fill: #1967D2;\n",
              "      height: 32px;\n",
              "      padding: 0 0 0 0;\n",
              "      width: 32px;\n",
              "    }\n",
              "\n",
              "    .colab-df-convert:hover {\n",
              "      background-color: #E2EBFA;\n",
              "      box-shadow: 0px 1px 2px rgba(60, 64, 67, 0.3), 0px 1px 3px 1px rgba(60, 64, 67, 0.15);\n",
              "      fill: #174EA6;\n",
              "    }\n",
              "\n",
              "    [theme=dark] .colab-df-convert {\n",
              "      background-color: #3B4455;\n",
              "      fill: #D2E3FC;\n",
              "    }\n",
              "\n",
              "    [theme=dark] .colab-df-convert:hover {\n",
              "      background-color: #434B5C;\n",
              "      box-shadow: 0px 1px 3px 1px rgba(0, 0, 0, 0.15);\n",
              "      filter: drop-shadow(0px 1px 2px rgba(0, 0, 0, 0.3));\n",
              "      fill: #FFFFFF;\n",
              "    }\n",
              "  </style>\n",
              "\n",
              "      <script>\n",
              "        const buttonEl =\n",
              "          document.querySelector('#df-82b27554-9513-4b30-84b9-8a9aa71a5874 button.colab-df-convert');\n",
              "        buttonEl.style.display =\n",
              "          google.colab.kernel.accessAllowed ? 'block' : 'none';\n",
              "\n",
              "        async function convertToInteractive(key) {\n",
              "          const element = document.querySelector('#df-82b27554-9513-4b30-84b9-8a9aa71a5874');\n",
              "          const dataTable =\n",
              "            await google.colab.kernel.invokeFunction('convertToInteractive',\n",
              "                                                     [key], {});\n",
              "          if (!dataTable) return;\n",
              "\n",
              "          const docLinkHtml = 'Like what you see? Visit the ' +\n",
              "            '<a target=\"_blank\" href=https://colab.research.google.com/notebooks/data_table.ipynb>data table notebook</a>'\n",
              "            + ' to learn more about interactive tables.';\n",
              "          element.innerHTML = '';\n",
              "          dataTable['output_type'] = 'display_data';\n",
              "          await google.colab.output.renderOutput(dataTable, element);\n",
              "          const docLink = document.createElement('div');\n",
              "          docLink.innerHTML = docLinkHtml;\n",
              "          element.appendChild(docLink);\n",
              "        }\n",
              "      </script>\n",
              "    </div>\n",
              "  </div>\n",
              "  "
            ]
          },
          "metadata": {},
          "execution_count": 70
        }
      ]
    },
    {
      "cell_type": "code",
      "source": [
        "# dataset['PavedDrive'].unique()\n",
        "# dataset['CentralAir'].unique()"
      ],
      "metadata": {
        "colab": {
          "base_uri": "https://localhost:8080/"
        },
        "id": "5QFFYJSaSMhs",
        "outputId": "352dea42-aada-4e3f-ca7d-cd124f9043a5"
      },
      "execution_count": 42,
      "outputs": [
        {
          "output_type": "execute_result",
          "data": {
            "text/plain": [
              "array([1, 0])"
            ]
          },
          "metadata": {},
          "execution_count": 42
        }
      ]
    },
    {
      "cell_type": "code",
      "source": [
        "def converter(column):\n",
        "  if column==Y:\n",
        "    return 1\n",
        "  else:\n",
        "    return 0  "
      ],
      "metadata": {
        "id": "zpKjz2ESMbMt"
      },
      "execution_count": 29,
      "outputs": []
    },
    {
      "cell_type": "code",
      "source": [
        "dataset['CentralAir']=dataset['CentralAir'].map({'Y' : 1, 'N' : 0})\n",
        "dataset['PavedDrive']=dataset['PavedDrive'].map({'P' : 2, 'Y' : 1, 'N' : 0})\n",
        "\n",
        "## dataset['CentralAir'] = dataset['CentralAir'].apply(converter)\n",
        "## dataset['PavedDrive'] = dataset['PavedDrive'].apply(converter)"
      ],
      "metadata": {
        "id": "zjM_6xU-MbPo"
      },
      "execution_count": 71,
      "outputs": []
    },
    {
      "cell_type": "code",
      "source": [
        "dataset.info()"
      ],
      "metadata": {
        "colab": {
          "base_uri": "https://localhost:8080/"
        },
        "id": "mZEVK7HBMbSJ",
        "outputId": "61955d58-0ea7-4ee3-ff30-5b9630b67c48"
      },
      "execution_count": 72,
      "outputs": [
        {
          "output_type": "stream",
          "name": "stdout",
          "text": [
            "<class 'pandas.core.frame.DataFrame'>\n",
            "RangeIndex: 1460 entries, 0 to 1459\n",
            "Data columns (total 22 columns):\n",
            " #   Column          Non-Null Count  Dtype\n",
            "---  ------          --------------  -----\n",
            " 0   LotArea         1460 non-null   int64\n",
            " 1   YearBuilt       1460 non-null   int64\n",
            " 2   YearRemodelled  1460 non-null   int64\n",
            " 3   TotalBsmtSF     1460 non-null   int64\n",
            " 4   CentralAir      1460 non-null   int64\n",
            " 5   1stFlrSF        1460 non-null   int64\n",
            " 6   2ndFlrSF        1460 non-null   int64\n",
            " 7   GrLivArea       1460 non-null   int64\n",
            " 8   BsmtFullBath    1460 non-null   int64\n",
            " 9   BsmtHalfBath    1460 non-null   int64\n",
            " 10  FullBath        1460 non-null   int64\n",
            " 11  HalfBath        1460 non-null   int64\n",
            " 12  BedroomAbvGr    1460 non-null   int64\n",
            " 13  KitchenAbvGr    1460 non-null   int64\n",
            " 14  TotRmsAbvGrd    1460 non-null   int64\n",
            " 15  Fireplaces      1460 non-null   int64\n",
            " 16  GarageCars      1460 non-null   int64\n",
            " 17  GarageArea      1460 non-null   int64\n",
            " 18  PavedDrive      1460 non-null   int64\n",
            " 19  WoodDeckSF      1460 non-null   int64\n",
            " 20  PoolArea        1460 non-null   int64\n",
            " 21  SalePrice       1460 non-null   int64\n",
            "dtypes: int64(22)\n",
            "memory usage: 251.1 KB\n"
          ]
        }
      ]
    },
    {
      "cell_type": "code",
      "source": [
        "dataset.head(5)"
      ],
      "metadata": {
        "colab": {
          "base_uri": "https://localhost:8080/",
          "height": 300
        },
        "id": "FvWDrA5_SD5u",
        "outputId": "fe1d007b-dd9d-4262-938f-3a8e162c4527"
      },
      "execution_count": 73,
      "outputs": [
        {
          "output_type": "execute_result",
          "data": {
            "text/plain": [
              "   LotArea  YearBuilt  YearRemodelled  TotalBsmtSF  CentralAir  1stFlrSF  \\\n",
              "0     8450       2003            2003          856           1       856   \n",
              "1     9600       1976            1976         1262           1      1262   \n",
              "2    11250       2001            2002          920           1       920   \n",
              "3     9550       1915            1970          756           1       961   \n",
              "4    14260       2000            2000         1145           1      1145   \n",
              "\n",
              "   2ndFlrSF  GrLivArea  BsmtFullBath  BsmtHalfBath  ...  BedroomAbvGr  \\\n",
              "0       854       1710             1             0  ...             3   \n",
              "1         0       1262             0             1  ...             3   \n",
              "2       866       1786             1             0  ...             3   \n",
              "3       756       1717             1             0  ...             3   \n",
              "4      1053       2198             1             0  ...             4   \n",
              "\n",
              "   KitchenAbvGr  TotRmsAbvGrd  Fireplaces  GarageCars  GarageArea  PavedDrive  \\\n",
              "0             1             8           0           2         548           1   \n",
              "1             1             6           1           2         460           1   \n",
              "2             1             6           1           2         608           1   \n",
              "3             1             7           1           3         642           1   \n",
              "4             1             9           1           3         836           1   \n",
              "\n",
              "   WoodDeckSF  PoolArea  SalePrice  \n",
              "0           0         0     208500  \n",
              "1         298         0     181500  \n",
              "2           0         0     223500  \n",
              "3           0         0     140000  \n",
              "4         192         0     250000  \n",
              "\n",
              "[5 rows x 22 columns]"
            ],
            "text/html": [
              "\n",
              "  <div id=\"df-0867bcca-f080-4ca6-b19c-1715030d33e9\">\n",
              "    <div class=\"colab-df-container\">\n",
              "      <div>\n",
              "<style scoped>\n",
              "    .dataframe tbody tr th:only-of-type {\n",
              "        vertical-align: middle;\n",
              "    }\n",
              "\n",
              "    .dataframe tbody tr th {\n",
              "        vertical-align: top;\n",
              "    }\n",
              "\n",
              "    .dataframe thead th {\n",
              "        text-align: right;\n",
              "    }\n",
              "</style>\n",
              "<table border=\"1\" class=\"dataframe\">\n",
              "  <thead>\n",
              "    <tr style=\"text-align: right;\">\n",
              "      <th></th>\n",
              "      <th>LotArea</th>\n",
              "      <th>YearBuilt</th>\n",
              "      <th>YearRemodelled</th>\n",
              "      <th>TotalBsmtSF</th>\n",
              "      <th>CentralAir</th>\n",
              "      <th>1stFlrSF</th>\n",
              "      <th>2ndFlrSF</th>\n",
              "      <th>GrLivArea</th>\n",
              "      <th>BsmtFullBath</th>\n",
              "      <th>BsmtHalfBath</th>\n",
              "      <th>...</th>\n",
              "      <th>BedroomAbvGr</th>\n",
              "      <th>KitchenAbvGr</th>\n",
              "      <th>TotRmsAbvGrd</th>\n",
              "      <th>Fireplaces</th>\n",
              "      <th>GarageCars</th>\n",
              "      <th>GarageArea</th>\n",
              "      <th>PavedDrive</th>\n",
              "      <th>WoodDeckSF</th>\n",
              "      <th>PoolArea</th>\n",
              "      <th>SalePrice</th>\n",
              "    </tr>\n",
              "  </thead>\n",
              "  <tbody>\n",
              "    <tr>\n",
              "      <th>0</th>\n",
              "      <td>8450</td>\n",
              "      <td>2003</td>\n",
              "      <td>2003</td>\n",
              "      <td>856</td>\n",
              "      <td>1</td>\n",
              "      <td>856</td>\n",
              "      <td>854</td>\n",
              "      <td>1710</td>\n",
              "      <td>1</td>\n",
              "      <td>0</td>\n",
              "      <td>...</td>\n",
              "      <td>3</td>\n",
              "      <td>1</td>\n",
              "      <td>8</td>\n",
              "      <td>0</td>\n",
              "      <td>2</td>\n",
              "      <td>548</td>\n",
              "      <td>1</td>\n",
              "      <td>0</td>\n",
              "      <td>0</td>\n",
              "      <td>208500</td>\n",
              "    </tr>\n",
              "    <tr>\n",
              "      <th>1</th>\n",
              "      <td>9600</td>\n",
              "      <td>1976</td>\n",
              "      <td>1976</td>\n",
              "      <td>1262</td>\n",
              "      <td>1</td>\n",
              "      <td>1262</td>\n",
              "      <td>0</td>\n",
              "      <td>1262</td>\n",
              "      <td>0</td>\n",
              "      <td>1</td>\n",
              "      <td>...</td>\n",
              "      <td>3</td>\n",
              "      <td>1</td>\n",
              "      <td>6</td>\n",
              "      <td>1</td>\n",
              "      <td>2</td>\n",
              "      <td>460</td>\n",
              "      <td>1</td>\n",
              "      <td>298</td>\n",
              "      <td>0</td>\n",
              "      <td>181500</td>\n",
              "    </tr>\n",
              "    <tr>\n",
              "      <th>2</th>\n",
              "      <td>11250</td>\n",
              "      <td>2001</td>\n",
              "      <td>2002</td>\n",
              "      <td>920</td>\n",
              "      <td>1</td>\n",
              "      <td>920</td>\n",
              "      <td>866</td>\n",
              "      <td>1786</td>\n",
              "      <td>1</td>\n",
              "      <td>0</td>\n",
              "      <td>...</td>\n",
              "      <td>3</td>\n",
              "      <td>1</td>\n",
              "      <td>6</td>\n",
              "      <td>1</td>\n",
              "      <td>2</td>\n",
              "      <td>608</td>\n",
              "      <td>1</td>\n",
              "      <td>0</td>\n",
              "      <td>0</td>\n",
              "      <td>223500</td>\n",
              "    </tr>\n",
              "    <tr>\n",
              "      <th>3</th>\n",
              "      <td>9550</td>\n",
              "      <td>1915</td>\n",
              "      <td>1970</td>\n",
              "      <td>756</td>\n",
              "      <td>1</td>\n",
              "      <td>961</td>\n",
              "      <td>756</td>\n",
              "      <td>1717</td>\n",
              "      <td>1</td>\n",
              "      <td>0</td>\n",
              "      <td>...</td>\n",
              "      <td>3</td>\n",
              "      <td>1</td>\n",
              "      <td>7</td>\n",
              "      <td>1</td>\n",
              "      <td>3</td>\n",
              "      <td>642</td>\n",
              "      <td>1</td>\n",
              "      <td>0</td>\n",
              "      <td>0</td>\n",
              "      <td>140000</td>\n",
              "    </tr>\n",
              "    <tr>\n",
              "      <th>4</th>\n",
              "      <td>14260</td>\n",
              "      <td>2000</td>\n",
              "      <td>2000</td>\n",
              "      <td>1145</td>\n",
              "      <td>1</td>\n",
              "      <td>1145</td>\n",
              "      <td>1053</td>\n",
              "      <td>2198</td>\n",
              "      <td>1</td>\n",
              "      <td>0</td>\n",
              "      <td>...</td>\n",
              "      <td>4</td>\n",
              "      <td>1</td>\n",
              "      <td>9</td>\n",
              "      <td>1</td>\n",
              "      <td>3</td>\n",
              "      <td>836</td>\n",
              "      <td>1</td>\n",
              "      <td>192</td>\n",
              "      <td>0</td>\n",
              "      <td>250000</td>\n",
              "    </tr>\n",
              "  </tbody>\n",
              "</table>\n",
              "<p>5 rows × 22 columns</p>\n",
              "</div>\n",
              "      <button class=\"colab-df-convert\" onclick=\"convertToInteractive('df-0867bcca-f080-4ca6-b19c-1715030d33e9')\"\n",
              "              title=\"Convert this dataframe to an interactive table.\"\n",
              "              style=\"display:none;\">\n",
              "        \n",
              "  <svg xmlns=\"http://www.w3.org/2000/svg\" height=\"24px\"viewBox=\"0 0 24 24\"\n",
              "       width=\"24px\">\n",
              "    <path d=\"M0 0h24v24H0V0z\" fill=\"none\"/>\n",
              "    <path d=\"M18.56 5.44l.94 2.06.94-2.06 2.06-.94-2.06-.94-.94-2.06-.94 2.06-2.06.94zm-11 1L8.5 8.5l.94-2.06 2.06-.94-2.06-.94L8.5 2.5l-.94 2.06-2.06.94zm10 10l.94 2.06.94-2.06 2.06-.94-2.06-.94-.94-2.06-.94 2.06-2.06.94z\"/><path d=\"M17.41 7.96l-1.37-1.37c-.4-.4-.92-.59-1.43-.59-.52 0-1.04.2-1.43.59L10.3 9.45l-7.72 7.72c-.78.78-.78 2.05 0 2.83L4 21.41c.39.39.9.59 1.41.59.51 0 1.02-.2 1.41-.59l7.78-7.78 2.81-2.81c.8-.78.8-2.07 0-2.86zM5.41 20L4 18.59l7.72-7.72 1.47 1.35L5.41 20z\"/>\n",
              "  </svg>\n",
              "      </button>\n",
              "      \n",
              "  <style>\n",
              "    .colab-df-container {\n",
              "      display:flex;\n",
              "      flex-wrap:wrap;\n",
              "      gap: 12px;\n",
              "    }\n",
              "\n",
              "    .colab-df-convert {\n",
              "      background-color: #E8F0FE;\n",
              "      border: none;\n",
              "      border-radius: 50%;\n",
              "      cursor: pointer;\n",
              "      display: none;\n",
              "      fill: #1967D2;\n",
              "      height: 32px;\n",
              "      padding: 0 0 0 0;\n",
              "      width: 32px;\n",
              "    }\n",
              "\n",
              "    .colab-df-convert:hover {\n",
              "      background-color: #E2EBFA;\n",
              "      box-shadow: 0px 1px 2px rgba(60, 64, 67, 0.3), 0px 1px 3px 1px rgba(60, 64, 67, 0.15);\n",
              "      fill: #174EA6;\n",
              "    }\n",
              "\n",
              "    [theme=dark] .colab-df-convert {\n",
              "      background-color: #3B4455;\n",
              "      fill: #D2E3FC;\n",
              "    }\n",
              "\n",
              "    [theme=dark] .colab-df-convert:hover {\n",
              "      background-color: #434B5C;\n",
              "      box-shadow: 0px 1px 3px 1px rgba(0, 0, 0, 0.15);\n",
              "      filter: drop-shadow(0px 1px 2px rgba(0, 0, 0, 0.3));\n",
              "      fill: #FFFFFF;\n",
              "    }\n",
              "  </style>\n",
              "\n",
              "      <script>\n",
              "        const buttonEl =\n",
              "          document.querySelector('#df-0867bcca-f080-4ca6-b19c-1715030d33e9 button.colab-df-convert');\n",
              "        buttonEl.style.display =\n",
              "          google.colab.kernel.accessAllowed ? 'block' : 'none';\n",
              "\n",
              "        async function convertToInteractive(key) {\n",
              "          const element = document.querySelector('#df-0867bcca-f080-4ca6-b19c-1715030d33e9');\n",
              "          const dataTable =\n",
              "            await google.colab.kernel.invokeFunction('convertToInteractive',\n",
              "                                                     [key], {});\n",
              "          if (!dataTable) return;\n",
              "\n",
              "          const docLinkHtml = 'Like what you see? Visit the ' +\n",
              "            '<a target=\"_blank\" href=https://colab.research.google.com/notebooks/data_table.ipynb>data table notebook</a>'\n",
              "            + ' to learn more about interactive tables.';\n",
              "          element.innerHTML = '';\n",
              "          dataTable['output_type'] = 'display_data';\n",
              "          await google.colab.output.renderOutput(dataTable, element);\n",
              "          const docLink = document.createElement('div');\n",
              "          docLink.innerHTML = docLinkHtml;\n",
              "          element.appendChild(docLink);\n",
              "        }\n",
              "      </script>\n",
              "    </div>\n",
              "  </div>\n",
              "  "
            ]
          },
          "metadata": {},
          "execution_count": 73
        }
      ]
    },
    {
      "cell_type": "code",
      "source": [
        "dataset['PavedDrive'].unique()"
      ],
      "metadata": {
        "colab": {
          "base_uri": "https://localhost:8080/"
        },
        "id": "ZYEDUFOXRLLA",
        "outputId": "550d5b5e-f32f-427b-9a95-fc8dd0ca61c5"
      },
      "execution_count": 74,
      "outputs": [
        {
          "output_type": "execute_result",
          "data": {
            "text/plain": [
              "array([1, 0, 2])"
            ]
          },
          "metadata": {},
          "execution_count": 74
        }
      ]
    },
    {
      "cell_type": "code",
      "source": [
        "# Plotting Correlation Heatmap\n",
        "corrs = dataset.corr()\n",
        "figure = ff.create_annotated_heatmap(\n",
        "    z=corrs.values,\n",
        "    x=list(corrs.columns),\n",
        "    y=list(corrs.index),\n",
        "    annotation_text=corrs.round(2).values,\n",
        "    showscale=True)\n",
        "figure.show()"
      ],
      "metadata": {
        "colab": {
          "base_uri": "https://localhost:8080/",
          "height": 542
        },
        "id": "pvS73wiHMbU-",
        "outputId": "9190fc33-25d6-4b89-9527-fa4f7fbf62e5"
      },
      "execution_count": 75,
      "outputs": [
        {
          "output_type": "display_data",
          "data": {
            "text/html": [
              "<html>\n",
              "<head><meta charset=\"utf-8\" /></head>\n",
              "<body>\n",
              "    <div>            <script src=\"https://cdnjs.cloudflare.com/ajax/libs/mathjax/2.7.5/MathJax.js?config=TeX-AMS-MML_SVG\"></script><script type=\"text/javascript\">if (window.MathJax) {MathJax.Hub.Config({SVG: {font: \"STIX-Web\"}});}</script>                <script type=\"text/javascript\">window.PlotlyConfig = {MathJaxConfig: 'local'};</script>\n",
              "        <script src=\"https://cdn.plot.ly/plotly-2.8.3.min.js\"></script>                <div id=\"308cf842-24ff-4135-bee1-9f51e0bfc02f\" class=\"plotly-graph-div\" style=\"height:525px; width:100%;\"></div>            <script type=\"text/javascript\">                                    window.PLOTLYENV=window.PLOTLYENV || {};                                    if (document.getElementById(\"308cf842-24ff-4135-bee1-9f51e0bfc02f\")) {                    Plotly.newPlot(                        \"308cf842-24ff-4135-bee1-9f51e0bfc02f\",                        [{\"colorscale\":[[0.0,\"#0d0887\"],[0.1111111111111111,\"#46039f\"],[0.2222222222222222,\"#7201a8\"],[0.3333333333333333,\"#9c179e\"],[0.4444444444444444,\"#bd3786\"],[0.5555555555555556,\"#d8576b\"],[0.6666666666666666,\"#ed7953\"],[0.7777777777777778,\"#fb9f3a\"],[0.8888888888888888,\"#fdca26\"],[1.0,\"#f0f921\"]],\"reversescale\":false,\"showscale\":true,\"x\":[\"LotArea\",\"YearBuilt\",\"YearRemodelled\",\"TotalBsmtSF\",\"CentralAir\",\"1stFlrSF\",\"2ndFlrSF\",\"GrLivArea\",\"BsmtFullBath\",\"BsmtHalfBath\",\"FullBath\",\"HalfBath\",\"BedroomAbvGr\",\"KitchenAbvGr\",\"TotRmsAbvGrd\",\"Fireplaces\",\"GarageCars\",\"GarageArea\",\"PavedDrive\",\"WoodDeckSF\",\"PoolArea\",\"SalePrice\"],\"y\":[\"LotArea\",\"YearBuilt\",\"YearRemodelled\",\"TotalBsmtSF\",\"CentralAir\",\"1stFlrSF\",\"2ndFlrSF\",\"GrLivArea\",\"BsmtFullBath\",\"BsmtHalfBath\",\"FullBath\",\"HalfBath\",\"BedroomAbvGr\",\"KitchenAbvGr\",\"TotRmsAbvGrd\",\"Fireplaces\",\"GarageCars\",\"GarageArea\",\"PavedDrive\",\"WoodDeckSF\",\"PoolArea\",\"SalePrice\"],\"z\":[[1.0,0.014227651757025093,0.013788427078155424,0.2608331345451572,0.04975493824508254,0.29947457850776266,0.05098594829349377,0.26311616716714803,0.15815453106001476,0.04804557088829686,0.1260306265196436,0.014259468566431947,0.11968990815131542,-0.017783870504841995,0.190014777625409,0.2713640096245418,0.15487073975354076,0.1804027551511169,0.022665184058636007,0.17169768725711246,0.07767239188017444,0.2638433538714051],[0.014227651757025093,1.0,0.5928549763436519,0.3914520020660952,0.38183075179949844,0.2819858586998021,0.010307659584364078,0.19900971367645826,0.1875985499971434,-0.03816180567123349,0.4682707871726737,0.2426559102410641,-0.07065121690473103,-0.17480024561497706,0.09558912829795185,0.14771639941245646,0.5378500917111052,0.4789538198934904,0.23850894010964843,0.22488014230399744,0.004949727615942999,0.5228973328794967],[0.013788427078155424,0.5928549763436519,1.0,0.2910655826041661,0.2988780217415342,0.24037926760355463,0.14002377880486447,0.2873885196503327,0.11946987911123993,-0.012337032127797673,0.4390464838723479,0.1833306117185349,-0.040580928067749454,-0.14959752104274646,0.1917398162928069,0.11258131843947561,0.42062215494321714,0.3715998094973092,0.045611072064987046,0.20572592049010355,0.005829372037106204,0.5071009671113866],[0.2608331345451572,0.3914520020660952,0.2910655826041661,1.0,0.20795754081444398,0.8195299750050339,-0.17451195013496046,0.45486820254790317,0.30735055373550346,-0.00031458181983374725,0.3237224136066502,-0.04880373863521248,0.05044995551267818,-0.06890064264201659,0.28557256372579454,0.33951932389865597,0.43458483429168865,0.4866654637737961,0.12874327854131234,0.23201860912901803,0.12605313210083768,0.6135805515591943],[0.04975493824508254,0.38183075179949844,0.2988780217415342,0.20795754081444398,1.0,0.14695261189405373,-0.011802811605412735,0.09366559623177144,0.11460267469187344,0.04032460489035637,0.10932635953709857,0.13463741265472473,0.007871718636602108,-0.24679720003115233,0.0345093527875815,0.1863091407076644,0.2337258639072165,0.23074079749137247,0.2358354378714225,0.14597281977144455,0.018121746131289265,0.2513281638401552],[0.29947457850776266,0.2819858586998021,0.24037926760355463,0.8195299750050339,0.14695261189405373,1.0,-0.20264618100232087,0.5660239689357486,0.24467110424771052,0.001955653582048656,0.3806374949735071,-0.11991590879396136,0.12740074939236454,0.06810058817691335,0.40951597886683183,0.41053108465984556,0.4393168079906709,0.4897816541041918,0.09599490666549935,0.23545862278369778,0.13152497564028254,0.6058521846919153],[0.05098594829349377,0.010307659584364078,0.14002377880486447,-0.17451195013496046,-0.011802811605412735,-0.20264618100232087,1.0,0.6875010641666033,-0.16949395173099896,-0.023854783937045255,0.4213779828759713,0.6097073002717436,0.5029006133459056,0.05930575264821624,0.6164226354915431,0.19456089224132392,0.18392558307638002,0.13834695857186657,-0.026660928182331976,0.09216541758603868,0.08148687804909954,0.31933380283206736],[0.26311616716714803,0.19900971367645826,0.2873885196503327,0.45486820254790317,0.09366559623177144,0.5660239689357486,0.6875010641666033,1.0,0.03483604954490554,-0.0189184831706347,0.6300116462511148,0.4157716361052652,0.5212695109189948,0.10006316473775474,0.8254893743088425,0.46167913376144704,0.4672474187951873,0.4689974773229655,0.04694690276379472,0.24743282051884846,0.1702053360005616,0.7086244776126515],[0.15815453106001476,0.1875985499971434,0.11946987911123993,0.30735055373550346,0.11460267469187344,0.24467110424771052,-0.16949395173099896,0.03483604954490554,1.0,-0.14787096054760138,-0.06451204863131507,-0.030904959142533293,-0.15067280920795623,-0.041502546431482885,-0.0532752361233972,0.1379277084271981,0.13188122440619438,0.179189480420231,0.05361307640656589,0.17531519007972224,0.06761555618047507,0.22712223313149427],[0.04804557088829686,-0.03816180567123349,-0.012337032127797673,-0.00031458181983374725,0.04032460489035637,0.001955653582048656,-0.023854783937045255,-0.0189184831706347,-0.14787096054760138,1.0,-0.054535811983635524,-0.012339900052275487,0.046518848389950684,-0.03794435022720086,-0.023836341262220544,0.028975586646259963,-0.02089105899687853,-0.02453557957887923,0.05514449427979969,0.04016122325953452,0.02002462983851695,-0.01684415429735895],[0.1260306265196436,0.4682707871726737,0.4390464838723479,0.3237224136066502,0.10932635953709857,0.3806374949735071,0.4213779828759713,0.6300116462511148,-0.06451204863131507,-0.054535811983635524,1.0,0.13638058874914522,0.36325198302327694,0.1331152141960393,0.5547842535334836,0.2436705030799116,0.469672043267628,0.4056562084540099,0.04779639250162199,0.18770321383582822,0.04960382558403366,0.5606637627484453],[0.014259468566431947,0.2426559102410641,0.1833306117185349,-0.04880373863521248,0.13463741265472473,-0.11991590879396136,0.6097073002717436,0.4157716361052652,-0.030904959142533293,-0.012339900052275487,0.13638058874914522,1.0,0.22665148415094508,-0.06826254889694101,0.3434148575409178,0.20364850809521917,0.21917815216716094,0.1635493640166073,0.07670025708980249,0.10808030267536337,0.0223814980554099,0.28410767559478256],[0.11968990815131542,-0.07065121690473103,-0.040580928067749454,0.05044995551267818,0.007871718636602108,0.12740074939236454,0.5029006133459056,0.5212695109189948,-0.15067280920795623,0.046518848389950684,0.36325198302327694,0.22665148415094508,1.0,0.1985967577071338,0.676619935742649,0.10756968099132388,0.08610643768835287,0.06525252989881626,-0.014841450670673866,0.04685377306989394,0.07070258356547471,0.16821315430073963],[-0.017783870504841995,-0.17480024561497706,-0.14959752104274646,-0.06890064264201659,-0.24679720003115233,0.06810058817691335,0.05930575264821624,0.10006316473775474,-0.041502546431482885,-0.03794435022720086,0.1331152141960393,-0.06826254889694101,0.1985967577071338,1.0,0.2560454085359489,-0.12393623529689729,-0.05063389240221729,-0.06443304718314395,-0.15568839532143164,-0.09013027267903444,-0.014525116015980777,-0.13590737084214105],[0.190014777625409,0.09558912829795185,0.1917398162928069,0.28557256372579454,0.0345093527875815,0.40951597886683183,0.6164226354915431,0.8254893743088425,-0.0532752361233972,-0.023836341262220544,0.5547842535334836,0.3434148575409178,0.676619935742649,0.2560454085359489,1.0,0.3261144801772001,0.3622885708147746,0.33782212063683786,-0.0177266623438085,0.16598388371493233,0.0837573495149245,0.5337231555820284],[0.2713640096245418,0.14771639941245646,0.11258131843947561,0.33951932389865597,0.1863091407076644,0.41053108465984556,0.19456089224132392,0.46167913376144704,0.1379277084271981,0.028975586646259963,0.2436705030799116,0.20364850809521917,0.10756968099132388,-0.12393623529689729,0.3261144801772001,1.0,0.3007887663013562,0.2691412380738719,0.13777694286151454,0.20001879575902368,0.09507352203619863,0.46692883675152763],[0.15487073975354076,0.5378500917111052,0.42062215494321714,0.43458483429168865,0.2337258639072165,0.4393168079906709,0.18392558307638002,0.4672474187951873,0.13188122440619438,-0.02089105899687853,0.469672043267628,0.21917815216716094,0.08610643768835287,-0.05063389240221729,0.3622885708147746,0.3007887663013562,1.0,0.882475414281462,0.17135104054657213,0.2263421384698597,0.020933531041465454,0.6404091972583519],[0.1804027551511169,0.4789538198934904,0.3715998094973092,0.4866654637737961,0.23074079749137247,0.4897816541041918,0.13834695857186657,0.4689974773229655,0.179189480420231,-0.02453557957887923,0.4056562084540099,0.1635493640166073,0.06525252989881626,-0.06443304718314395,0.33782212063683786,0.2691412380738719,0.882475414281462,1.0,0.1867322081540947,0.2246663071787637,0.061047271702060014,0.6234314389183622],[0.022665184058636007,0.23850894010964843,0.045611072064987046,0.12874327854131234,0.2358354378714225,0.09599490666549935,-0.026660928182331976,0.04694690276379472,0.05361307640656589,0.05514449427979969,0.04779639250162199,0.07670025708980249,-0.014841450670673866,-0.15568839532143164,-0.0177266623438085,0.13777694286151454,0.17135104054657213,0.1867322081540947,1.0,0.0687946225201233,0.009949406469122546,0.1359268017932309],[0.17169768725711246,0.22488014230399744,0.20572592049010355,0.23201860912901803,0.14597281977144455,0.23545862278369778,0.09216541758603868,0.24743282051884846,0.17531519007972224,0.04016122325953452,0.18770321383582822,0.10808030267536337,0.04685377306989394,-0.09013027267903444,0.16598388371493233,0.20001879575902368,0.2263421384698597,0.2246663071787637,0.0687946225201233,1.0,0.07337820695645396,0.32441344456812926],[0.07767239188017444,0.004949727615942999,0.005829372037106204,0.12605313210083768,0.018121746131289265,0.13152497564028254,0.08148687804909954,0.1702053360005616,0.06761555618047507,0.02002462983851695,0.04960382558403366,0.0223814980554099,0.07070258356547471,-0.014525116015980777,0.0837573495149245,0.09507352203619863,0.020933531041465454,0.061047271702060014,0.009949406469122546,0.07337820695645396,1.0,0.09240354949187318],[0.2638433538714051,0.5228973328794967,0.5071009671113866,0.6135805515591943,0.2513281638401552,0.6058521846919153,0.31933380283206736,0.7086244776126515,0.22712223313149427,-0.01684415429735895,0.5606637627484453,0.28410767559478256,0.16821315430073963,-0.13590737084214105,0.5337231555820284,0.46692883675152763,0.6404091972583519,0.6234314389183622,0.1359268017932309,0.32441344456812926,0.09240354949187318,1.0]],\"type\":\"heatmap\"}],                        {\"annotations\":[{\"font\":{\"color\":\"#000000\"},\"showarrow\":false,\"text\":\"1.0\",\"x\":\"LotArea\",\"xref\":\"x\",\"y\":\"LotArea\",\"yref\":\"y\"},{\"font\":{\"color\":\"#FFFFFF\"},\"showarrow\":false,\"text\":\"0.01\",\"x\":\"YearBuilt\",\"xref\":\"x\",\"y\":\"LotArea\",\"yref\":\"y\"},{\"font\":{\"color\":\"#FFFFFF\"},\"showarrow\":false,\"text\":\"0.01\",\"x\":\"YearRemodelled\",\"xref\":\"x\",\"y\":\"LotArea\",\"yref\":\"y\"},{\"font\":{\"color\":\"#FFFFFF\"},\"showarrow\":false,\"text\":\"0.26\",\"x\":\"TotalBsmtSF\",\"xref\":\"x\",\"y\":\"LotArea\",\"yref\":\"y\"},{\"font\":{\"color\":\"#FFFFFF\"},\"showarrow\":false,\"text\":\"0.05\",\"x\":\"CentralAir\",\"xref\":\"x\",\"y\":\"LotArea\",\"yref\":\"y\"},{\"font\":{\"color\":\"#FFFFFF\"},\"showarrow\":false,\"text\":\"0.3\",\"x\":\"1stFlrSF\",\"xref\":\"x\",\"y\":\"LotArea\",\"yref\":\"y\"},{\"font\":{\"color\":\"#FFFFFF\"},\"showarrow\":false,\"text\":\"0.05\",\"x\":\"2ndFlrSF\",\"xref\":\"x\",\"y\":\"LotArea\",\"yref\":\"y\"},{\"font\":{\"color\":\"#FFFFFF\"},\"showarrow\":false,\"text\":\"0.26\",\"x\":\"GrLivArea\",\"xref\":\"x\",\"y\":\"LotArea\",\"yref\":\"y\"},{\"font\":{\"color\":\"#FFFFFF\"},\"showarrow\":false,\"text\":\"0.16\",\"x\":\"BsmtFullBath\",\"xref\":\"x\",\"y\":\"LotArea\",\"yref\":\"y\"},{\"font\":{\"color\":\"#FFFFFF\"},\"showarrow\":false,\"text\":\"0.05\",\"x\":\"BsmtHalfBath\",\"xref\":\"x\",\"y\":\"LotArea\",\"yref\":\"y\"},{\"font\":{\"color\":\"#FFFFFF\"},\"showarrow\":false,\"text\":\"0.13\",\"x\":\"FullBath\",\"xref\":\"x\",\"y\":\"LotArea\",\"yref\":\"y\"},{\"font\":{\"color\":\"#FFFFFF\"},\"showarrow\":false,\"text\":\"0.01\",\"x\":\"HalfBath\",\"xref\":\"x\",\"y\":\"LotArea\",\"yref\":\"y\"},{\"font\":{\"color\":\"#FFFFFF\"},\"showarrow\":false,\"text\":\"0.12\",\"x\":\"BedroomAbvGr\",\"xref\":\"x\",\"y\":\"LotArea\",\"yref\":\"y\"},{\"font\":{\"color\":\"#FFFFFF\"},\"showarrow\":false,\"text\":\"-0.02\",\"x\":\"KitchenAbvGr\",\"xref\":\"x\",\"y\":\"LotArea\",\"yref\":\"y\"},{\"font\":{\"color\":\"#FFFFFF\"},\"showarrow\":false,\"text\":\"0.19\",\"x\":\"TotRmsAbvGrd\",\"xref\":\"x\",\"y\":\"LotArea\",\"yref\":\"y\"},{\"font\":{\"color\":\"#FFFFFF\"},\"showarrow\":false,\"text\":\"0.27\",\"x\":\"Fireplaces\",\"xref\":\"x\",\"y\":\"LotArea\",\"yref\":\"y\"},{\"font\":{\"color\":\"#FFFFFF\"},\"showarrow\":false,\"text\":\"0.15\",\"x\":\"GarageCars\",\"xref\":\"x\",\"y\":\"LotArea\",\"yref\":\"y\"},{\"font\":{\"color\":\"#FFFFFF\"},\"showarrow\":false,\"text\":\"0.18\",\"x\":\"GarageArea\",\"xref\":\"x\",\"y\":\"LotArea\",\"yref\":\"y\"},{\"font\":{\"color\":\"#FFFFFF\"},\"showarrow\":false,\"text\":\"0.02\",\"x\":\"PavedDrive\",\"xref\":\"x\",\"y\":\"LotArea\",\"yref\":\"y\"},{\"font\":{\"color\":\"#FFFFFF\"},\"showarrow\":false,\"text\":\"0.17\",\"x\":\"WoodDeckSF\",\"xref\":\"x\",\"y\":\"LotArea\",\"yref\":\"y\"},{\"font\":{\"color\":\"#FFFFFF\"},\"showarrow\":false,\"text\":\"0.08\",\"x\":\"PoolArea\",\"xref\":\"x\",\"y\":\"LotArea\",\"yref\":\"y\"},{\"font\":{\"color\":\"#FFFFFF\"},\"showarrow\":false,\"text\":\"0.26\",\"x\":\"SalePrice\",\"xref\":\"x\",\"y\":\"LotArea\",\"yref\":\"y\"},{\"font\":{\"color\":\"#FFFFFF\"},\"showarrow\":false,\"text\":\"0.01\",\"x\":\"LotArea\",\"xref\":\"x\",\"y\":\"YearBuilt\",\"yref\":\"y\"},{\"font\":{\"color\":\"#000000\"},\"showarrow\":false,\"text\":\"1.0\",\"x\":\"YearBuilt\",\"xref\":\"x\",\"y\":\"YearBuilt\",\"yref\":\"y\"},{\"font\":{\"color\":\"#000000\"},\"showarrow\":false,\"text\":\"0.59\",\"x\":\"YearRemodelled\",\"xref\":\"x\",\"y\":\"YearBuilt\",\"yref\":\"y\"},{\"font\":{\"color\":\"#000000\"},\"showarrow\":false,\"text\":\"0.39\",\"x\":\"TotalBsmtSF\",\"xref\":\"x\",\"y\":\"YearBuilt\",\"yref\":\"y\"},{\"font\":{\"color\":\"#000000\"},\"showarrow\":false,\"text\":\"0.38\",\"x\":\"CentralAir\",\"xref\":\"x\",\"y\":\"YearBuilt\",\"yref\":\"y\"},{\"font\":{\"color\":\"#FFFFFF\"},\"showarrow\":false,\"text\":\"0.28\",\"x\":\"1stFlrSF\",\"xref\":\"x\",\"y\":\"YearBuilt\",\"yref\":\"y\"},{\"font\":{\"color\":\"#FFFFFF\"},\"showarrow\":false,\"text\":\"0.01\",\"x\":\"2ndFlrSF\",\"xref\":\"x\",\"y\":\"YearBuilt\",\"yref\":\"y\"},{\"font\":{\"color\":\"#FFFFFF\"},\"showarrow\":false,\"text\":\"0.2\",\"x\":\"GrLivArea\",\"xref\":\"x\",\"y\":\"YearBuilt\",\"yref\":\"y\"},{\"font\":{\"color\":\"#FFFFFF\"},\"showarrow\":false,\"text\":\"0.19\",\"x\":\"BsmtFullBath\",\"xref\":\"x\",\"y\":\"YearBuilt\",\"yref\":\"y\"},{\"font\":{\"color\":\"#FFFFFF\"},\"showarrow\":false,\"text\":\"-0.04\",\"x\":\"BsmtHalfBath\",\"xref\":\"x\",\"y\":\"YearBuilt\",\"yref\":\"y\"},{\"font\":{\"color\":\"#000000\"},\"showarrow\":false,\"text\":\"0.47\",\"x\":\"FullBath\",\"xref\":\"x\",\"y\":\"YearBuilt\",\"yref\":\"y\"},{\"font\":{\"color\":\"#FFFFFF\"},\"showarrow\":false,\"text\":\"0.24\",\"x\":\"HalfBath\",\"xref\":\"x\",\"y\":\"YearBuilt\",\"yref\":\"y\"},{\"font\":{\"color\":\"#FFFFFF\"},\"showarrow\":false,\"text\":\"-0.07\",\"x\":\"BedroomAbvGr\",\"xref\":\"x\",\"y\":\"YearBuilt\",\"yref\":\"y\"},{\"font\":{\"color\":\"#FFFFFF\"},\"showarrow\":false,\"text\":\"-0.17\",\"x\":\"KitchenAbvGr\",\"xref\":\"x\",\"y\":\"YearBuilt\",\"yref\":\"y\"},{\"font\":{\"color\":\"#FFFFFF\"},\"showarrow\":false,\"text\":\"0.1\",\"x\":\"TotRmsAbvGrd\",\"xref\":\"x\",\"y\":\"YearBuilt\",\"yref\":\"y\"},{\"font\":{\"color\":\"#FFFFFF\"},\"showarrow\":false,\"text\":\"0.15\",\"x\":\"Fireplaces\",\"xref\":\"x\",\"y\":\"YearBuilt\",\"yref\":\"y\"},{\"font\":{\"color\":\"#000000\"},\"showarrow\":false,\"text\":\"0.54\",\"x\":\"GarageCars\",\"xref\":\"x\",\"y\":\"YearBuilt\",\"yref\":\"y\"},{\"font\":{\"color\":\"#000000\"},\"showarrow\":false,\"text\":\"0.48\",\"x\":\"GarageArea\",\"xref\":\"x\",\"y\":\"YearBuilt\",\"yref\":\"y\"},{\"font\":{\"color\":\"#FFFFFF\"},\"showarrow\":false,\"text\":\"0.24\",\"x\":\"PavedDrive\",\"xref\":\"x\",\"y\":\"YearBuilt\",\"yref\":\"y\"},{\"font\":{\"color\":\"#FFFFFF\"},\"showarrow\":false,\"text\":\"0.22\",\"x\":\"WoodDeckSF\",\"xref\":\"x\",\"y\":\"YearBuilt\",\"yref\":\"y\"},{\"font\":{\"color\":\"#FFFFFF\"},\"showarrow\":false,\"text\":\"0.0\",\"x\":\"PoolArea\",\"xref\":\"x\",\"y\":\"YearBuilt\",\"yref\":\"y\"},{\"font\":{\"color\":\"#000000\"},\"showarrow\":false,\"text\":\"0.52\",\"x\":\"SalePrice\",\"xref\":\"x\",\"y\":\"YearBuilt\",\"yref\":\"y\"},{\"font\":{\"color\":\"#FFFFFF\"},\"showarrow\":false,\"text\":\"0.01\",\"x\":\"LotArea\",\"xref\":\"x\",\"y\":\"YearRemodelled\",\"yref\":\"y\"},{\"font\":{\"color\":\"#000000\"},\"showarrow\":false,\"text\":\"0.59\",\"x\":\"YearBuilt\",\"xref\":\"x\",\"y\":\"YearRemodelled\",\"yref\":\"y\"},{\"font\":{\"color\":\"#000000\"},\"showarrow\":false,\"text\":\"1.0\",\"x\":\"YearRemodelled\",\"xref\":\"x\",\"y\":\"YearRemodelled\",\"yref\":\"y\"},{\"font\":{\"color\":\"#FFFFFF\"},\"showarrow\":false,\"text\":\"0.29\",\"x\":\"TotalBsmtSF\",\"xref\":\"x\",\"y\":\"YearRemodelled\",\"yref\":\"y\"},{\"font\":{\"color\":\"#FFFFFF\"},\"showarrow\":false,\"text\":\"0.3\",\"x\":\"CentralAir\",\"xref\":\"x\",\"y\":\"YearRemodelled\",\"yref\":\"y\"},{\"font\":{\"color\":\"#FFFFFF\"},\"showarrow\":false,\"text\":\"0.24\",\"x\":\"1stFlrSF\",\"xref\":\"x\",\"y\":\"YearRemodelled\",\"yref\":\"y\"},{\"font\":{\"color\":\"#FFFFFF\"},\"showarrow\":false,\"text\":\"0.14\",\"x\":\"2ndFlrSF\",\"xref\":\"x\",\"y\":\"YearRemodelled\",\"yref\":\"y\"},{\"font\":{\"color\":\"#FFFFFF\"},\"showarrow\":false,\"text\":\"0.29\",\"x\":\"GrLivArea\",\"xref\":\"x\",\"y\":\"YearRemodelled\",\"yref\":\"y\"},{\"font\":{\"color\":\"#FFFFFF\"},\"showarrow\":false,\"text\":\"0.12\",\"x\":\"BsmtFullBath\",\"xref\":\"x\",\"y\":\"YearRemodelled\",\"yref\":\"y\"},{\"font\":{\"color\":\"#FFFFFF\"},\"showarrow\":false,\"text\":\"-0.01\",\"x\":\"BsmtHalfBath\",\"xref\":\"x\",\"y\":\"YearRemodelled\",\"yref\":\"y\"},{\"font\":{\"color\":\"#000000\"},\"showarrow\":false,\"text\":\"0.44\",\"x\":\"FullBath\",\"xref\":\"x\",\"y\":\"YearRemodelled\",\"yref\":\"y\"},{\"font\":{\"color\":\"#FFFFFF\"},\"showarrow\":false,\"text\":\"0.18\",\"x\":\"HalfBath\",\"xref\":\"x\",\"y\":\"YearRemodelled\",\"yref\":\"y\"},{\"font\":{\"color\":\"#FFFFFF\"},\"showarrow\":false,\"text\":\"-0.04\",\"x\":\"BedroomAbvGr\",\"xref\":\"x\",\"y\":\"YearRemodelled\",\"yref\":\"y\"},{\"font\":{\"color\":\"#FFFFFF\"},\"showarrow\":false,\"text\":\"-0.15\",\"x\":\"KitchenAbvGr\",\"xref\":\"x\",\"y\":\"YearRemodelled\",\"yref\":\"y\"},{\"font\":{\"color\":\"#FFFFFF\"},\"showarrow\":false,\"text\":\"0.19\",\"x\":\"TotRmsAbvGrd\",\"xref\":\"x\",\"y\":\"YearRemodelled\",\"yref\":\"y\"},{\"font\":{\"color\":\"#FFFFFF\"},\"showarrow\":false,\"text\":\"0.11\",\"x\":\"Fireplaces\",\"xref\":\"x\",\"y\":\"YearRemodelled\",\"yref\":\"y\"},{\"font\":{\"color\":\"#000000\"},\"showarrow\":false,\"text\":\"0.42\",\"x\":\"GarageCars\",\"xref\":\"x\",\"y\":\"YearRemodelled\",\"yref\":\"y\"},{\"font\":{\"color\":\"#FFFFFF\"},\"showarrow\":false,\"text\":\"0.37\",\"x\":\"GarageArea\",\"xref\":\"x\",\"y\":\"YearRemodelled\",\"yref\":\"y\"},{\"font\":{\"color\":\"#FFFFFF\"},\"showarrow\":false,\"text\":\"0.05\",\"x\":\"PavedDrive\",\"xref\":\"x\",\"y\":\"YearRemodelled\",\"yref\":\"y\"},{\"font\":{\"color\":\"#FFFFFF\"},\"showarrow\":false,\"text\":\"0.21\",\"x\":\"WoodDeckSF\",\"xref\":\"x\",\"y\":\"YearRemodelled\",\"yref\":\"y\"},{\"font\":{\"color\":\"#FFFFFF\"},\"showarrow\":false,\"text\":\"0.01\",\"x\":\"PoolArea\",\"xref\":\"x\",\"y\":\"YearRemodelled\",\"yref\":\"y\"},{\"font\":{\"color\":\"#000000\"},\"showarrow\":false,\"text\":\"0.51\",\"x\":\"SalePrice\",\"xref\":\"x\",\"y\":\"YearRemodelled\",\"yref\":\"y\"},{\"font\":{\"color\":\"#FFFFFF\"},\"showarrow\":false,\"text\":\"0.26\",\"x\":\"LotArea\",\"xref\":\"x\",\"y\":\"TotalBsmtSF\",\"yref\":\"y\"},{\"font\":{\"color\":\"#000000\"},\"showarrow\":false,\"text\":\"0.39\",\"x\":\"YearBuilt\",\"xref\":\"x\",\"y\":\"TotalBsmtSF\",\"yref\":\"y\"},{\"font\":{\"color\":\"#FFFFFF\"},\"showarrow\":false,\"text\":\"0.29\",\"x\":\"YearRemodelled\",\"xref\":\"x\",\"y\":\"TotalBsmtSF\",\"yref\":\"y\"},{\"font\":{\"color\":\"#000000\"},\"showarrow\":false,\"text\":\"1.0\",\"x\":\"TotalBsmtSF\",\"xref\":\"x\",\"y\":\"TotalBsmtSF\",\"yref\":\"y\"},{\"font\":{\"color\":\"#FFFFFF\"},\"showarrow\":false,\"text\":\"0.21\",\"x\":\"CentralAir\",\"xref\":\"x\",\"y\":\"TotalBsmtSF\",\"yref\":\"y\"},{\"font\":{\"color\":\"#000000\"},\"showarrow\":false,\"text\":\"0.82\",\"x\":\"1stFlrSF\",\"xref\":\"x\",\"y\":\"TotalBsmtSF\",\"yref\":\"y\"},{\"font\":{\"color\":\"#FFFFFF\"},\"showarrow\":false,\"text\":\"-0.17\",\"x\":\"2ndFlrSF\",\"xref\":\"x\",\"y\":\"TotalBsmtSF\",\"yref\":\"y\"},{\"font\":{\"color\":\"#000000\"},\"showarrow\":false,\"text\":\"0.45\",\"x\":\"GrLivArea\",\"xref\":\"x\",\"y\":\"TotalBsmtSF\",\"yref\":\"y\"},{\"font\":{\"color\":\"#FFFFFF\"},\"showarrow\":false,\"text\":\"0.31\",\"x\":\"BsmtFullBath\",\"xref\":\"x\",\"y\":\"TotalBsmtSF\",\"yref\":\"y\"},{\"font\":{\"color\":\"#FFFFFF\"},\"showarrow\":false,\"text\":\"-0.0\",\"x\":\"BsmtHalfBath\",\"xref\":\"x\",\"y\":\"TotalBsmtSF\",\"yref\":\"y\"},{\"font\":{\"color\":\"#FFFFFF\"},\"showarrow\":false,\"text\":\"0.32\",\"x\":\"FullBath\",\"xref\":\"x\",\"y\":\"TotalBsmtSF\",\"yref\":\"y\"},{\"font\":{\"color\":\"#FFFFFF\"},\"showarrow\":false,\"text\":\"-0.05\",\"x\":\"HalfBath\",\"xref\":\"x\",\"y\":\"TotalBsmtSF\",\"yref\":\"y\"},{\"font\":{\"color\":\"#FFFFFF\"},\"showarrow\":false,\"text\":\"0.05\",\"x\":\"BedroomAbvGr\",\"xref\":\"x\",\"y\":\"TotalBsmtSF\",\"yref\":\"y\"},{\"font\":{\"color\":\"#FFFFFF\"},\"showarrow\":false,\"text\":\"-0.07\",\"x\":\"KitchenAbvGr\",\"xref\":\"x\",\"y\":\"TotalBsmtSF\",\"yref\":\"y\"},{\"font\":{\"color\":\"#FFFFFF\"},\"showarrow\":false,\"text\":\"0.29\",\"x\":\"TotRmsAbvGrd\",\"xref\":\"x\",\"y\":\"TotalBsmtSF\",\"yref\":\"y\"},{\"font\":{\"color\":\"#FFFFFF\"},\"showarrow\":false,\"text\":\"0.34\",\"x\":\"Fireplaces\",\"xref\":\"x\",\"y\":\"TotalBsmtSF\",\"yref\":\"y\"},{\"font\":{\"color\":\"#000000\"},\"showarrow\":false,\"text\":\"0.43\",\"x\":\"GarageCars\",\"xref\":\"x\",\"y\":\"TotalBsmtSF\",\"yref\":\"y\"},{\"font\":{\"color\":\"#000000\"},\"showarrow\":false,\"text\":\"0.49\",\"x\":\"GarageArea\",\"xref\":\"x\",\"y\":\"TotalBsmtSF\",\"yref\":\"y\"},{\"font\":{\"color\":\"#FFFFFF\"},\"showarrow\":false,\"text\":\"0.13\",\"x\":\"PavedDrive\",\"xref\":\"x\",\"y\":\"TotalBsmtSF\",\"yref\":\"y\"},{\"font\":{\"color\":\"#FFFFFF\"},\"showarrow\":false,\"text\":\"0.23\",\"x\":\"WoodDeckSF\",\"xref\":\"x\",\"y\":\"TotalBsmtSF\",\"yref\":\"y\"},{\"font\":{\"color\":\"#FFFFFF\"},\"showarrow\":false,\"text\":\"0.13\",\"x\":\"PoolArea\",\"xref\":\"x\",\"y\":\"TotalBsmtSF\",\"yref\":\"y\"},{\"font\":{\"color\":\"#000000\"},\"showarrow\":false,\"text\":\"0.61\",\"x\":\"SalePrice\",\"xref\":\"x\",\"y\":\"TotalBsmtSF\",\"yref\":\"y\"},{\"font\":{\"color\":\"#FFFFFF\"},\"showarrow\":false,\"text\":\"0.05\",\"x\":\"LotArea\",\"xref\":\"x\",\"y\":\"CentralAir\",\"yref\":\"y\"},{\"font\":{\"color\":\"#000000\"},\"showarrow\":false,\"text\":\"0.38\",\"x\":\"YearBuilt\",\"xref\":\"x\",\"y\":\"CentralAir\",\"yref\":\"y\"},{\"font\":{\"color\":\"#FFFFFF\"},\"showarrow\":false,\"text\":\"0.3\",\"x\":\"YearRemodelled\",\"xref\":\"x\",\"y\":\"CentralAir\",\"yref\":\"y\"},{\"font\":{\"color\":\"#FFFFFF\"},\"showarrow\":false,\"text\":\"0.21\",\"x\":\"TotalBsmtSF\",\"xref\":\"x\",\"y\":\"CentralAir\",\"yref\":\"y\"},{\"font\":{\"color\":\"#000000\"},\"showarrow\":false,\"text\":\"1.0\",\"x\":\"CentralAir\",\"xref\":\"x\",\"y\":\"CentralAir\",\"yref\":\"y\"},{\"font\":{\"color\":\"#FFFFFF\"},\"showarrow\":false,\"text\":\"0.15\",\"x\":\"1stFlrSF\",\"xref\":\"x\",\"y\":\"CentralAir\",\"yref\":\"y\"},{\"font\":{\"color\":\"#FFFFFF\"},\"showarrow\":false,\"text\":\"-0.01\",\"x\":\"2ndFlrSF\",\"xref\":\"x\",\"y\":\"CentralAir\",\"yref\":\"y\"},{\"font\":{\"color\":\"#FFFFFF\"},\"showarrow\":false,\"text\":\"0.09\",\"x\":\"GrLivArea\",\"xref\":\"x\",\"y\":\"CentralAir\",\"yref\":\"y\"},{\"font\":{\"color\":\"#FFFFFF\"},\"showarrow\":false,\"text\":\"0.11\",\"x\":\"BsmtFullBath\",\"xref\":\"x\",\"y\":\"CentralAir\",\"yref\":\"y\"},{\"font\":{\"color\":\"#FFFFFF\"},\"showarrow\":false,\"text\":\"0.04\",\"x\":\"BsmtHalfBath\",\"xref\":\"x\",\"y\":\"CentralAir\",\"yref\":\"y\"},{\"font\":{\"color\":\"#FFFFFF\"},\"showarrow\":false,\"text\":\"0.11\",\"x\":\"FullBath\",\"xref\":\"x\",\"y\":\"CentralAir\",\"yref\":\"y\"},{\"font\":{\"color\":\"#FFFFFF\"},\"showarrow\":false,\"text\":\"0.13\",\"x\":\"HalfBath\",\"xref\":\"x\",\"y\":\"CentralAir\",\"yref\":\"y\"},{\"font\":{\"color\":\"#FFFFFF\"},\"showarrow\":false,\"text\":\"0.01\",\"x\":\"BedroomAbvGr\",\"xref\":\"x\",\"y\":\"CentralAir\",\"yref\":\"y\"},{\"font\":{\"color\":\"#FFFFFF\"},\"showarrow\":false,\"text\":\"-0.25\",\"x\":\"KitchenAbvGr\",\"xref\":\"x\",\"y\":\"CentralAir\",\"yref\":\"y\"},{\"font\":{\"color\":\"#FFFFFF\"},\"showarrow\":false,\"text\":\"0.03\",\"x\":\"TotRmsAbvGrd\",\"xref\":\"x\",\"y\":\"CentralAir\",\"yref\":\"y\"},{\"font\":{\"color\":\"#FFFFFF\"},\"showarrow\":false,\"text\":\"0.19\",\"x\":\"Fireplaces\",\"xref\":\"x\",\"y\":\"CentralAir\",\"yref\":\"y\"},{\"font\":{\"color\":\"#FFFFFF\"},\"showarrow\":false,\"text\":\"0.23\",\"x\":\"GarageCars\",\"xref\":\"x\",\"y\":\"CentralAir\",\"yref\":\"y\"},{\"font\":{\"color\":\"#FFFFFF\"},\"showarrow\":false,\"text\":\"0.23\",\"x\":\"GarageArea\",\"xref\":\"x\",\"y\":\"CentralAir\",\"yref\":\"y\"},{\"font\":{\"color\":\"#FFFFFF\"},\"showarrow\":false,\"text\":\"0.24\",\"x\":\"PavedDrive\",\"xref\":\"x\",\"y\":\"CentralAir\",\"yref\":\"y\"},{\"font\":{\"color\":\"#FFFFFF\"},\"showarrow\":false,\"text\":\"0.15\",\"x\":\"WoodDeckSF\",\"xref\":\"x\",\"y\":\"CentralAir\",\"yref\":\"y\"},{\"font\":{\"color\":\"#FFFFFF\"},\"showarrow\":false,\"text\":\"0.02\",\"x\":\"PoolArea\",\"xref\":\"x\",\"y\":\"CentralAir\",\"yref\":\"y\"},{\"font\":{\"color\":\"#FFFFFF\"},\"showarrow\":false,\"text\":\"0.25\",\"x\":\"SalePrice\",\"xref\":\"x\",\"y\":\"CentralAir\",\"yref\":\"y\"},{\"font\":{\"color\":\"#FFFFFF\"},\"showarrow\":false,\"text\":\"0.3\",\"x\":\"LotArea\",\"xref\":\"x\",\"y\":\"1stFlrSF\",\"yref\":\"y\"},{\"font\":{\"color\":\"#FFFFFF\"},\"showarrow\":false,\"text\":\"0.28\",\"x\":\"YearBuilt\",\"xref\":\"x\",\"y\":\"1stFlrSF\",\"yref\":\"y\"},{\"font\":{\"color\":\"#FFFFFF\"},\"showarrow\":false,\"text\":\"0.24\",\"x\":\"YearRemodelled\",\"xref\":\"x\",\"y\":\"1stFlrSF\",\"yref\":\"y\"},{\"font\":{\"color\":\"#000000\"},\"showarrow\":false,\"text\":\"0.82\",\"x\":\"TotalBsmtSF\",\"xref\":\"x\",\"y\":\"1stFlrSF\",\"yref\":\"y\"},{\"font\":{\"color\":\"#FFFFFF\"},\"showarrow\":false,\"text\":\"0.15\",\"x\":\"CentralAir\",\"xref\":\"x\",\"y\":\"1stFlrSF\",\"yref\":\"y\"},{\"font\":{\"color\":\"#000000\"},\"showarrow\":false,\"text\":\"1.0\",\"x\":\"1stFlrSF\",\"xref\":\"x\",\"y\":\"1stFlrSF\",\"yref\":\"y\"},{\"font\":{\"color\":\"#FFFFFF\"},\"showarrow\":false,\"text\":\"-0.2\",\"x\":\"2ndFlrSF\",\"xref\":\"x\",\"y\":\"1stFlrSF\",\"yref\":\"y\"},{\"font\":{\"color\":\"#000000\"},\"showarrow\":false,\"text\":\"0.57\",\"x\":\"GrLivArea\",\"xref\":\"x\",\"y\":\"1stFlrSF\",\"yref\":\"y\"},{\"font\":{\"color\":\"#FFFFFF\"},\"showarrow\":false,\"text\":\"0.24\",\"x\":\"BsmtFullBath\",\"xref\":\"x\",\"y\":\"1stFlrSF\",\"yref\":\"y\"},{\"font\":{\"color\":\"#FFFFFF\"},\"showarrow\":false,\"text\":\"0.0\",\"x\":\"BsmtHalfBath\",\"xref\":\"x\",\"y\":\"1stFlrSF\",\"yref\":\"y\"},{\"font\":{\"color\":\"#000000\"},\"showarrow\":false,\"text\":\"0.38\",\"x\":\"FullBath\",\"xref\":\"x\",\"y\":\"1stFlrSF\",\"yref\":\"y\"},{\"font\":{\"color\":\"#FFFFFF\"},\"showarrow\":false,\"text\":\"-0.12\",\"x\":\"HalfBath\",\"xref\":\"x\",\"y\":\"1stFlrSF\",\"yref\":\"y\"},{\"font\":{\"color\":\"#FFFFFF\"},\"showarrow\":false,\"text\":\"0.13\",\"x\":\"BedroomAbvGr\",\"xref\":\"x\",\"y\":\"1stFlrSF\",\"yref\":\"y\"},{\"font\":{\"color\":\"#FFFFFF\"},\"showarrow\":false,\"text\":\"0.07\",\"x\":\"KitchenAbvGr\",\"xref\":\"x\",\"y\":\"1stFlrSF\",\"yref\":\"y\"},{\"font\":{\"color\":\"#000000\"},\"showarrow\":false,\"text\":\"0.41\",\"x\":\"TotRmsAbvGrd\",\"xref\":\"x\",\"y\":\"1stFlrSF\",\"yref\":\"y\"},{\"font\":{\"color\":\"#000000\"},\"showarrow\":false,\"text\":\"0.41\",\"x\":\"Fireplaces\",\"xref\":\"x\",\"y\":\"1stFlrSF\",\"yref\":\"y\"},{\"font\":{\"color\":\"#000000\"},\"showarrow\":false,\"text\":\"0.44\",\"x\":\"GarageCars\",\"xref\":\"x\",\"y\":\"1stFlrSF\",\"yref\":\"y\"},{\"font\":{\"color\":\"#000000\"},\"showarrow\":false,\"text\":\"0.49\",\"x\":\"GarageArea\",\"xref\":\"x\",\"y\":\"1stFlrSF\",\"yref\":\"y\"},{\"font\":{\"color\":\"#FFFFFF\"},\"showarrow\":false,\"text\":\"0.1\",\"x\":\"PavedDrive\",\"xref\":\"x\",\"y\":\"1stFlrSF\",\"yref\":\"y\"},{\"font\":{\"color\":\"#FFFFFF\"},\"showarrow\":false,\"text\":\"0.24\",\"x\":\"WoodDeckSF\",\"xref\":\"x\",\"y\":\"1stFlrSF\",\"yref\":\"y\"},{\"font\":{\"color\":\"#FFFFFF\"},\"showarrow\":false,\"text\":\"0.13\",\"x\":\"PoolArea\",\"xref\":\"x\",\"y\":\"1stFlrSF\",\"yref\":\"y\"},{\"font\":{\"color\":\"#000000\"},\"showarrow\":false,\"text\":\"0.61\",\"x\":\"SalePrice\",\"xref\":\"x\",\"y\":\"1stFlrSF\",\"yref\":\"y\"},{\"font\":{\"color\":\"#FFFFFF\"},\"showarrow\":false,\"text\":\"0.05\",\"x\":\"LotArea\",\"xref\":\"x\",\"y\":\"2ndFlrSF\",\"yref\":\"y\"},{\"font\":{\"color\":\"#FFFFFF\"},\"showarrow\":false,\"text\":\"0.01\",\"x\":\"YearBuilt\",\"xref\":\"x\",\"y\":\"2ndFlrSF\",\"yref\":\"y\"},{\"font\":{\"color\":\"#FFFFFF\"},\"showarrow\":false,\"text\":\"0.14\",\"x\":\"YearRemodelled\",\"xref\":\"x\",\"y\":\"2ndFlrSF\",\"yref\":\"y\"},{\"font\":{\"color\":\"#FFFFFF\"},\"showarrow\":false,\"text\":\"-0.17\",\"x\":\"TotalBsmtSF\",\"xref\":\"x\",\"y\":\"2ndFlrSF\",\"yref\":\"y\"},{\"font\":{\"color\":\"#FFFFFF\"},\"showarrow\":false,\"text\":\"-0.01\",\"x\":\"CentralAir\",\"xref\":\"x\",\"y\":\"2ndFlrSF\",\"yref\":\"y\"},{\"font\":{\"color\":\"#FFFFFF\"},\"showarrow\":false,\"text\":\"-0.2\",\"x\":\"1stFlrSF\",\"xref\":\"x\",\"y\":\"2ndFlrSF\",\"yref\":\"y\"},{\"font\":{\"color\":\"#000000\"},\"showarrow\":false,\"text\":\"1.0\",\"x\":\"2ndFlrSF\",\"xref\":\"x\",\"y\":\"2ndFlrSF\",\"yref\":\"y\"},{\"font\":{\"color\":\"#000000\"},\"showarrow\":false,\"text\":\"0.69\",\"x\":\"GrLivArea\",\"xref\":\"x\",\"y\":\"2ndFlrSF\",\"yref\":\"y\"},{\"font\":{\"color\":\"#FFFFFF\"},\"showarrow\":false,\"text\":\"-0.17\",\"x\":\"BsmtFullBath\",\"xref\":\"x\",\"y\":\"2ndFlrSF\",\"yref\":\"y\"},{\"font\":{\"color\":\"#FFFFFF\"},\"showarrow\":false,\"text\":\"-0.02\",\"x\":\"BsmtHalfBath\",\"xref\":\"x\",\"y\":\"2ndFlrSF\",\"yref\":\"y\"},{\"font\":{\"color\":\"#000000\"},\"showarrow\":false,\"text\":\"0.42\",\"x\":\"FullBath\",\"xref\":\"x\",\"y\":\"2ndFlrSF\",\"yref\":\"y\"},{\"font\":{\"color\":\"#000000\"},\"showarrow\":false,\"text\":\"0.61\",\"x\":\"HalfBath\",\"xref\":\"x\",\"y\":\"2ndFlrSF\",\"yref\":\"y\"},{\"font\":{\"color\":\"#000000\"},\"showarrow\":false,\"text\":\"0.5\",\"x\":\"BedroomAbvGr\",\"xref\":\"x\",\"y\":\"2ndFlrSF\",\"yref\":\"y\"},{\"font\":{\"color\":\"#FFFFFF\"},\"showarrow\":false,\"text\":\"0.06\",\"x\":\"KitchenAbvGr\",\"xref\":\"x\",\"y\":\"2ndFlrSF\",\"yref\":\"y\"},{\"font\":{\"color\":\"#000000\"},\"showarrow\":false,\"text\":\"0.62\",\"x\":\"TotRmsAbvGrd\",\"xref\":\"x\",\"y\":\"2ndFlrSF\",\"yref\":\"y\"},{\"font\":{\"color\":\"#FFFFFF\"},\"showarrow\":false,\"text\":\"0.19\",\"x\":\"Fireplaces\",\"xref\":\"x\",\"y\":\"2ndFlrSF\",\"yref\":\"y\"},{\"font\":{\"color\":\"#FFFFFF\"},\"showarrow\":false,\"text\":\"0.18\",\"x\":\"GarageCars\",\"xref\":\"x\",\"y\":\"2ndFlrSF\",\"yref\":\"y\"},{\"font\":{\"color\":\"#FFFFFF\"},\"showarrow\":false,\"text\":\"0.14\",\"x\":\"GarageArea\",\"xref\":\"x\",\"y\":\"2ndFlrSF\",\"yref\":\"y\"},{\"font\":{\"color\":\"#FFFFFF\"},\"showarrow\":false,\"text\":\"-0.03\",\"x\":\"PavedDrive\",\"xref\":\"x\",\"y\":\"2ndFlrSF\",\"yref\":\"y\"},{\"font\":{\"color\":\"#FFFFFF\"},\"showarrow\":false,\"text\":\"0.09\",\"x\":\"WoodDeckSF\",\"xref\":\"x\",\"y\":\"2ndFlrSF\",\"yref\":\"y\"},{\"font\":{\"color\":\"#FFFFFF\"},\"showarrow\":false,\"text\":\"0.08\",\"x\":\"PoolArea\",\"xref\":\"x\",\"y\":\"2ndFlrSF\",\"yref\":\"y\"},{\"font\":{\"color\":\"#FFFFFF\"},\"showarrow\":false,\"text\":\"0.32\",\"x\":\"SalePrice\",\"xref\":\"x\",\"y\":\"2ndFlrSF\",\"yref\":\"y\"},{\"font\":{\"color\":\"#FFFFFF\"},\"showarrow\":false,\"text\":\"0.26\",\"x\":\"LotArea\",\"xref\":\"x\",\"y\":\"GrLivArea\",\"yref\":\"y\"},{\"font\":{\"color\":\"#FFFFFF\"},\"showarrow\":false,\"text\":\"0.2\",\"x\":\"YearBuilt\",\"xref\":\"x\",\"y\":\"GrLivArea\",\"yref\":\"y\"},{\"font\":{\"color\":\"#FFFFFF\"},\"showarrow\":false,\"text\":\"0.29\",\"x\":\"YearRemodelled\",\"xref\":\"x\",\"y\":\"GrLivArea\",\"yref\":\"y\"},{\"font\":{\"color\":\"#000000\"},\"showarrow\":false,\"text\":\"0.45\",\"x\":\"TotalBsmtSF\",\"xref\":\"x\",\"y\":\"GrLivArea\",\"yref\":\"y\"},{\"font\":{\"color\":\"#FFFFFF\"},\"showarrow\":false,\"text\":\"0.09\",\"x\":\"CentralAir\",\"xref\":\"x\",\"y\":\"GrLivArea\",\"yref\":\"y\"},{\"font\":{\"color\":\"#000000\"},\"showarrow\":false,\"text\":\"0.57\",\"x\":\"1stFlrSF\",\"xref\":\"x\",\"y\":\"GrLivArea\",\"yref\":\"y\"},{\"font\":{\"color\":\"#000000\"},\"showarrow\":false,\"text\":\"0.69\",\"x\":\"2ndFlrSF\",\"xref\":\"x\",\"y\":\"GrLivArea\",\"yref\":\"y\"},{\"font\":{\"color\":\"#000000\"},\"showarrow\":false,\"text\":\"1.0\",\"x\":\"GrLivArea\",\"xref\":\"x\",\"y\":\"GrLivArea\",\"yref\":\"y\"},{\"font\":{\"color\":\"#FFFFFF\"},\"showarrow\":false,\"text\":\"0.03\",\"x\":\"BsmtFullBath\",\"xref\":\"x\",\"y\":\"GrLivArea\",\"yref\":\"y\"},{\"font\":{\"color\":\"#FFFFFF\"},\"showarrow\":false,\"text\":\"-0.02\",\"x\":\"BsmtHalfBath\",\"xref\":\"x\",\"y\":\"GrLivArea\",\"yref\":\"y\"},{\"font\":{\"color\":\"#000000\"},\"showarrow\":false,\"text\":\"0.63\",\"x\":\"FullBath\",\"xref\":\"x\",\"y\":\"GrLivArea\",\"yref\":\"y\"},{\"font\":{\"color\":\"#000000\"},\"showarrow\":false,\"text\":\"0.42\",\"x\":\"HalfBath\",\"xref\":\"x\",\"y\":\"GrLivArea\",\"yref\":\"y\"},{\"font\":{\"color\":\"#000000\"},\"showarrow\":false,\"text\":\"0.52\",\"x\":\"BedroomAbvGr\",\"xref\":\"x\",\"y\":\"GrLivArea\",\"yref\":\"y\"},{\"font\":{\"color\":\"#FFFFFF\"},\"showarrow\":false,\"text\":\"0.1\",\"x\":\"KitchenAbvGr\",\"xref\":\"x\",\"y\":\"GrLivArea\",\"yref\":\"y\"},{\"font\":{\"color\":\"#000000\"},\"showarrow\":false,\"text\":\"0.83\",\"x\":\"TotRmsAbvGrd\",\"xref\":\"x\",\"y\":\"GrLivArea\",\"yref\":\"y\"},{\"font\":{\"color\":\"#000000\"},\"showarrow\":false,\"text\":\"0.46\",\"x\":\"Fireplaces\",\"xref\":\"x\",\"y\":\"GrLivArea\",\"yref\":\"y\"},{\"font\":{\"color\":\"#000000\"},\"showarrow\":false,\"text\":\"0.47\",\"x\":\"GarageCars\",\"xref\":\"x\",\"y\":\"GrLivArea\",\"yref\":\"y\"},{\"font\":{\"color\":\"#000000\"},\"showarrow\":false,\"text\":\"0.47\",\"x\":\"GarageArea\",\"xref\":\"x\",\"y\":\"GrLivArea\",\"yref\":\"y\"},{\"font\":{\"color\":\"#FFFFFF\"},\"showarrow\":false,\"text\":\"0.05\",\"x\":\"PavedDrive\",\"xref\":\"x\",\"y\":\"GrLivArea\",\"yref\":\"y\"},{\"font\":{\"color\":\"#FFFFFF\"},\"showarrow\":false,\"text\":\"0.25\",\"x\":\"WoodDeckSF\",\"xref\":\"x\",\"y\":\"GrLivArea\",\"yref\":\"y\"},{\"font\":{\"color\":\"#FFFFFF\"},\"showarrow\":false,\"text\":\"0.17\",\"x\":\"PoolArea\",\"xref\":\"x\",\"y\":\"GrLivArea\",\"yref\":\"y\"},{\"font\":{\"color\":\"#000000\"},\"showarrow\":false,\"text\":\"0.71\",\"x\":\"SalePrice\",\"xref\":\"x\",\"y\":\"GrLivArea\",\"yref\":\"y\"},{\"font\":{\"color\":\"#FFFFFF\"},\"showarrow\":false,\"text\":\"0.16\",\"x\":\"LotArea\",\"xref\":\"x\",\"y\":\"BsmtFullBath\",\"yref\":\"y\"},{\"font\":{\"color\":\"#FFFFFF\"},\"showarrow\":false,\"text\":\"0.19\",\"x\":\"YearBuilt\",\"xref\":\"x\",\"y\":\"BsmtFullBath\",\"yref\":\"y\"},{\"font\":{\"color\":\"#FFFFFF\"},\"showarrow\":false,\"text\":\"0.12\",\"x\":\"YearRemodelled\",\"xref\":\"x\",\"y\":\"BsmtFullBath\",\"yref\":\"y\"},{\"font\":{\"color\":\"#FFFFFF\"},\"showarrow\":false,\"text\":\"0.31\",\"x\":\"TotalBsmtSF\",\"xref\":\"x\",\"y\":\"BsmtFullBath\",\"yref\":\"y\"},{\"font\":{\"color\":\"#FFFFFF\"},\"showarrow\":false,\"text\":\"0.11\",\"x\":\"CentralAir\",\"xref\":\"x\",\"y\":\"BsmtFullBath\",\"yref\":\"y\"},{\"font\":{\"color\":\"#FFFFFF\"},\"showarrow\":false,\"text\":\"0.24\",\"x\":\"1stFlrSF\",\"xref\":\"x\",\"y\":\"BsmtFullBath\",\"yref\":\"y\"},{\"font\":{\"color\":\"#FFFFFF\"},\"showarrow\":false,\"text\":\"-0.17\",\"x\":\"2ndFlrSF\",\"xref\":\"x\",\"y\":\"BsmtFullBath\",\"yref\":\"y\"},{\"font\":{\"color\":\"#FFFFFF\"},\"showarrow\":false,\"text\":\"0.03\",\"x\":\"GrLivArea\",\"xref\":\"x\",\"y\":\"BsmtFullBath\",\"yref\":\"y\"},{\"font\":{\"color\":\"#000000\"},\"showarrow\":false,\"text\":\"1.0\",\"x\":\"BsmtFullBath\",\"xref\":\"x\",\"y\":\"BsmtFullBath\",\"yref\":\"y\"},{\"font\":{\"color\":\"#FFFFFF\"},\"showarrow\":false,\"text\":\"-0.15\",\"x\":\"BsmtHalfBath\",\"xref\":\"x\",\"y\":\"BsmtFullBath\",\"yref\":\"y\"},{\"font\":{\"color\":\"#FFFFFF\"},\"showarrow\":false,\"text\":\"-0.06\",\"x\":\"FullBath\",\"xref\":\"x\",\"y\":\"BsmtFullBath\",\"yref\":\"y\"},{\"font\":{\"color\":\"#FFFFFF\"},\"showarrow\":false,\"text\":\"-0.03\",\"x\":\"HalfBath\",\"xref\":\"x\",\"y\":\"BsmtFullBath\",\"yref\":\"y\"},{\"font\":{\"color\":\"#FFFFFF\"},\"showarrow\":false,\"text\":\"-0.15\",\"x\":\"BedroomAbvGr\",\"xref\":\"x\",\"y\":\"BsmtFullBath\",\"yref\":\"y\"},{\"font\":{\"color\":\"#FFFFFF\"},\"showarrow\":false,\"text\":\"-0.04\",\"x\":\"KitchenAbvGr\",\"xref\":\"x\",\"y\":\"BsmtFullBath\",\"yref\":\"y\"},{\"font\":{\"color\":\"#FFFFFF\"},\"showarrow\":false,\"text\":\"-0.05\",\"x\":\"TotRmsAbvGrd\",\"xref\":\"x\",\"y\":\"BsmtFullBath\",\"yref\":\"y\"},{\"font\":{\"color\":\"#FFFFFF\"},\"showarrow\":false,\"text\":\"0.14\",\"x\":\"Fireplaces\",\"xref\":\"x\",\"y\":\"BsmtFullBath\",\"yref\":\"y\"},{\"font\":{\"color\":\"#FFFFFF\"},\"showarrow\":false,\"text\":\"0.13\",\"x\":\"GarageCars\",\"xref\":\"x\",\"y\":\"BsmtFullBath\",\"yref\":\"y\"},{\"font\":{\"color\":\"#FFFFFF\"},\"showarrow\":false,\"text\":\"0.18\",\"x\":\"GarageArea\",\"xref\":\"x\",\"y\":\"BsmtFullBath\",\"yref\":\"y\"},{\"font\":{\"color\":\"#FFFFFF\"},\"showarrow\":false,\"text\":\"0.05\",\"x\":\"PavedDrive\",\"xref\":\"x\",\"y\":\"BsmtFullBath\",\"yref\":\"y\"},{\"font\":{\"color\":\"#FFFFFF\"},\"showarrow\":false,\"text\":\"0.18\",\"x\":\"WoodDeckSF\",\"xref\":\"x\",\"y\":\"BsmtFullBath\",\"yref\":\"y\"},{\"font\":{\"color\":\"#FFFFFF\"},\"showarrow\":false,\"text\":\"0.07\",\"x\":\"PoolArea\",\"xref\":\"x\",\"y\":\"BsmtFullBath\",\"yref\":\"y\"},{\"font\":{\"color\":\"#FFFFFF\"},\"showarrow\":false,\"text\":\"0.23\",\"x\":\"SalePrice\",\"xref\":\"x\",\"y\":\"BsmtFullBath\",\"yref\":\"y\"},{\"font\":{\"color\":\"#FFFFFF\"},\"showarrow\":false,\"text\":\"0.05\",\"x\":\"LotArea\",\"xref\":\"x\",\"y\":\"BsmtHalfBath\",\"yref\":\"y\"},{\"font\":{\"color\":\"#FFFFFF\"},\"showarrow\":false,\"text\":\"-0.04\",\"x\":\"YearBuilt\",\"xref\":\"x\",\"y\":\"BsmtHalfBath\",\"yref\":\"y\"},{\"font\":{\"color\":\"#FFFFFF\"},\"showarrow\":false,\"text\":\"-0.01\",\"x\":\"YearRemodelled\",\"xref\":\"x\",\"y\":\"BsmtHalfBath\",\"yref\":\"y\"},{\"font\":{\"color\":\"#FFFFFF\"},\"showarrow\":false,\"text\":\"-0.0\",\"x\":\"TotalBsmtSF\",\"xref\":\"x\",\"y\":\"BsmtHalfBath\",\"yref\":\"y\"},{\"font\":{\"color\":\"#FFFFFF\"},\"showarrow\":false,\"text\":\"0.04\",\"x\":\"CentralAir\",\"xref\":\"x\",\"y\":\"BsmtHalfBath\",\"yref\":\"y\"},{\"font\":{\"color\":\"#FFFFFF\"},\"showarrow\":false,\"text\":\"0.0\",\"x\":\"1stFlrSF\",\"xref\":\"x\",\"y\":\"BsmtHalfBath\",\"yref\":\"y\"},{\"font\":{\"color\":\"#FFFFFF\"},\"showarrow\":false,\"text\":\"-0.02\",\"x\":\"2ndFlrSF\",\"xref\":\"x\",\"y\":\"BsmtHalfBath\",\"yref\":\"y\"},{\"font\":{\"color\":\"#FFFFFF\"},\"showarrow\":false,\"text\":\"-0.02\",\"x\":\"GrLivArea\",\"xref\":\"x\",\"y\":\"BsmtHalfBath\",\"yref\":\"y\"},{\"font\":{\"color\":\"#FFFFFF\"},\"showarrow\":false,\"text\":\"-0.15\",\"x\":\"BsmtFullBath\",\"xref\":\"x\",\"y\":\"BsmtHalfBath\",\"yref\":\"y\"},{\"font\":{\"color\":\"#000000\"},\"showarrow\":false,\"text\":\"1.0\",\"x\":\"BsmtHalfBath\",\"xref\":\"x\",\"y\":\"BsmtHalfBath\",\"yref\":\"y\"},{\"font\":{\"color\":\"#FFFFFF\"},\"showarrow\":false,\"text\":\"-0.05\",\"x\":\"FullBath\",\"xref\":\"x\",\"y\":\"BsmtHalfBath\",\"yref\":\"y\"},{\"font\":{\"color\":\"#FFFFFF\"},\"showarrow\":false,\"text\":\"-0.01\",\"x\":\"HalfBath\",\"xref\":\"x\",\"y\":\"BsmtHalfBath\",\"yref\":\"y\"},{\"font\":{\"color\":\"#FFFFFF\"},\"showarrow\":false,\"text\":\"0.05\",\"x\":\"BedroomAbvGr\",\"xref\":\"x\",\"y\":\"BsmtHalfBath\",\"yref\":\"y\"},{\"font\":{\"color\":\"#FFFFFF\"},\"showarrow\":false,\"text\":\"-0.04\",\"x\":\"KitchenAbvGr\",\"xref\":\"x\",\"y\":\"BsmtHalfBath\",\"yref\":\"y\"},{\"font\":{\"color\":\"#FFFFFF\"},\"showarrow\":false,\"text\":\"-0.02\",\"x\":\"TotRmsAbvGrd\",\"xref\":\"x\",\"y\":\"BsmtHalfBath\",\"yref\":\"y\"},{\"font\":{\"color\":\"#FFFFFF\"},\"showarrow\":false,\"text\":\"0.03\",\"x\":\"Fireplaces\",\"xref\":\"x\",\"y\":\"BsmtHalfBath\",\"yref\":\"y\"},{\"font\":{\"color\":\"#FFFFFF\"},\"showarrow\":false,\"text\":\"-0.02\",\"x\":\"GarageCars\",\"xref\":\"x\",\"y\":\"BsmtHalfBath\",\"yref\":\"y\"},{\"font\":{\"color\":\"#FFFFFF\"},\"showarrow\":false,\"text\":\"-0.02\",\"x\":\"GarageArea\",\"xref\":\"x\",\"y\":\"BsmtHalfBath\",\"yref\":\"y\"},{\"font\":{\"color\":\"#FFFFFF\"},\"showarrow\":false,\"text\":\"0.06\",\"x\":\"PavedDrive\",\"xref\":\"x\",\"y\":\"BsmtHalfBath\",\"yref\":\"y\"},{\"font\":{\"color\":\"#FFFFFF\"},\"showarrow\":false,\"text\":\"0.04\",\"x\":\"WoodDeckSF\",\"xref\":\"x\",\"y\":\"BsmtHalfBath\",\"yref\":\"y\"},{\"font\":{\"color\":\"#FFFFFF\"},\"showarrow\":false,\"text\":\"0.02\",\"x\":\"PoolArea\",\"xref\":\"x\",\"y\":\"BsmtHalfBath\",\"yref\":\"y\"},{\"font\":{\"color\":\"#FFFFFF\"},\"showarrow\":false,\"text\":\"-0.02\",\"x\":\"SalePrice\",\"xref\":\"x\",\"y\":\"BsmtHalfBath\",\"yref\":\"y\"},{\"font\":{\"color\":\"#FFFFFF\"},\"showarrow\":false,\"text\":\"0.13\",\"x\":\"LotArea\",\"xref\":\"x\",\"y\":\"FullBath\",\"yref\":\"y\"},{\"font\":{\"color\":\"#000000\"},\"showarrow\":false,\"text\":\"0.47\",\"x\":\"YearBuilt\",\"xref\":\"x\",\"y\":\"FullBath\",\"yref\":\"y\"},{\"font\":{\"color\":\"#000000\"},\"showarrow\":false,\"text\":\"0.44\",\"x\":\"YearRemodelled\",\"xref\":\"x\",\"y\":\"FullBath\",\"yref\":\"y\"},{\"font\":{\"color\":\"#FFFFFF\"},\"showarrow\":false,\"text\":\"0.32\",\"x\":\"TotalBsmtSF\",\"xref\":\"x\",\"y\":\"FullBath\",\"yref\":\"y\"},{\"font\":{\"color\":\"#FFFFFF\"},\"showarrow\":false,\"text\":\"0.11\",\"x\":\"CentralAir\",\"xref\":\"x\",\"y\":\"FullBath\",\"yref\":\"y\"},{\"font\":{\"color\":\"#000000\"},\"showarrow\":false,\"text\":\"0.38\",\"x\":\"1stFlrSF\",\"xref\":\"x\",\"y\":\"FullBath\",\"yref\":\"y\"},{\"font\":{\"color\":\"#000000\"},\"showarrow\":false,\"text\":\"0.42\",\"x\":\"2ndFlrSF\",\"xref\":\"x\",\"y\":\"FullBath\",\"yref\":\"y\"},{\"font\":{\"color\":\"#000000\"},\"showarrow\":false,\"text\":\"0.63\",\"x\":\"GrLivArea\",\"xref\":\"x\",\"y\":\"FullBath\",\"yref\":\"y\"},{\"font\":{\"color\":\"#FFFFFF\"},\"showarrow\":false,\"text\":\"-0.06\",\"x\":\"BsmtFullBath\",\"xref\":\"x\",\"y\":\"FullBath\",\"yref\":\"y\"},{\"font\":{\"color\":\"#FFFFFF\"},\"showarrow\":false,\"text\":\"-0.05\",\"x\":\"BsmtHalfBath\",\"xref\":\"x\",\"y\":\"FullBath\",\"yref\":\"y\"},{\"font\":{\"color\":\"#000000\"},\"showarrow\":false,\"text\":\"1.0\",\"x\":\"FullBath\",\"xref\":\"x\",\"y\":\"FullBath\",\"yref\":\"y\"},{\"font\":{\"color\":\"#FFFFFF\"},\"showarrow\":false,\"text\":\"0.14\",\"x\":\"HalfBath\",\"xref\":\"x\",\"y\":\"FullBath\",\"yref\":\"y\"},{\"font\":{\"color\":\"#FFFFFF\"},\"showarrow\":false,\"text\":\"0.36\",\"x\":\"BedroomAbvGr\",\"xref\":\"x\",\"y\":\"FullBath\",\"yref\":\"y\"},{\"font\":{\"color\":\"#FFFFFF\"},\"showarrow\":false,\"text\":\"0.13\",\"x\":\"KitchenAbvGr\",\"xref\":\"x\",\"y\":\"FullBath\",\"yref\":\"y\"},{\"font\":{\"color\":\"#000000\"},\"showarrow\":false,\"text\":\"0.55\",\"x\":\"TotRmsAbvGrd\",\"xref\":\"x\",\"y\":\"FullBath\",\"yref\":\"y\"},{\"font\":{\"color\":\"#FFFFFF\"},\"showarrow\":false,\"text\":\"0.24\",\"x\":\"Fireplaces\",\"xref\":\"x\",\"y\":\"FullBath\",\"yref\":\"y\"},{\"font\":{\"color\":\"#000000\"},\"showarrow\":false,\"text\":\"0.47\",\"x\":\"GarageCars\",\"xref\":\"x\",\"y\":\"FullBath\",\"yref\":\"y\"},{\"font\":{\"color\":\"#000000\"},\"showarrow\":false,\"text\":\"0.41\",\"x\":\"GarageArea\",\"xref\":\"x\",\"y\":\"FullBath\",\"yref\":\"y\"},{\"font\":{\"color\":\"#FFFFFF\"},\"showarrow\":false,\"text\":\"0.05\",\"x\":\"PavedDrive\",\"xref\":\"x\",\"y\":\"FullBath\",\"yref\":\"y\"},{\"font\":{\"color\":\"#FFFFFF\"},\"showarrow\":false,\"text\":\"0.19\",\"x\":\"WoodDeckSF\",\"xref\":\"x\",\"y\":\"FullBath\",\"yref\":\"y\"},{\"font\":{\"color\":\"#FFFFFF\"},\"showarrow\":false,\"text\":\"0.05\",\"x\":\"PoolArea\",\"xref\":\"x\",\"y\":\"FullBath\",\"yref\":\"y\"},{\"font\":{\"color\":\"#000000\"},\"showarrow\":false,\"text\":\"0.56\",\"x\":\"SalePrice\",\"xref\":\"x\",\"y\":\"FullBath\",\"yref\":\"y\"},{\"font\":{\"color\":\"#FFFFFF\"},\"showarrow\":false,\"text\":\"0.01\",\"x\":\"LotArea\",\"xref\":\"x\",\"y\":\"HalfBath\",\"yref\":\"y\"},{\"font\":{\"color\":\"#FFFFFF\"},\"showarrow\":false,\"text\":\"0.24\",\"x\":\"YearBuilt\",\"xref\":\"x\",\"y\":\"HalfBath\",\"yref\":\"y\"},{\"font\":{\"color\":\"#FFFFFF\"},\"showarrow\":false,\"text\":\"0.18\",\"x\":\"YearRemodelled\",\"xref\":\"x\",\"y\":\"HalfBath\",\"yref\":\"y\"},{\"font\":{\"color\":\"#FFFFFF\"},\"showarrow\":false,\"text\":\"-0.05\",\"x\":\"TotalBsmtSF\",\"xref\":\"x\",\"y\":\"HalfBath\",\"yref\":\"y\"},{\"font\":{\"color\":\"#FFFFFF\"},\"showarrow\":false,\"text\":\"0.13\",\"x\":\"CentralAir\",\"xref\":\"x\",\"y\":\"HalfBath\",\"yref\":\"y\"},{\"font\":{\"color\":\"#FFFFFF\"},\"showarrow\":false,\"text\":\"-0.12\",\"x\":\"1stFlrSF\",\"xref\":\"x\",\"y\":\"HalfBath\",\"yref\":\"y\"},{\"font\":{\"color\":\"#000000\"},\"showarrow\":false,\"text\":\"0.61\",\"x\":\"2ndFlrSF\",\"xref\":\"x\",\"y\":\"HalfBath\",\"yref\":\"y\"},{\"font\":{\"color\":\"#000000\"},\"showarrow\":false,\"text\":\"0.42\",\"x\":\"GrLivArea\",\"xref\":\"x\",\"y\":\"HalfBath\",\"yref\":\"y\"},{\"font\":{\"color\":\"#FFFFFF\"},\"showarrow\":false,\"text\":\"-0.03\",\"x\":\"BsmtFullBath\",\"xref\":\"x\",\"y\":\"HalfBath\",\"yref\":\"y\"},{\"font\":{\"color\":\"#FFFFFF\"},\"showarrow\":false,\"text\":\"-0.01\",\"x\":\"BsmtHalfBath\",\"xref\":\"x\",\"y\":\"HalfBath\",\"yref\":\"y\"},{\"font\":{\"color\":\"#FFFFFF\"},\"showarrow\":false,\"text\":\"0.14\",\"x\":\"FullBath\",\"xref\":\"x\",\"y\":\"HalfBath\",\"yref\":\"y\"},{\"font\":{\"color\":\"#000000\"},\"showarrow\":false,\"text\":\"1.0\",\"x\":\"HalfBath\",\"xref\":\"x\",\"y\":\"HalfBath\",\"yref\":\"y\"},{\"font\":{\"color\":\"#FFFFFF\"},\"showarrow\":false,\"text\":\"0.23\",\"x\":\"BedroomAbvGr\",\"xref\":\"x\",\"y\":\"HalfBath\",\"yref\":\"y\"},{\"font\":{\"color\":\"#FFFFFF\"},\"showarrow\":false,\"text\":\"-0.07\",\"x\":\"KitchenAbvGr\",\"xref\":\"x\",\"y\":\"HalfBath\",\"yref\":\"y\"},{\"font\":{\"color\":\"#FFFFFF\"},\"showarrow\":false,\"text\":\"0.34\",\"x\":\"TotRmsAbvGrd\",\"xref\":\"x\",\"y\":\"HalfBath\",\"yref\":\"y\"},{\"font\":{\"color\":\"#FFFFFF\"},\"showarrow\":false,\"text\":\"0.2\",\"x\":\"Fireplaces\",\"xref\":\"x\",\"y\":\"HalfBath\",\"yref\":\"y\"},{\"font\":{\"color\":\"#FFFFFF\"},\"showarrow\":false,\"text\":\"0.22\",\"x\":\"GarageCars\",\"xref\":\"x\",\"y\":\"HalfBath\",\"yref\":\"y\"},{\"font\":{\"color\":\"#FFFFFF\"},\"showarrow\":false,\"text\":\"0.16\",\"x\":\"GarageArea\",\"xref\":\"x\",\"y\":\"HalfBath\",\"yref\":\"y\"},{\"font\":{\"color\":\"#FFFFFF\"},\"showarrow\":false,\"text\":\"0.08\",\"x\":\"PavedDrive\",\"xref\":\"x\",\"y\":\"HalfBath\",\"yref\":\"y\"},{\"font\":{\"color\":\"#FFFFFF\"},\"showarrow\":false,\"text\":\"0.11\",\"x\":\"WoodDeckSF\",\"xref\":\"x\",\"y\":\"HalfBath\",\"yref\":\"y\"},{\"font\":{\"color\":\"#FFFFFF\"},\"showarrow\":false,\"text\":\"0.02\",\"x\":\"PoolArea\",\"xref\":\"x\",\"y\":\"HalfBath\",\"yref\":\"y\"},{\"font\":{\"color\":\"#FFFFFF\"},\"showarrow\":false,\"text\":\"0.28\",\"x\":\"SalePrice\",\"xref\":\"x\",\"y\":\"HalfBath\",\"yref\":\"y\"},{\"font\":{\"color\":\"#FFFFFF\"},\"showarrow\":false,\"text\":\"0.12\",\"x\":\"LotArea\",\"xref\":\"x\",\"y\":\"BedroomAbvGr\",\"yref\":\"y\"},{\"font\":{\"color\":\"#FFFFFF\"},\"showarrow\":false,\"text\":\"-0.07\",\"x\":\"YearBuilt\",\"xref\":\"x\",\"y\":\"BedroomAbvGr\",\"yref\":\"y\"},{\"font\":{\"color\":\"#FFFFFF\"},\"showarrow\":false,\"text\":\"-0.04\",\"x\":\"YearRemodelled\",\"xref\":\"x\",\"y\":\"BedroomAbvGr\",\"yref\":\"y\"},{\"font\":{\"color\":\"#FFFFFF\"},\"showarrow\":false,\"text\":\"0.05\",\"x\":\"TotalBsmtSF\",\"xref\":\"x\",\"y\":\"BedroomAbvGr\",\"yref\":\"y\"},{\"font\":{\"color\":\"#FFFFFF\"},\"showarrow\":false,\"text\":\"0.01\",\"x\":\"CentralAir\",\"xref\":\"x\",\"y\":\"BedroomAbvGr\",\"yref\":\"y\"},{\"font\":{\"color\":\"#FFFFFF\"},\"showarrow\":false,\"text\":\"0.13\",\"x\":\"1stFlrSF\",\"xref\":\"x\",\"y\":\"BedroomAbvGr\",\"yref\":\"y\"},{\"font\":{\"color\":\"#000000\"},\"showarrow\":false,\"text\":\"0.5\",\"x\":\"2ndFlrSF\",\"xref\":\"x\",\"y\":\"BedroomAbvGr\",\"yref\":\"y\"},{\"font\":{\"color\":\"#000000\"},\"showarrow\":false,\"text\":\"0.52\",\"x\":\"GrLivArea\",\"xref\":\"x\",\"y\":\"BedroomAbvGr\",\"yref\":\"y\"},{\"font\":{\"color\":\"#FFFFFF\"},\"showarrow\":false,\"text\":\"-0.15\",\"x\":\"BsmtFullBath\",\"xref\":\"x\",\"y\":\"BedroomAbvGr\",\"yref\":\"y\"},{\"font\":{\"color\":\"#FFFFFF\"},\"showarrow\":false,\"text\":\"0.05\",\"x\":\"BsmtHalfBath\",\"xref\":\"x\",\"y\":\"BedroomAbvGr\",\"yref\":\"y\"},{\"font\":{\"color\":\"#FFFFFF\"},\"showarrow\":false,\"text\":\"0.36\",\"x\":\"FullBath\",\"xref\":\"x\",\"y\":\"BedroomAbvGr\",\"yref\":\"y\"},{\"font\":{\"color\":\"#FFFFFF\"},\"showarrow\":false,\"text\":\"0.23\",\"x\":\"HalfBath\",\"xref\":\"x\",\"y\":\"BedroomAbvGr\",\"yref\":\"y\"},{\"font\":{\"color\":\"#000000\"},\"showarrow\":false,\"text\":\"1.0\",\"x\":\"BedroomAbvGr\",\"xref\":\"x\",\"y\":\"BedroomAbvGr\",\"yref\":\"y\"},{\"font\":{\"color\":\"#FFFFFF\"},\"showarrow\":false,\"text\":\"0.2\",\"x\":\"KitchenAbvGr\",\"xref\":\"x\",\"y\":\"BedroomAbvGr\",\"yref\":\"y\"},{\"font\":{\"color\":\"#000000\"},\"showarrow\":false,\"text\":\"0.68\",\"x\":\"TotRmsAbvGrd\",\"xref\":\"x\",\"y\":\"BedroomAbvGr\",\"yref\":\"y\"},{\"font\":{\"color\":\"#FFFFFF\"},\"showarrow\":false,\"text\":\"0.11\",\"x\":\"Fireplaces\",\"xref\":\"x\",\"y\":\"BedroomAbvGr\",\"yref\":\"y\"},{\"font\":{\"color\":\"#FFFFFF\"},\"showarrow\":false,\"text\":\"0.09\",\"x\":\"GarageCars\",\"xref\":\"x\",\"y\":\"BedroomAbvGr\",\"yref\":\"y\"},{\"font\":{\"color\":\"#FFFFFF\"},\"showarrow\":false,\"text\":\"0.07\",\"x\":\"GarageArea\",\"xref\":\"x\",\"y\":\"BedroomAbvGr\",\"yref\":\"y\"},{\"font\":{\"color\":\"#FFFFFF\"},\"showarrow\":false,\"text\":\"-0.01\",\"x\":\"PavedDrive\",\"xref\":\"x\",\"y\":\"BedroomAbvGr\",\"yref\":\"y\"},{\"font\":{\"color\":\"#FFFFFF\"},\"showarrow\":false,\"text\":\"0.05\",\"x\":\"WoodDeckSF\",\"xref\":\"x\",\"y\":\"BedroomAbvGr\",\"yref\":\"y\"},{\"font\":{\"color\":\"#FFFFFF\"},\"showarrow\":false,\"text\":\"0.07\",\"x\":\"PoolArea\",\"xref\":\"x\",\"y\":\"BedroomAbvGr\",\"yref\":\"y\"},{\"font\":{\"color\":\"#FFFFFF\"},\"showarrow\":false,\"text\":\"0.17\",\"x\":\"SalePrice\",\"xref\":\"x\",\"y\":\"BedroomAbvGr\",\"yref\":\"y\"},{\"font\":{\"color\":\"#FFFFFF\"},\"showarrow\":false,\"text\":\"-0.02\",\"x\":\"LotArea\",\"xref\":\"x\",\"y\":\"KitchenAbvGr\",\"yref\":\"y\"},{\"font\":{\"color\":\"#FFFFFF\"},\"showarrow\":false,\"text\":\"-0.17\",\"x\":\"YearBuilt\",\"xref\":\"x\",\"y\":\"KitchenAbvGr\",\"yref\":\"y\"},{\"font\":{\"color\":\"#FFFFFF\"},\"showarrow\":false,\"text\":\"-0.15\",\"x\":\"YearRemodelled\",\"xref\":\"x\",\"y\":\"KitchenAbvGr\",\"yref\":\"y\"},{\"font\":{\"color\":\"#FFFFFF\"},\"showarrow\":false,\"text\":\"-0.07\",\"x\":\"TotalBsmtSF\",\"xref\":\"x\",\"y\":\"KitchenAbvGr\",\"yref\":\"y\"},{\"font\":{\"color\":\"#FFFFFF\"},\"showarrow\":false,\"text\":\"-0.25\",\"x\":\"CentralAir\",\"xref\":\"x\",\"y\":\"KitchenAbvGr\",\"yref\":\"y\"},{\"font\":{\"color\":\"#FFFFFF\"},\"showarrow\":false,\"text\":\"0.07\",\"x\":\"1stFlrSF\",\"xref\":\"x\",\"y\":\"KitchenAbvGr\",\"yref\":\"y\"},{\"font\":{\"color\":\"#FFFFFF\"},\"showarrow\":false,\"text\":\"0.06\",\"x\":\"2ndFlrSF\",\"xref\":\"x\",\"y\":\"KitchenAbvGr\",\"yref\":\"y\"},{\"font\":{\"color\":\"#FFFFFF\"},\"showarrow\":false,\"text\":\"0.1\",\"x\":\"GrLivArea\",\"xref\":\"x\",\"y\":\"KitchenAbvGr\",\"yref\":\"y\"},{\"font\":{\"color\":\"#FFFFFF\"},\"showarrow\":false,\"text\":\"-0.04\",\"x\":\"BsmtFullBath\",\"xref\":\"x\",\"y\":\"KitchenAbvGr\",\"yref\":\"y\"},{\"font\":{\"color\":\"#FFFFFF\"},\"showarrow\":false,\"text\":\"-0.04\",\"x\":\"BsmtHalfBath\",\"xref\":\"x\",\"y\":\"KitchenAbvGr\",\"yref\":\"y\"},{\"font\":{\"color\":\"#FFFFFF\"},\"showarrow\":false,\"text\":\"0.13\",\"x\":\"FullBath\",\"xref\":\"x\",\"y\":\"KitchenAbvGr\",\"yref\":\"y\"},{\"font\":{\"color\":\"#FFFFFF\"},\"showarrow\":false,\"text\":\"-0.07\",\"x\":\"HalfBath\",\"xref\":\"x\",\"y\":\"KitchenAbvGr\",\"yref\":\"y\"},{\"font\":{\"color\":\"#FFFFFF\"},\"showarrow\":false,\"text\":\"0.2\",\"x\":\"BedroomAbvGr\",\"xref\":\"x\",\"y\":\"KitchenAbvGr\",\"yref\":\"y\"},{\"font\":{\"color\":\"#000000\"},\"showarrow\":false,\"text\":\"1.0\",\"x\":\"KitchenAbvGr\",\"xref\":\"x\",\"y\":\"KitchenAbvGr\",\"yref\":\"y\"},{\"font\":{\"color\":\"#FFFFFF\"},\"showarrow\":false,\"text\":\"0.26\",\"x\":\"TotRmsAbvGrd\",\"xref\":\"x\",\"y\":\"KitchenAbvGr\",\"yref\":\"y\"},{\"font\":{\"color\":\"#FFFFFF\"},\"showarrow\":false,\"text\":\"-0.12\",\"x\":\"Fireplaces\",\"xref\":\"x\",\"y\":\"KitchenAbvGr\",\"yref\":\"y\"},{\"font\":{\"color\":\"#FFFFFF\"},\"showarrow\":false,\"text\":\"-0.05\",\"x\":\"GarageCars\",\"xref\":\"x\",\"y\":\"KitchenAbvGr\",\"yref\":\"y\"},{\"font\":{\"color\":\"#FFFFFF\"},\"showarrow\":false,\"text\":\"-0.06\",\"x\":\"GarageArea\",\"xref\":\"x\",\"y\":\"KitchenAbvGr\",\"yref\":\"y\"},{\"font\":{\"color\":\"#FFFFFF\"},\"showarrow\":false,\"text\":\"-0.16\",\"x\":\"PavedDrive\",\"xref\":\"x\",\"y\":\"KitchenAbvGr\",\"yref\":\"y\"},{\"font\":{\"color\":\"#FFFFFF\"},\"showarrow\":false,\"text\":\"-0.09\",\"x\":\"WoodDeckSF\",\"xref\":\"x\",\"y\":\"KitchenAbvGr\",\"yref\":\"y\"},{\"font\":{\"color\":\"#FFFFFF\"},\"showarrow\":false,\"text\":\"-0.01\",\"x\":\"PoolArea\",\"xref\":\"x\",\"y\":\"KitchenAbvGr\",\"yref\":\"y\"},{\"font\":{\"color\":\"#FFFFFF\"},\"showarrow\":false,\"text\":\"-0.14\",\"x\":\"SalePrice\",\"xref\":\"x\",\"y\":\"KitchenAbvGr\",\"yref\":\"y\"},{\"font\":{\"color\":\"#FFFFFF\"},\"showarrow\":false,\"text\":\"0.19\",\"x\":\"LotArea\",\"xref\":\"x\",\"y\":\"TotRmsAbvGrd\",\"yref\":\"y\"},{\"font\":{\"color\":\"#FFFFFF\"},\"showarrow\":false,\"text\":\"0.1\",\"x\":\"YearBuilt\",\"xref\":\"x\",\"y\":\"TotRmsAbvGrd\",\"yref\":\"y\"},{\"font\":{\"color\":\"#FFFFFF\"},\"showarrow\":false,\"text\":\"0.19\",\"x\":\"YearRemodelled\",\"xref\":\"x\",\"y\":\"TotRmsAbvGrd\",\"yref\":\"y\"},{\"font\":{\"color\":\"#FFFFFF\"},\"showarrow\":false,\"text\":\"0.29\",\"x\":\"TotalBsmtSF\",\"xref\":\"x\",\"y\":\"TotRmsAbvGrd\",\"yref\":\"y\"},{\"font\":{\"color\":\"#FFFFFF\"},\"showarrow\":false,\"text\":\"0.03\",\"x\":\"CentralAir\",\"xref\":\"x\",\"y\":\"TotRmsAbvGrd\",\"yref\":\"y\"},{\"font\":{\"color\":\"#000000\"},\"showarrow\":false,\"text\":\"0.41\",\"x\":\"1stFlrSF\",\"xref\":\"x\",\"y\":\"TotRmsAbvGrd\",\"yref\":\"y\"},{\"font\":{\"color\":\"#000000\"},\"showarrow\":false,\"text\":\"0.62\",\"x\":\"2ndFlrSF\",\"xref\":\"x\",\"y\":\"TotRmsAbvGrd\",\"yref\":\"y\"},{\"font\":{\"color\":\"#000000\"},\"showarrow\":false,\"text\":\"0.83\",\"x\":\"GrLivArea\",\"xref\":\"x\",\"y\":\"TotRmsAbvGrd\",\"yref\":\"y\"},{\"font\":{\"color\":\"#FFFFFF\"},\"showarrow\":false,\"text\":\"-0.05\",\"x\":\"BsmtFullBath\",\"xref\":\"x\",\"y\":\"TotRmsAbvGrd\",\"yref\":\"y\"},{\"font\":{\"color\":\"#FFFFFF\"},\"showarrow\":false,\"text\":\"-0.02\",\"x\":\"BsmtHalfBath\",\"xref\":\"x\",\"y\":\"TotRmsAbvGrd\",\"yref\":\"y\"},{\"font\":{\"color\":\"#000000\"},\"showarrow\":false,\"text\":\"0.55\",\"x\":\"FullBath\",\"xref\":\"x\",\"y\":\"TotRmsAbvGrd\",\"yref\":\"y\"},{\"font\":{\"color\":\"#FFFFFF\"},\"showarrow\":false,\"text\":\"0.34\",\"x\":\"HalfBath\",\"xref\":\"x\",\"y\":\"TotRmsAbvGrd\",\"yref\":\"y\"},{\"font\":{\"color\":\"#000000\"},\"showarrow\":false,\"text\":\"0.68\",\"x\":\"BedroomAbvGr\",\"xref\":\"x\",\"y\":\"TotRmsAbvGrd\",\"yref\":\"y\"},{\"font\":{\"color\":\"#FFFFFF\"},\"showarrow\":false,\"text\":\"0.26\",\"x\":\"KitchenAbvGr\",\"xref\":\"x\",\"y\":\"TotRmsAbvGrd\",\"yref\":\"y\"},{\"font\":{\"color\":\"#000000\"},\"showarrow\":false,\"text\":\"1.0\",\"x\":\"TotRmsAbvGrd\",\"xref\":\"x\",\"y\":\"TotRmsAbvGrd\",\"yref\":\"y\"},{\"font\":{\"color\":\"#FFFFFF\"},\"showarrow\":false,\"text\":\"0.33\",\"x\":\"Fireplaces\",\"xref\":\"x\",\"y\":\"TotRmsAbvGrd\",\"yref\":\"y\"},{\"font\":{\"color\":\"#FFFFFF\"},\"showarrow\":false,\"text\":\"0.36\",\"x\":\"GarageCars\",\"xref\":\"x\",\"y\":\"TotRmsAbvGrd\",\"yref\":\"y\"},{\"font\":{\"color\":\"#FFFFFF\"},\"showarrow\":false,\"text\":\"0.34\",\"x\":\"GarageArea\",\"xref\":\"x\",\"y\":\"TotRmsAbvGrd\",\"yref\":\"y\"},{\"font\":{\"color\":\"#FFFFFF\"},\"showarrow\":false,\"text\":\"-0.02\",\"x\":\"PavedDrive\",\"xref\":\"x\",\"y\":\"TotRmsAbvGrd\",\"yref\":\"y\"},{\"font\":{\"color\":\"#FFFFFF\"},\"showarrow\":false,\"text\":\"0.17\",\"x\":\"WoodDeckSF\",\"xref\":\"x\",\"y\":\"TotRmsAbvGrd\",\"yref\":\"y\"},{\"font\":{\"color\":\"#FFFFFF\"},\"showarrow\":false,\"text\":\"0.08\",\"x\":\"PoolArea\",\"xref\":\"x\",\"y\":\"TotRmsAbvGrd\",\"yref\":\"y\"},{\"font\":{\"color\":\"#000000\"},\"showarrow\":false,\"text\":\"0.53\",\"x\":\"SalePrice\",\"xref\":\"x\",\"y\":\"TotRmsAbvGrd\",\"yref\":\"y\"},{\"font\":{\"color\":\"#FFFFFF\"},\"showarrow\":false,\"text\":\"0.27\",\"x\":\"LotArea\",\"xref\":\"x\",\"y\":\"Fireplaces\",\"yref\":\"y\"},{\"font\":{\"color\":\"#FFFFFF\"},\"showarrow\":false,\"text\":\"0.15\",\"x\":\"YearBuilt\",\"xref\":\"x\",\"y\":\"Fireplaces\",\"yref\":\"y\"},{\"font\":{\"color\":\"#FFFFFF\"},\"showarrow\":false,\"text\":\"0.11\",\"x\":\"YearRemodelled\",\"xref\":\"x\",\"y\":\"Fireplaces\",\"yref\":\"y\"},{\"font\":{\"color\":\"#FFFFFF\"},\"showarrow\":false,\"text\":\"0.34\",\"x\":\"TotalBsmtSF\",\"xref\":\"x\",\"y\":\"Fireplaces\",\"yref\":\"y\"},{\"font\":{\"color\":\"#FFFFFF\"},\"showarrow\":false,\"text\":\"0.19\",\"x\":\"CentralAir\",\"xref\":\"x\",\"y\":\"Fireplaces\",\"yref\":\"y\"},{\"font\":{\"color\":\"#000000\"},\"showarrow\":false,\"text\":\"0.41\",\"x\":\"1stFlrSF\",\"xref\":\"x\",\"y\":\"Fireplaces\",\"yref\":\"y\"},{\"font\":{\"color\":\"#FFFFFF\"},\"showarrow\":false,\"text\":\"0.19\",\"x\":\"2ndFlrSF\",\"xref\":\"x\",\"y\":\"Fireplaces\",\"yref\":\"y\"},{\"font\":{\"color\":\"#000000\"},\"showarrow\":false,\"text\":\"0.46\",\"x\":\"GrLivArea\",\"xref\":\"x\",\"y\":\"Fireplaces\",\"yref\":\"y\"},{\"font\":{\"color\":\"#FFFFFF\"},\"showarrow\":false,\"text\":\"0.14\",\"x\":\"BsmtFullBath\",\"xref\":\"x\",\"y\":\"Fireplaces\",\"yref\":\"y\"},{\"font\":{\"color\":\"#FFFFFF\"},\"showarrow\":false,\"text\":\"0.03\",\"x\":\"BsmtHalfBath\",\"xref\":\"x\",\"y\":\"Fireplaces\",\"yref\":\"y\"},{\"font\":{\"color\":\"#FFFFFF\"},\"showarrow\":false,\"text\":\"0.24\",\"x\":\"FullBath\",\"xref\":\"x\",\"y\":\"Fireplaces\",\"yref\":\"y\"},{\"font\":{\"color\":\"#FFFFFF\"},\"showarrow\":false,\"text\":\"0.2\",\"x\":\"HalfBath\",\"xref\":\"x\",\"y\":\"Fireplaces\",\"yref\":\"y\"},{\"font\":{\"color\":\"#FFFFFF\"},\"showarrow\":false,\"text\":\"0.11\",\"x\":\"BedroomAbvGr\",\"xref\":\"x\",\"y\":\"Fireplaces\",\"yref\":\"y\"},{\"font\":{\"color\":\"#FFFFFF\"},\"showarrow\":false,\"text\":\"-0.12\",\"x\":\"KitchenAbvGr\",\"xref\":\"x\",\"y\":\"Fireplaces\",\"yref\":\"y\"},{\"font\":{\"color\":\"#FFFFFF\"},\"showarrow\":false,\"text\":\"0.33\",\"x\":\"TotRmsAbvGrd\",\"xref\":\"x\",\"y\":\"Fireplaces\",\"yref\":\"y\"},{\"font\":{\"color\":\"#000000\"},\"showarrow\":false,\"text\":\"1.0\",\"x\":\"Fireplaces\",\"xref\":\"x\",\"y\":\"Fireplaces\",\"yref\":\"y\"},{\"font\":{\"color\":\"#FFFFFF\"},\"showarrow\":false,\"text\":\"0.3\",\"x\":\"GarageCars\",\"xref\":\"x\",\"y\":\"Fireplaces\",\"yref\":\"y\"},{\"font\":{\"color\":\"#FFFFFF\"},\"showarrow\":false,\"text\":\"0.27\",\"x\":\"GarageArea\",\"xref\":\"x\",\"y\":\"Fireplaces\",\"yref\":\"y\"},{\"font\":{\"color\":\"#FFFFFF\"},\"showarrow\":false,\"text\":\"0.14\",\"x\":\"PavedDrive\",\"xref\":\"x\",\"y\":\"Fireplaces\",\"yref\":\"y\"},{\"font\":{\"color\":\"#FFFFFF\"},\"showarrow\":false,\"text\":\"0.2\",\"x\":\"WoodDeckSF\",\"xref\":\"x\",\"y\":\"Fireplaces\",\"yref\":\"y\"},{\"font\":{\"color\":\"#FFFFFF\"},\"showarrow\":false,\"text\":\"0.1\",\"x\":\"PoolArea\",\"xref\":\"x\",\"y\":\"Fireplaces\",\"yref\":\"y\"},{\"font\":{\"color\":\"#000000\"},\"showarrow\":false,\"text\":\"0.47\",\"x\":\"SalePrice\",\"xref\":\"x\",\"y\":\"Fireplaces\",\"yref\":\"y\"},{\"font\":{\"color\":\"#FFFFFF\"},\"showarrow\":false,\"text\":\"0.15\",\"x\":\"LotArea\",\"xref\":\"x\",\"y\":\"GarageCars\",\"yref\":\"y\"},{\"font\":{\"color\":\"#000000\"},\"showarrow\":false,\"text\":\"0.54\",\"x\":\"YearBuilt\",\"xref\":\"x\",\"y\":\"GarageCars\",\"yref\":\"y\"},{\"font\":{\"color\":\"#000000\"},\"showarrow\":false,\"text\":\"0.42\",\"x\":\"YearRemodelled\",\"xref\":\"x\",\"y\":\"GarageCars\",\"yref\":\"y\"},{\"font\":{\"color\":\"#000000\"},\"showarrow\":false,\"text\":\"0.43\",\"x\":\"TotalBsmtSF\",\"xref\":\"x\",\"y\":\"GarageCars\",\"yref\":\"y\"},{\"font\":{\"color\":\"#FFFFFF\"},\"showarrow\":false,\"text\":\"0.23\",\"x\":\"CentralAir\",\"xref\":\"x\",\"y\":\"GarageCars\",\"yref\":\"y\"},{\"font\":{\"color\":\"#000000\"},\"showarrow\":false,\"text\":\"0.44\",\"x\":\"1stFlrSF\",\"xref\":\"x\",\"y\":\"GarageCars\",\"yref\":\"y\"},{\"font\":{\"color\":\"#FFFFFF\"},\"showarrow\":false,\"text\":\"0.18\",\"x\":\"2ndFlrSF\",\"xref\":\"x\",\"y\":\"GarageCars\",\"yref\":\"y\"},{\"font\":{\"color\":\"#000000\"},\"showarrow\":false,\"text\":\"0.47\",\"x\":\"GrLivArea\",\"xref\":\"x\",\"y\":\"GarageCars\",\"yref\":\"y\"},{\"font\":{\"color\":\"#FFFFFF\"},\"showarrow\":false,\"text\":\"0.13\",\"x\":\"BsmtFullBath\",\"xref\":\"x\",\"y\":\"GarageCars\",\"yref\":\"y\"},{\"font\":{\"color\":\"#FFFFFF\"},\"showarrow\":false,\"text\":\"-0.02\",\"x\":\"BsmtHalfBath\",\"xref\":\"x\",\"y\":\"GarageCars\",\"yref\":\"y\"},{\"font\":{\"color\":\"#000000\"},\"showarrow\":false,\"text\":\"0.47\",\"x\":\"FullBath\",\"xref\":\"x\",\"y\":\"GarageCars\",\"yref\":\"y\"},{\"font\":{\"color\":\"#FFFFFF\"},\"showarrow\":false,\"text\":\"0.22\",\"x\":\"HalfBath\",\"xref\":\"x\",\"y\":\"GarageCars\",\"yref\":\"y\"},{\"font\":{\"color\":\"#FFFFFF\"},\"showarrow\":false,\"text\":\"0.09\",\"x\":\"BedroomAbvGr\",\"xref\":\"x\",\"y\":\"GarageCars\",\"yref\":\"y\"},{\"font\":{\"color\":\"#FFFFFF\"},\"showarrow\":false,\"text\":\"-0.05\",\"x\":\"KitchenAbvGr\",\"xref\":\"x\",\"y\":\"GarageCars\",\"yref\":\"y\"},{\"font\":{\"color\":\"#FFFFFF\"},\"showarrow\":false,\"text\":\"0.36\",\"x\":\"TotRmsAbvGrd\",\"xref\":\"x\",\"y\":\"GarageCars\",\"yref\":\"y\"},{\"font\":{\"color\":\"#FFFFFF\"},\"showarrow\":false,\"text\":\"0.3\",\"x\":\"Fireplaces\",\"xref\":\"x\",\"y\":\"GarageCars\",\"yref\":\"y\"},{\"font\":{\"color\":\"#000000\"},\"showarrow\":false,\"text\":\"1.0\",\"x\":\"GarageCars\",\"xref\":\"x\",\"y\":\"GarageCars\",\"yref\":\"y\"},{\"font\":{\"color\":\"#000000\"},\"showarrow\":false,\"text\":\"0.88\",\"x\":\"GarageArea\",\"xref\":\"x\",\"y\":\"GarageCars\",\"yref\":\"y\"},{\"font\":{\"color\":\"#FFFFFF\"},\"showarrow\":false,\"text\":\"0.17\",\"x\":\"PavedDrive\",\"xref\":\"x\",\"y\":\"GarageCars\",\"yref\":\"y\"},{\"font\":{\"color\":\"#FFFFFF\"},\"showarrow\":false,\"text\":\"0.23\",\"x\":\"WoodDeckSF\",\"xref\":\"x\",\"y\":\"GarageCars\",\"yref\":\"y\"},{\"font\":{\"color\":\"#FFFFFF\"},\"showarrow\":false,\"text\":\"0.02\",\"x\":\"PoolArea\",\"xref\":\"x\",\"y\":\"GarageCars\",\"yref\":\"y\"},{\"font\":{\"color\":\"#000000\"},\"showarrow\":false,\"text\":\"0.64\",\"x\":\"SalePrice\",\"xref\":\"x\",\"y\":\"GarageCars\",\"yref\":\"y\"},{\"font\":{\"color\":\"#FFFFFF\"},\"showarrow\":false,\"text\":\"0.18\",\"x\":\"LotArea\",\"xref\":\"x\",\"y\":\"GarageArea\",\"yref\":\"y\"},{\"font\":{\"color\":\"#000000\"},\"showarrow\":false,\"text\":\"0.48\",\"x\":\"YearBuilt\",\"xref\":\"x\",\"y\":\"GarageArea\",\"yref\":\"y\"},{\"font\":{\"color\":\"#FFFFFF\"},\"showarrow\":false,\"text\":\"0.37\",\"x\":\"YearRemodelled\",\"xref\":\"x\",\"y\":\"GarageArea\",\"yref\":\"y\"},{\"font\":{\"color\":\"#000000\"},\"showarrow\":false,\"text\":\"0.49\",\"x\":\"TotalBsmtSF\",\"xref\":\"x\",\"y\":\"GarageArea\",\"yref\":\"y\"},{\"font\":{\"color\":\"#FFFFFF\"},\"showarrow\":false,\"text\":\"0.23\",\"x\":\"CentralAir\",\"xref\":\"x\",\"y\":\"GarageArea\",\"yref\":\"y\"},{\"font\":{\"color\":\"#000000\"},\"showarrow\":false,\"text\":\"0.49\",\"x\":\"1stFlrSF\",\"xref\":\"x\",\"y\":\"GarageArea\",\"yref\":\"y\"},{\"font\":{\"color\":\"#FFFFFF\"},\"showarrow\":false,\"text\":\"0.14\",\"x\":\"2ndFlrSF\",\"xref\":\"x\",\"y\":\"GarageArea\",\"yref\":\"y\"},{\"font\":{\"color\":\"#000000\"},\"showarrow\":false,\"text\":\"0.47\",\"x\":\"GrLivArea\",\"xref\":\"x\",\"y\":\"GarageArea\",\"yref\":\"y\"},{\"font\":{\"color\":\"#FFFFFF\"},\"showarrow\":false,\"text\":\"0.18\",\"x\":\"BsmtFullBath\",\"xref\":\"x\",\"y\":\"GarageArea\",\"yref\":\"y\"},{\"font\":{\"color\":\"#FFFFFF\"},\"showarrow\":false,\"text\":\"-0.02\",\"x\":\"BsmtHalfBath\",\"xref\":\"x\",\"y\":\"GarageArea\",\"yref\":\"y\"},{\"font\":{\"color\":\"#000000\"},\"showarrow\":false,\"text\":\"0.41\",\"x\":\"FullBath\",\"xref\":\"x\",\"y\":\"GarageArea\",\"yref\":\"y\"},{\"font\":{\"color\":\"#FFFFFF\"},\"showarrow\":false,\"text\":\"0.16\",\"x\":\"HalfBath\",\"xref\":\"x\",\"y\":\"GarageArea\",\"yref\":\"y\"},{\"font\":{\"color\":\"#FFFFFF\"},\"showarrow\":false,\"text\":\"0.07\",\"x\":\"BedroomAbvGr\",\"xref\":\"x\",\"y\":\"GarageArea\",\"yref\":\"y\"},{\"font\":{\"color\":\"#FFFFFF\"},\"showarrow\":false,\"text\":\"-0.06\",\"x\":\"KitchenAbvGr\",\"xref\":\"x\",\"y\":\"GarageArea\",\"yref\":\"y\"},{\"font\":{\"color\":\"#FFFFFF\"},\"showarrow\":false,\"text\":\"0.34\",\"x\":\"TotRmsAbvGrd\",\"xref\":\"x\",\"y\":\"GarageArea\",\"yref\":\"y\"},{\"font\":{\"color\":\"#FFFFFF\"},\"showarrow\":false,\"text\":\"0.27\",\"x\":\"Fireplaces\",\"xref\":\"x\",\"y\":\"GarageArea\",\"yref\":\"y\"},{\"font\":{\"color\":\"#000000\"},\"showarrow\":false,\"text\":\"0.88\",\"x\":\"GarageCars\",\"xref\":\"x\",\"y\":\"GarageArea\",\"yref\":\"y\"},{\"font\":{\"color\":\"#000000\"},\"showarrow\":false,\"text\":\"1.0\",\"x\":\"GarageArea\",\"xref\":\"x\",\"y\":\"GarageArea\",\"yref\":\"y\"},{\"font\":{\"color\":\"#FFFFFF\"},\"showarrow\":false,\"text\":\"0.19\",\"x\":\"PavedDrive\",\"xref\":\"x\",\"y\":\"GarageArea\",\"yref\":\"y\"},{\"font\":{\"color\":\"#FFFFFF\"},\"showarrow\":false,\"text\":\"0.22\",\"x\":\"WoodDeckSF\",\"xref\":\"x\",\"y\":\"GarageArea\",\"yref\":\"y\"},{\"font\":{\"color\":\"#FFFFFF\"},\"showarrow\":false,\"text\":\"0.06\",\"x\":\"PoolArea\",\"xref\":\"x\",\"y\":\"GarageArea\",\"yref\":\"y\"},{\"font\":{\"color\":\"#000000\"},\"showarrow\":false,\"text\":\"0.62\",\"x\":\"SalePrice\",\"xref\":\"x\",\"y\":\"GarageArea\",\"yref\":\"y\"},{\"font\":{\"color\":\"#FFFFFF\"},\"showarrow\":false,\"text\":\"0.02\",\"x\":\"LotArea\",\"xref\":\"x\",\"y\":\"PavedDrive\",\"yref\":\"y\"},{\"font\":{\"color\":\"#FFFFFF\"},\"showarrow\":false,\"text\":\"0.24\",\"x\":\"YearBuilt\",\"xref\":\"x\",\"y\":\"PavedDrive\",\"yref\":\"y\"},{\"font\":{\"color\":\"#FFFFFF\"},\"showarrow\":false,\"text\":\"0.05\",\"x\":\"YearRemodelled\",\"xref\":\"x\",\"y\":\"PavedDrive\",\"yref\":\"y\"},{\"font\":{\"color\":\"#FFFFFF\"},\"showarrow\":false,\"text\":\"0.13\",\"x\":\"TotalBsmtSF\",\"xref\":\"x\",\"y\":\"PavedDrive\",\"yref\":\"y\"},{\"font\":{\"color\":\"#FFFFFF\"},\"showarrow\":false,\"text\":\"0.24\",\"x\":\"CentralAir\",\"xref\":\"x\",\"y\":\"PavedDrive\",\"yref\":\"y\"},{\"font\":{\"color\":\"#FFFFFF\"},\"showarrow\":false,\"text\":\"0.1\",\"x\":\"1stFlrSF\",\"xref\":\"x\",\"y\":\"PavedDrive\",\"yref\":\"y\"},{\"font\":{\"color\":\"#FFFFFF\"},\"showarrow\":false,\"text\":\"-0.03\",\"x\":\"2ndFlrSF\",\"xref\":\"x\",\"y\":\"PavedDrive\",\"yref\":\"y\"},{\"font\":{\"color\":\"#FFFFFF\"},\"showarrow\":false,\"text\":\"0.05\",\"x\":\"GrLivArea\",\"xref\":\"x\",\"y\":\"PavedDrive\",\"yref\":\"y\"},{\"font\":{\"color\":\"#FFFFFF\"},\"showarrow\":false,\"text\":\"0.05\",\"x\":\"BsmtFullBath\",\"xref\":\"x\",\"y\":\"PavedDrive\",\"yref\":\"y\"},{\"font\":{\"color\":\"#FFFFFF\"},\"showarrow\":false,\"text\":\"0.06\",\"x\":\"BsmtHalfBath\",\"xref\":\"x\",\"y\":\"PavedDrive\",\"yref\":\"y\"},{\"font\":{\"color\":\"#FFFFFF\"},\"showarrow\":false,\"text\":\"0.05\",\"x\":\"FullBath\",\"xref\":\"x\",\"y\":\"PavedDrive\",\"yref\":\"y\"},{\"font\":{\"color\":\"#FFFFFF\"},\"showarrow\":false,\"text\":\"0.08\",\"x\":\"HalfBath\",\"xref\":\"x\",\"y\":\"PavedDrive\",\"yref\":\"y\"},{\"font\":{\"color\":\"#FFFFFF\"},\"showarrow\":false,\"text\":\"-0.01\",\"x\":\"BedroomAbvGr\",\"xref\":\"x\",\"y\":\"PavedDrive\",\"yref\":\"y\"},{\"font\":{\"color\":\"#FFFFFF\"},\"showarrow\":false,\"text\":\"-0.16\",\"x\":\"KitchenAbvGr\",\"xref\":\"x\",\"y\":\"PavedDrive\",\"yref\":\"y\"},{\"font\":{\"color\":\"#FFFFFF\"},\"showarrow\":false,\"text\":\"-0.02\",\"x\":\"TotRmsAbvGrd\",\"xref\":\"x\",\"y\":\"PavedDrive\",\"yref\":\"y\"},{\"font\":{\"color\":\"#FFFFFF\"},\"showarrow\":false,\"text\":\"0.14\",\"x\":\"Fireplaces\",\"xref\":\"x\",\"y\":\"PavedDrive\",\"yref\":\"y\"},{\"font\":{\"color\":\"#FFFFFF\"},\"showarrow\":false,\"text\":\"0.17\",\"x\":\"GarageCars\",\"xref\":\"x\",\"y\":\"PavedDrive\",\"yref\":\"y\"},{\"font\":{\"color\":\"#FFFFFF\"},\"showarrow\":false,\"text\":\"0.19\",\"x\":\"GarageArea\",\"xref\":\"x\",\"y\":\"PavedDrive\",\"yref\":\"y\"},{\"font\":{\"color\":\"#000000\"},\"showarrow\":false,\"text\":\"1.0\",\"x\":\"PavedDrive\",\"xref\":\"x\",\"y\":\"PavedDrive\",\"yref\":\"y\"},{\"font\":{\"color\":\"#FFFFFF\"},\"showarrow\":false,\"text\":\"0.07\",\"x\":\"WoodDeckSF\",\"xref\":\"x\",\"y\":\"PavedDrive\",\"yref\":\"y\"},{\"font\":{\"color\":\"#FFFFFF\"},\"showarrow\":false,\"text\":\"0.01\",\"x\":\"PoolArea\",\"xref\":\"x\",\"y\":\"PavedDrive\",\"yref\":\"y\"},{\"font\":{\"color\":\"#FFFFFF\"},\"showarrow\":false,\"text\":\"0.14\",\"x\":\"SalePrice\",\"xref\":\"x\",\"y\":\"PavedDrive\",\"yref\":\"y\"},{\"font\":{\"color\":\"#FFFFFF\"},\"showarrow\":false,\"text\":\"0.17\",\"x\":\"LotArea\",\"xref\":\"x\",\"y\":\"WoodDeckSF\",\"yref\":\"y\"},{\"font\":{\"color\":\"#FFFFFF\"},\"showarrow\":false,\"text\":\"0.22\",\"x\":\"YearBuilt\",\"xref\":\"x\",\"y\":\"WoodDeckSF\",\"yref\":\"y\"},{\"font\":{\"color\":\"#FFFFFF\"},\"showarrow\":false,\"text\":\"0.21\",\"x\":\"YearRemodelled\",\"xref\":\"x\",\"y\":\"WoodDeckSF\",\"yref\":\"y\"},{\"font\":{\"color\":\"#FFFFFF\"},\"showarrow\":false,\"text\":\"0.23\",\"x\":\"TotalBsmtSF\",\"xref\":\"x\",\"y\":\"WoodDeckSF\",\"yref\":\"y\"},{\"font\":{\"color\":\"#FFFFFF\"},\"showarrow\":false,\"text\":\"0.15\",\"x\":\"CentralAir\",\"xref\":\"x\",\"y\":\"WoodDeckSF\",\"yref\":\"y\"},{\"font\":{\"color\":\"#FFFFFF\"},\"showarrow\":false,\"text\":\"0.24\",\"x\":\"1stFlrSF\",\"xref\":\"x\",\"y\":\"WoodDeckSF\",\"yref\":\"y\"},{\"font\":{\"color\":\"#FFFFFF\"},\"showarrow\":false,\"text\":\"0.09\",\"x\":\"2ndFlrSF\",\"xref\":\"x\",\"y\":\"WoodDeckSF\",\"yref\":\"y\"},{\"font\":{\"color\":\"#FFFFFF\"},\"showarrow\":false,\"text\":\"0.25\",\"x\":\"GrLivArea\",\"xref\":\"x\",\"y\":\"WoodDeckSF\",\"yref\":\"y\"},{\"font\":{\"color\":\"#FFFFFF\"},\"showarrow\":false,\"text\":\"0.18\",\"x\":\"BsmtFullBath\",\"xref\":\"x\",\"y\":\"WoodDeckSF\",\"yref\":\"y\"},{\"font\":{\"color\":\"#FFFFFF\"},\"showarrow\":false,\"text\":\"0.04\",\"x\":\"BsmtHalfBath\",\"xref\":\"x\",\"y\":\"WoodDeckSF\",\"yref\":\"y\"},{\"font\":{\"color\":\"#FFFFFF\"},\"showarrow\":false,\"text\":\"0.19\",\"x\":\"FullBath\",\"xref\":\"x\",\"y\":\"WoodDeckSF\",\"yref\":\"y\"},{\"font\":{\"color\":\"#FFFFFF\"},\"showarrow\":false,\"text\":\"0.11\",\"x\":\"HalfBath\",\"xref\":\"x\",\"y\":\"WoodDeckSF\",\"yref\":\"y\"},{\"font\":{\"color\":\"#FFFFFF\"},\"showarrow\":false,\"text\":\"0.05\",\"x\":\"BedroomAbvGr\",\"xref\":\"x\",\"y\":\"WoodDeckSF\",\"yref\":\"y\"},{\"font\":{\"color\":\"#FFFFFF\"},\"showarrow\":false,\"text\":\"-0.09\",\"x\":\"KitchenAbvGr\",\"xref\":\"x\",\"y\":\"WoodDeckSF\",\"yref\":\"y\"},{\"font\":{\"color\":\"#FFFFFF\"},\"showarrow\":false,\"text\":\"0.17\",\"x\":\"TotRmsAbvGrd\",\"xref\":\"x\",\"y\":\"WoodDeckSF\",\"yref\":\"y\"},{\"font\":{\"color\":\"#FFFFFF\"},\"showarrow\":false,\"text\":\"0.2\",\"x\":\"Fireplaces\",\"xref\":\"x\",\"y\":\"WoodDeckSF\",\"yref\":\"y\"},{\"font\":{\"color\":\"#FFFFFF\"},\"showarrow\":false,\"text\":\"0.23\",\"x\":\"GarageCars\",\"xref\":\"x\",\"y\":\"WoodDeckSF\",\"yref\":\"y\"},{\"font\":{\"color\":\"#FFFFFF\"},\"showarrow\":false,\"text\":\"0.22\",\"x\":\"GarageArea\",\"xref\":\"x\",\"y\":\"WoodDeckSF\",\"yref\":\"y\"},{\"font\":{\"color\":\"#FFFFFF\"},\"showarrow\":false,\"text\":\"0.07\",\"x\":\"PavedDrive\",\"xref\":\"x\",\"y\":\"WoodDeckSF\",\"yref\":\"y\"},{\"font\":{\"color\":\"#000000\"},\"showarrow\":false,\"text\":\"1.0\",\"x\":\"WoodDeckSF\",\"xref\":\"x\",\"y\":\"WoodDeckSF\",\"yref\":\"y\"},{\"font\":{\"color\":\"#FFFFFF\"},\"showarrow\":false,\"text\":\"0.07\",\"x\":\"PoolArea\",\"xref\":\"x\",\"y\":\"WoodDeckSF\",\"yref\":\"y\"},{\"font\":{\"color\":\"#FFFFFF\"},\"showarrow\":false,\"text\":\"0.32\",\"x\":\"SalePrice\",\"xref\":\"x\",\"y\":\"WoodDeckSF\",\"yref\":\"y\"},{\"font\":{\"color\":\"#FFFFFF\"},\"showarrow\":false,\"text\":\"0.08\",\"x\":\"LotArea\",\"xref\":\"x\",\"y\":\"PoolArea\",\"yref\":\"y\"},{\"font\":{\"color\":\"#FFFFFF\"},\"showarrow\":false,\"text\":\"0.0\",\"x\":\"YearBuilt\",\"xref\":\"x\",\"y\":\"PoolArea\",\"yref\":\"y\"},{\"font\":{\"color\":\"#FFFFFF\"},\"showarrow\":false,\"text\":\"0.01\",\"x\":\"YearRemodelled\",\"xref\":\"x\",\"y\":\"PoolArea\",\"yref\":\"y\"},{\"font\":{\"color\":\"#FFFFFF\"},\"showarrow\":false,\"text\":\"0.13\",\"x\":\"TotalBsmtSF\",\"xref\":\"x\",\"y\":\"PoolArea\",\"yref\":\"y\"},{\"font\":{\"color\":\"#FFFFFF\"},\"showarrow\":false,\"text\":\"0.02\",\"x\":\"CentralAir\",\"xref\":\"x\",\"y\":\"PoolArea\",\"yref\":\"y\"},{\"font\":{\"color\":\"#FFFFFF\"},\"showarrow\":false,\"text\":\"0.13\",\"x\":\"1stFlrSF\",\"xref\":\"x\",\"y\":\"PoolArea\",\"yref\":\"y\"},{\"font\":{\"color\":\"#FFFFFF\"},\"showarrow\":false,\"text\":\"0.08\",\"x\":\"2ndFlrSF\",\"xref\":\"x\",\"y\":\"PoolArea\",\"yref\":\"y\"},{\"font\":{\"color\":\"#FFFFFF\"},\"showarrow\":false,\"text\":\"0.17\",\"x\":\"GrLivArea\",\"xref\":\"x\",\"y\":\"PoolArea\",\"yref\":\"y\"},{\"font\":{\"color\":\"#FFFFFF\"},\"showarrow\":false,\"text\":\"0.07\",\"x\":\"BsmtFullBath\",\"xref\":\"x\",\"y\":\"PoolArea\",\"yref\":\"y\"},{\"font\":{\"color\":\"#FFFFFF\"},\"showarrow\":false,\"text\":\"0.02\",\"x\":\"BsmtHalfBath\",\"xref\":\"x\",\"y\":\"PoolArea\",\"yref\":\"y\"},{\"font\":{\"color\":\"#FFFFFF\"},\"showarrow\":false,\"text\":\"0.05\",\"x\":\"FullBath\",\"xref\":\"x\",\"y\":\"PoolArea\",\"yref\":\"y\"},{\"font\":{\"color\":\"#FFFFFF\"},\"showarrow\":false,\"text\":\"0.02\",\"x\":\"HalfBath\",\"xref\":\"x\",\"y\":\"PoolArea\",\"yref\":\"y\"},{\"font\":{\"color\":\"#FFFFFF\"},\"showarrow\":false,\"text\":\"0.07\",\"x\":\"BedroomAbvGr\",\"xref\":\"x\",\"y\":\"PoolArea\",\"yref\":\"y\"},{\"font\":{\"color\":\"#FFFFFF\"},\"showarrow\":false,\"text\":\"-0.01\",\"x\":\"KitchenAbvGr\",\"xref\":\"x\",\"y\":\"PoolArea\",\"yref\":\"y\"},{\"font\":{\"color\":\"#FFFFFF\"},\"showarrow\":false,\"text\":\"0.08\",\"x\":\"TotRmsAbvGrd\",\"xref\":\"x\",\"y\":\"PoolArea\",\"yref\":\"y\"},{\"font\":{\"color\":\"#FFFFFF\"},\"showarrow\":false,\"text\":\"0.1\",\"x\":\"Fireplaces\",\"xref\":\"x\",\"y\":\"PoolArea\",\"yref\":\"y\"},{\"font\":{\"color\":\"#FFFFFF\"},\"showarrow\":false,\"text\":\"0.02\",\"x\":\"GarageCars\",\"xref\":\"x\",\"y\":\"PoolArea\",\"yref\":\"y\"},{\"font\":{\"color\":\"#FFFFFF\"},\"showarrow\":false,\"text\":\"0.06\",\"x\":\"GarageArea\",\"xref\":\"x\",\"y\":\"PoolArea\",\"yref\":\"y\"},{\"font\":{\"color\":\"#FFFFFF\"},\"showarrow\":false,\"text\":\"0.01\",\"x\":\"PavedDrive\",\"xref\":\"x\",\"y\":\"PoolArea\",\"yref\":\"y\"},{\"font\":{\"color\":\"#FFFFFF\"},\"showarrow\":false,\"text\":\"0.07\",\"x\":\"WoodDeckSF\",\"xref\":\"x\",\"y\":\"PoolArea\",\"yref\":\"y\"},{\"font\":{\"color\":\"#000000\"},\"showarrow\":false,\"text\":\"1.0\",\"x\":\"PoolArea\",\"xref\":\"x\",\"y\":\"PoolArea\",\"yref\":\"y\"},{\"font\":{\"color\":\"#FFFFFF\"},\"showarrow\":false,\"text\":\"0.09\",\"x\":\"SalePrice\",\"xref\":\"x\",\"y\":\"PoolArea\",\"yref\":\"y\"},{\"font\":{\"color\":\"#FFFFFF\"},\"showarrow\":false,\"text\":\"0.26\",\"x\":\"LotArea\",\"xref\":\"x\",\"y\":\"SalePrice\",\"yref\":\"y\"},{\"font\":{\"color\":\"#000000\"},\"showarrow\":false,\"text\":\"0.52\",\"x\":\"YearBuilt\",\"xref\":\"x\",\"y\":\"SalePrice\",\"yref\":\"y\"},{\"font\":{\"color\":\"#000000\"},\"showarrow\":false,\"text\":\"0.51\",\"x\":\"YearRemodelled\",\"xref\":\"x\",\"y\":\"SalePrice\",\"yref\":\"y\"},{\"font\":{\"color\":\"#000000\"},\"showarrow\":false,\"text\":\"0.61\",\"x\":\"TotalBsmtSF\",\"xref\":\"x\",\"y\":\"SalePrice\",\"yref\":\"y\"},{\"font\":{\"color\":\"#FFFFFF\"},\"showarrow\":false,\"text\":\"0.25\",\"x\":\"CentralAir\",\"xref\":\"x\",\"y\":\"SalePrice\",\"yref\":\"y\"},{\"font\":{\"color\":\"#000000\"},\"showarrow\":false,\"text\":\"0.61\",\"x\":\"1stFlrSF\",\"xref\":\"x\",\"y\":\"SalePrice\",\"yref\":\"y\"},{\"font\":{\"color\":\"#FFFFFF\"},\"showarrow\":false,\"text\":\"0.32\",\"x\":\"2ndFlrSF\",\"xref\":\"x\",\"y\":\"SalePrice\",\"yref\":\"y\"},{\"font\":{\"color\":\"#000000\"},\"showarrow\":false,\"text\":\"0.71\",\"x\":\"GrLivArea\",\"xref\":\"x\",\"y\":\"SalePrice\",\"yref\":\"y\"},{\"font\":{\"color\":\"#FFFFFF\"},\"showarrow\":false,\"text\":\"0.23\",\"x\":\"BsmtFullBath\",\"xref\":\"x\",\"y\":\"SalePrice\",\"yref\":\"y\"},{\"font\":{\"color\":\"#FFFFFF\"},\"showarrow\":false,\"text\":\"-0.02\",\"x\":\"BsmtHalfBath\",\"xref\":\"x\",\"y\":\"SalePrice\",\"yref\":\"y\"},{\"font\":{\"color\":\"#000000\"},\"showarrow\":false,\"text\":\"0.56\",\"x\":\"FullBath\",\"xref\":\"x\",\"y\":\"SalePrice\",\"yref\":\"y\"},{\"font\":{\"color\":\"#FFFFFF\"},\"showarrow\":false,\"text\":\"0.28\",\"x\":\"HalfBath\",\"xref\":\"x\",\"y\":\"SalePrice\",\"yref\":\"y\"},{\"font\":{\"color\":\"#FFFFFF\"},\"showarrow\":false,\"text\":\"0.17\",\"x\":\"BedroomAbvGr\",\"xref\":\"x\",\"y\":\"SalePrice\",\"yref\":\"y\"},{\"font\":{\"color\":\"#FFFFFF\"},\"showarrow\":false,\"text\":\"-0.14\",\"x\":\"KitchenAbvGr\",\"xref\":\"x\",\"y\":\"SalePrice\",\"yref\":\"y\"},{\"font\":{\"color\":\"#000000\"},\"showarrow\":false,\"text\":\"0.53\",\"x\":\"TotRmsAbvGrd\",\"xref\":\"x\",\"y\":\"SalePrice\",\"yref\":\"y\"},{\"font\":{\"color\":\"#000000\"},\"showarrow\":false,\"text\":\"0.47\",\"x\":\"Fireplaces\",\"xref\":\"x\",\"y\":\"SalePrice\",\"yref\":\"y\"},{\"font\":{\"color\":\"#000000\"},\"showarrow\":false,\"text\":\"0.64\",\"x\":\"GarageCars\",\"xref\":\"x\",\"y\":\"SalePrice\",\"yref\":\"y\"},{\"font\":{\"color\":\"#000000\"},\"showarrow\":false,\"text\":\"0.62\",\"x\":\"GarageArea\",\"xref\":\"x\",\"y\":\"SalePrice\",\"yref\":\"y\"},{\"font\":{\"color\":\"#FFFFFF\"},\"showarrow\":false,\"text\":\"0.14\",\"x\":\"PavedDrive\",\"xref\":\"x\",\"y\":\"SalePrice\",\"yref\":\"y\"},{\"font\":{\"color\":\"#FFFFFF\"},\"showarrow\":false,\"text\":\"0.32\",\"x\":\"WoodDeckSF\",\"xref\":\"x\",\"y\":\"SalePrice\",\"yref\":\"y\"},{\"font\":{\"color\":\"#FFFFFF\"},\"showarrow\":false,\"text\":\"0.09\",\"x\":\"PoolArea\",\"xref\":\"x\",\"y\":\"SalePrice\",\"yref\":\"y\"},{\"font\":{\"color\":\"#000000\"},\"showarrow\":false,\"text\":\"1.0\",\"x\":\"SalePrice\",\"xref\":\"x\",\"y\":\"SalePrice\",\"yref\":\"y\"}],\"xaxis\":{\"dtick\":1,\"gridcolor\":\"rgb(0, 0, 0)\",\"side\":\"top\",\"ticks\":\"\"},\"yaxis\":{\"dtick\":1,\"ticks\":\"\",\"ticksuffix\":\"  \"},\"template\":{\"data\":{\"bar\":[{\"error_x\":{\"color\":\"#2a3f5f\"},\"error_y\":{\"color\":\"#2a3f5f\"},\"marker\":{\"line\":{\"color\":\"#E5ECF6\",\"width\":0.5},\"pattern\":{\"fillmode\":\"overlay\",\"size\":10,\"solidity\":0.2}},\"type\":\"bar\"}],\"barpolar\":[{\"marker\":{\"line\":{\"color\":\"#E5ECF6\",\"width\":0.5},\"pattern\":{\"fillmode\":\"overlay\",\"size\":10,\"solidity\":0.2}},\"type\":\"barpolar\"}],\"carpet\":[{\"aaxis\":{\"endlinecolor\":\"#2a3f5f\",\"gridcolor\":\"white\",\"linecolor\":\"white\",\"minorgridcolor\":\"white\",\"startlinecolor\":\"#2a3f5f\"},\"baxis\":{\"endlinecolor\":\"#2a3f5f\",\"gridcolor\":\"white\",\"linecolor\":\"white\",\"minorgridcolor\":\"white\",\"startlinecolor\":\"#2a3f5f\"},\"type\":\"carpet\"}],\"choropleth\":[{\"colorbar\":{\"outlinewidth\":0,\"ticks\":\"\"},\"type\":\"choropleth\"}],\"contour\":[{\"colorbar\":{\"outlinewidth\":0,\"ticks\":\"\"},\"colorscale\":[[0.0,\"#0d0887\"],[0.1111111111111111,\"#46039f\"],[0.2222222222222222,\"#7201a8\"],[0.3333333333333333,\"#9c179e\"],[0.4444444444444444,\"#bd3786\"],[0.5555555555555556,\"#d8576b\"],[0.6666666666666666,\"#ed7953\"],[0.7777777777777778,\"#fb9f3a\"],[0.8888888888888888,\"#fdca26\"],[1.0,\"#f0f921\"]],\"type\":\"contour\"}],\"contourcarpet\":[{\"colorbar\":{\"outlinewidth\":0,\"ticks\":\"\"},\"type\":\"contourcarpet\"}],\"heatmap\":[{\"colorbar\":{\"outlinewidth\":0,\"ticks\":\"\"},\"colorscale\":[[0.0,\"#0d0887\"],[0.1111111111111111,\"#46039f\"],[0.2222222222222222,\"#7201a8\"],[0.3333333333333333,\"#9c179e\"],[0.4444444444444444,\"#bd3786\"],[0.5555555555555556,\"#d8576b\"],[0.6666666666666666,\"#ed7953\"],[0.7777777777777778,\"#fb9f3a\"],[0.8888888888888888,\"#fdca26\"],[1.0,\"#f0f921\"]],\"type\":\"heatmap\"}],\"heatmapgl\":[{\"colorbar\":{\"outlinewidth\":0,\"ticks\":\"\"},\"colorscale\":[[0.0,\"#0d0887\"],[0.1111111111111111,\"#46039f\"],[0.2222222222222222,\"#7201a8\"],[0.3333333333333333,\"#9c179e\"],[0.4444444444444444,\"#bd3786\"],[0.5555555555555556,\"#d8576b\"],[0.6666666666666666,\"#ed7953\"],[0.7777777777777778,\"#fb9f3a\"],[0.8888888888888888,\"#fdca26\"],[1.0,\"#f0f921\"]],\"type\":\"heatmapgl\"}],\"histogram\":[{\"marker\":{\"pattern\":{\"fillmode\":\"overlay\",\"size\":10,\"solidity\":0.2}},\"type\":\"histogram\"}],\"histogram2d\":[{\"colorbar\":{\"outlinewidth\":0,\"ticks\":\"\"},\"colorscale\":[[0.0,\"#0d0887\"],[0.1111111111111111,\"#46039f\"],[0.2222222222222222,\"#7201a8\"],[0.3333333333333333,\"#9c179e\"],[0.4444444444444444,\"#bd3786\"],[0.5555555555555556,\"#d8576b\"],[0.6666666666666666,\"#ed7953\"],[0.7777777777777778,\"#fb9f3a\"],[0.8888888888888888,\"#fdca26\"],[1.0,\"#f0f921\"]],\"type\":\"histogram2d\"}],\"histogram2dcontour\":[{\"colorbar\":{\"outlinewidth\":0,\"ticks\":\"\"},\"colorscale\":[[0.0,\"#0d0887\"],[0.1111111111111111,\"#46039f\"],[0.2222222222222222,\"#7201a8\"],[0.3333333333333333,\"#9c179e\"],[0.4444444444444444,\"#bd3786\"],[0.5555555555555556,\"#d8576b\"],[0.6666666666666666,\"#ed7953\"],[0.7777777777777778,\"#fb9f3a\"],[0.8888888888888888,\"#fdca26\"],[1.0,\"#f0f921\"]],\"type\":\"histogram2dcontour\"}],\"mesh3d\":[{\"colorbar\":{\"outlinewidth\":0,\"ticks\":\"\"},\"type\":\"mesh3d\"}],\"parcoords\":[{\"line\":{\"colorbar\":{\"outlinewidth\":0,\"ticks\":\"\"}},\"type\":\"parcoords\"}],\"pie\":[{\"automargin\":true,\"type\":\"pie\"}],\"scatter\":[{\"marker\":{\"colorbar\":{\"outlinewidth\":0,\"ticks\":\"\"}},\"type\":\"scatter\"}],\"scatter3d\":[{\"line\":{\"colorbar\":{\"outlinewidth\":0,\"ticks\":\"\"}},\"marker\":{\"colorbar\":{\"outlinewidth\":0,\"ticks\":\"\"}},\"type\":\"scatter3d\"}],\"scattercarpet\":[{\"marker\":{\"colorbar\":{\"outlinewidth\":0,\"ticks\":\"\"}},\"type\":\"scattercarpet\"}],\"scattergeo\":[{\"marker\":{\"colorbar\":{\"outlinewidth\":0,\"ticks\":\"\"}},\"type\":\"scattergeo\"}],\"scattergl\":[{\"marker\":{\"colorbar\":{\"outlinewidth\":0,\"ticks\":\"\"}},\"type\":\"scattergl\"}],\"scattermapbox\":[{\"marker\":{\"colorbar\":{\"outlinewidth\":0,\"ticks\":\"\"}},\"type\":\"scattermapbox\"}],\"scatterpolar\":[{\"marker\":{\"colorbar\":{\"outlinewidth\":0,\"ticks\":\"\"}},\"type\":\"scatterpolar\"}],\"scatterpolargl\":[{\"marker\":{\"colorbar\":{\"outlinewidth\":0,\"ticks\":\"\"}},\"type\":\"scatterpolargl\"}],\"scatterternary\":[{\"marker\":{\"colorbar\":{\"outlinewidth\":0,\"ticks\":\"\"}},\"type\":\"scatterternary\"}],\"surface\":[{\"colorbar\":{\"outlinewidth\":0,\"ticks\":\"\"},\"colorscale\":[[0.0,\"#0d0887\"],[0.1111111111111111,\"#46039f\"],[0.2222222222222222,\"#7201a8\"],[0.3333333333333333,\"#9c179e\"],[0.4444444444444444,\"#bd3786\"],[0.5555555555555556,\"#d8576b\"],[0.6666666666666666,\"#ed7953\"],[0.7777777777777778,\"#fb9f3a\"],[0.8888888888888888,\"#fdca26\"],[1.0,\"#f0f921\"]],\"type\":\"surface\"}],\"table\":[{\"cells\":{\"fill\":{\"color\":\"#EBF0F8\"},\"line\":{\"color\":\"white\"}},\"header\":{\"fill\":{\"color\":\"#C8D4E3\"},\"line\":{\"color\":\"white\"}},\"type\":\"table\"}]},\"layout\":{\"annotationdefaults\":{\"arrowcolor\":\"#2a3f5f\",\"arrowhead\":0,\"arrowwidth\":1},\"autotypenumbers\":\"strict\",\"coloraxis\":{\"colorbar\":{\"outlinewidth\":0,\"ticks\":\"\"}},\"colorscale\":{\"diverging\":[[0,\"#8e0152\"],[0.1,\"#c51b7d\"],[0.2,\"#de77ae\"],[0.3,\"#f1b6da\"],[0.4,\"#fde0ef\"],[0.5,\"#f7f7f7\"],[0.6,\"#e6f5d0\"],[0.7,\"#b8e186\"],[0.8,\"#7fbc41\"],[0.9,\"#4d9221\"],[1,\"#276419\"]],\"sequential\":[[0.0,\"#0d0887\"],[0.1111111111111111,\"#46039f\"],[0.2222222222222222,\"#7201a8\"],[0.3333333333333333,\"#9c179e\"],[0.4444444444444444,\"#bd3786\"],[0.5555555555555556,\"#d8576b\"],[0.6666666666666666,\"#ed7953\"],[0.7777777777777778,\"#fb9f3a\"],[0.8888888888888888,\"#fdca26\"],[1.0,\"#f0f921\"]],\"sequentialminus\":[[0.0,\"#0d0887\"],[0.1111111111111111,\"#46039f\"],[0.2222222222222222,\"#7201a8\"],[0.3333333333333333,\"#9c179e\"],[0.4444444444444444,\"#bd3786\"],[0.5555555555555556,\"#d8576b\"],[0.6666666666666666,\"#ed7953\"],[0.7777777777777778,\"#fb9f3a\"],[0.8888888888888888,\"#fdca26\"],[1.0,\"#f0f921\"]]},\"colorway\":[\"#636efa\",\"#EF553B\",\"#00cc96\",\"#ab63fa\",\"#FFA15A\",\"#19d3f3\",\"#FF6692\",\"#B6E880\",\"#FF97FF\",\"#FECB52\"],\"font\":{\"color\":\"#2a3f5f\"},\"geo\":{\"bgcolor\":\"white\",\"lakecolor\":\"white\",\"landcolor\":\"#E5ECF6\",\"showlakes\":true,\"showland\":true,\"subunitcolor\":\"white\"},\"hoverlabel\":{\"align\":\"left\"},\"hovermode\":\"closest\",\"mapbox\":{\"style\":\"light\"},\"paper_bgcolor\":\"white\",\"plot_bgcolor\":\"#E5ECF6\",\"polar\":{\"angularaxis\":{\"gridcolor\":\"white\",\"linecolor\":\"white\",\"ticks\":\"\"},\"bgcolor\":\"#E5ECF6\",\"radialaxis\":{\"gridcolor\":\"white\",\"linecolor\":\"white\",\"ticks\":\"\"}},\"scene\":{\"xaxis\":{\"backgroundcolor\":\"#E5ECF6\",\"gridcolor\":\"white\",\"gridwidth\":2,\"linecolor\":\"white\",\"showbackground\":true,\"ticks\":\"\",\"zerolinecolor\":\"white\"},\"yaxis\":{\"backgroundcolor\":\"#E5ECF6\",\"gridcolor\":\"white\",\"gridwidth\":2,\"linecolor\":\"white\",\"showbackground\":true,\"ticks\":\"\",\"zerolinecolor\":\"white\"},\"zaxis\":{\"backgroundcolor\":\"#E5ECF6\",\"gridcolor\":\"white\",\"gridwidth\":2,\"linecolor\":\"white\",\"showbackground\":true,\"ticks\":\"\",\"zerolinecolor\":\"white\"}},\"shapedefaults\":{\"line\":{\"color\":\"#2a3f5f\"}},\"ternary\":{\"aaxis\":{\"gridcolor\":\"white\",\"linecolor\":\"white\",\"ticks\":\"\"},\"baxis\":{\"gridcolor\":\"white\",\"linecolor\":\"white\",\"ticks\":\"\"},\"bgcolor\":\"#E5ECF6\",\"caxis\":{\"gridcolor\":\"white\",\"linecolor\":\"white\",\"ticks\":\"\"}},\"title\":{\"x\":0.05},\"xaxis\":{\"automargin\":true,\"gridcolor\":\"white\",\"linecolor\":\"white\",\"ticks\":\"\",\"title\":{\"standoff\":15},\"zerolinecolor\":\"white\",\"zerolinewidth\":2},\"yaxis\":{\"automargin\":true,\"gridcolor\":\"white\",\"linecolor\":\"white\",\"ticks\":\"\",\"title\":{\"standoff\":15},\"zerolinecolor\":\"white\",\"zerolinewidth\":2}}}},                        {\"responsive\": true}                    ).then(function(){\n",
              "                            \n",
              "var gd = document.getElementById('308cf842-24ff-4135-bee1-9f51e0bfc02f');\n",
              "var x = new MutationObserver(function (mutations, observer) {{\n",
              "        var display = window.getComputedStyle(gd).display;\n",
              "        if (!display || display === 'none') {{\n",
              "            console.log([gd, 'removed!']);\n",
              "            Plotly.purge(gd);\n",
              "            observer.disconnect();\n",
              "        }}\n",
              "}});\n",
              "\n",
              "// Listen for the removal of the full notebook cells\n",
              "var notebookContainer = gd.closest('#notebook-container');\n",
              "if (notebookContainer) {{\n",
              "    x.observe(notebookContainer, {childList: true});\n",
              "}}\n",
              "\n",
              "// Listen for the clearing of the current output cell\n",
              "var outputEl = gd.closest('.output');\n",
              "if (outputEl) {{\n",
              "    x.observe(outputEl, {childList: true});\n",
              "}}\n",
              "\n",
              "                        })                };                            </script>        </div>\n",
              "</body>\n",
              "</html>"
            ]
          },
          "metadata": {}
        }
      ]
    },
    {
      "cell_type": "code",
      "source": [
        "dataset.columns"
      ],
      "metadata": {
        "colab": {
          "base_uri": "https://localhost:8080/"
        },
        "id": "8F15O287Y_pb",
        "outputId": "c074c22f-c8cc-4062-f52e-a01ce1d63b54"
      },
      "execution_count": 47,
      "outputs": [
        {
          "output_type": "execute_result",
          "data": {
            "text/plain": [
              "Index(['LotArea', 'YearBuilt', 'YearRemodelled', 'TotalBsmtSF', 'CentralAir',\n",
              "       '1stFlrSF', '2ndFlrSF', 'GrLivArea', 'BsmtFullBath', 'BsmtHalfBath',\n",
              "       'FullBath', 'HalfBath', 'BedroomAbvGr', 'KitchenAbvGr', 'TotRmsAbvGrd',\n",
              "       'Fireplaces', 'GarageCars', 'GarageArea', 'PavedDrive', 'WoodDeckSF',\n",
              "       'PoolArea', 'SalePrice'],\n",
              "      dtype='object')"
            ]
          },
          "metadata": {},
          "execution_count": 47
        }
      ]
    },
    {
      "cell_type": "code",
      "source": [
        "# Dividing dataest into X and y\n",
        "X=dataset.drop(['SalePrice','1stFlrSF','GrLivArea','TotRmsAbvGrd','2ndFlrSF'], axis=1)\n",
        "y=dataset['SalePrice']\n"
      ],
      "metadata": {
        "id": "trzDvVsVMbX0"
      },
      "execution_count": 76,
      "outputs": []
    },
    {
      "cell_type": "code",
      "source": [
        "print(X.shape)\n",
        "print(y.shape)"
      ],
      "metadata": {
        "colab": {
          "base_uri": "https://localhost:8080/"
        },
        "id": "LsQekQEhbHDO",
        "outputId": "9b72952e-89b2-427b-9f20-163a52a32eb3"
      },
      "execution_count": 77,
      "outputs": [
        {
          "output_type": "stream",
          "name": "stdout",
          "text": [
            "(1460, 17)\n",
            "(1460,)\n"
          ]
        }
      ]
    },
    {
      "cell_type": "code",
      "source": [
        ""
      ],
      "metadata": {
        "id": "GoQ4Jiv4bQBN"
      },
      "execution_count": null,
      "outputs": []
    },
    {
      "cell_type": "code",
      "source": [
        "# Normalizing numerical features so that each feature has mean 0 and variance 1\n",
        "feature_scaler = StandardScaler()\n",
        "X_scaled = feature_scaler.fit_transform(X)"
      ],
      "metadata": {
        "id": "FXFjtIXiMbal"
      },
      "execution_count": 78,
      "outputs": []
    },
    {
      "cell_type": "code",
      "source": [
        "#Implementing Linear Regression with Regularization\n",
        "# Tuning the SGDRegressor parameters 'eta0' (learning rate) and 'max_iter', along with the regularization parameter alpha using Grid Search\n",
        "\n",
        "sgdr = SGDRegressor(random_state = 1, penalty = 'elasticnet')\n",
        "\n",
        "grid_param = {'eta0': [.0001, .001, .01, .1, 1], 'max_iter':[10000, 20000, 30000, 40000],'alpha': [.001, .01, .1, 1,10, 100], 'l1_ratio': [0,0.25,0.5,0.75,1]}\n",
        "\n",
        "gd_sr = GridSearchCV(estimator=sgdr, param_grid=grid_param, scoring='r2', cv=5)\n",
        "\n",
        "gd_sr.fit(X_scaled, y)\n",
        "\n",
        "results = pd.DataFrame.from_dict(gd_sr.cv_results_)\n",
        "print(\"Cross-validation results:\\n\", results)\n",
        "\n",
        "best_parameters = gd_sr.best_params_\n",
        "print(\"Best parameters: \", best_parameters)\n",
        "\n",
        "best_result = gd_sr.best_score_ # Mean cross-validated score of the best_estimator\n",
        "print(\"Best result: \", best_result)\n",
        "\n",
        "best_model = gd_sr.best_estimator_\n",
        "print(\"Intercept: \", best_model.intercept_)\n",
        "\n",
        "print(pd.DataFrame(zip(X.columns, best_model.coef_), columns=['Features','Coefficients']).sort_values(by=['Coefficients'],ascending=False))\n",
        "\n"
      ],
      "metadata": {
        "colab": {
          "base_uri": "https://localhost:8080/"
        },
        "id": "B-GTmxhcMbde",
        "outputId": "10656d84-b688-4359-dfad-f43deed43720"
      },
      "execution_count": 82,
      "outputs": [
        {
          "output_type": "stream",
          "name": "stdout",
          "text": [
            "Cross-validation results:\n",
            "      mean_fit_time  std_fit_time  mean_score_time  std_score_time param_alpha  \\\n",
            "0         0.914423      0.204655         0.000898        0.000309       0.001   \n",
            "1         0.903080      0.196434         0.000711        0.000013       0.001   \n",
            "2         0.902295      0.209099         0.000794        0.000142       0.001   \n",
            "3         0.911935      0.200132         0.000808        0.000118       0.001   \n",
            "4         0.966003      0.217479         0.000720        0.000022       0.001   \n",
            "..             ...           ...              ...             ...         ...   \n",
            "595       0.006480      0.001729         0.000598        0.000081         100   \n",
            "596       0.009489      0.002312         0.000601        0.000035         100   \n",
            "597       0.009569      0.002339         0.000611        0.000023         100   \n",
            "598       0.009475      0.002287         0.000579        0.000036         100   \n",
            "599       0.009696      0.002654         0.000601        0.000040         100   \n",
            "\n",
            "    param_eta0 param_l1_ratio param_max_iter  \\\n",
            "0       0.0001              0          10000   \n",
            "1       0.0001              0          20000   \n",
            "2       0.0001              0          30000   \n",
            "3       0.0001              0          40000   \n",
            "4       0.0001           0.25          10000   \n",
            "..         ...            ...            ...   \n",
            "595          1           0.75          40000   \n",
            "596          1              1          10000   \n",
            "597          1              1          20000   \n",
            "598          1              1          30000   \n",
            "599          1              1          40000   \n",
            "\n",
            "                                                params  split0_test_score  \\\n",
            "0    {'alpha': 0.001, 'eta0': 0.0001, 'l1_ratio': 0...       7.377354e-01   \n",
            "1    {'alpha': 0.001, 'eta0': 0.0001, 'l1_ratio': 0...       7.377354e-01   \n",
            "2    {'alpha': 0.001, 'eta0': 0.0001, 'l1_ratio': 0...       7.377354e-01   \n",
            "3    {'alpha': 0.001, 'eta0': 0.0001, 'l1_ratio': 0...       7.377354e-01   \n",
            "4    {'alpha': 0.001, 'eta0': 0.0001, 'l1_ratio': 0...       7.377230e-01   \n",
            "..                                                 ...                ...   \n",
            "595  {'alpha': 100, 'eta0': 1, 'l1_ratio': 0.75, 'm...      -1.050360e-02   \n",
            "596  {'alpha': 100, 'eta0': 1, 'l1_ratio': 1, 'max_...      -6.825961e+13   \n",
            "597  {'alpha': 100, 'eta0': 1, 'l1_ratio': 1, 'max_...      -6.825961e+13   \n",
            "598  {'alpha': 100, 'eta0': 1, 'l1_ratio': 1, 'max_...      -6.825961e+13   \n",
            "599  {'alpha': 100, 'eta0': 1, 'l1_ratio': 1, 'max_...      -6.825961e+13   \n",
            "\n",
            "     split1_test_score  split2_test_score  split3_test_score  \\\n",
            "0         7.436326e-01       7.201135e-01       7.111658e-01   \n",
            "1         7.436326e-01       7.201135e-01       7.111658e-01   \n",
            "2         7.436326e-01       7.201135e-01       7.111658e-01   \n",
            "3         7.436326e-01       7.201135e-01       7.111658e-01   \n",
            "4         7.436323e-01       7.201652e-01       7.111602e-01   \n",
            "..                 ...                ...                ...   \n",
            "595      -3.360641e-03       3.629050e-01       4.727898e-01   \n",
            "596      -6.077667e+13      -3.615852e+13      -2.385901e+13   \n",
            "597      -6.077667e+13      -3.615852e+13      -2.385901e+13   \n",
            "598      -6.077667e+13      -3.615852e+13      -2.385901e+13   \n",
            "599      -6.077667e+13      -3.615852e+13      -2.385901e+13   \n",
            "\n",
            "     split4_test_score  mean_test_score  std_test_score  rank_test_score  \n",
            "0         5.546554e-01     6.934605e-01    7.038213e-02              149  \n",
            "1         5.546554e-01     6.934605e-01    7.038213e-02              149  \n",
            "2         5.546554e-01     6.934605e-01    7.038213e-02              149  \n",
            "3         5.546554e-01     6.934605e-01    7.038213e-02              149  \n",
            "4         5.544572e-01     6.934276e-01    7.046233e-02              153  \n",
            "..                 ...              ...             ...              ...  \n",
            "595      -9.375341e-02     1.456154e-01    2.272102e-01              381  \n",
            "596      -6.152340e+13    -5.011544e+13    1.707167e+13              549  \n",
            "597      -6.152340e+13    -5.011544e+13    1.707167e+13              549  \n",
            "598      -6.152340e+13    -5.011544e+13    1.707167e+13              549  \n",
            "599      -6.152340e+13    -5.011544e+13    1.707167e+13              549  \n",
            "\n",
            "[600 rows x 17 columns]\n",
            "Best parameters:  {'alpha': 0.1, 'eta0': 0.01, 'l1_ratio': 0, 'max_iter': 10000}\n",
            "Best result:  0.6963126380268156\n",
            "Intercept:  [181102.42723912]\n",
            "          Features  Coefficients\n",
            "3      TotalBsmtSF  20492.687511\n",
            "7         FullBath  15596.784603\n",
            "11      Fireplaces  12418.689299\n",
            "2   YearRemodelled  11735.712259\n",
            "12      GarageCars  10939.897999\n",
            "8         HalfBath  10287.972965\n",
            "13      GarageArea   9839.085985\n",
            "5     BsmtFullBath   4680.234820\n",
            "15      WoodDeckSF   4148.140146\n",
            "0          LotArea   3737.751126\n",
            "9     BedroomAbvGr   3014.846362\n",
            "1        YearBuilt   2397.370160\n",
            "16        PoolArea   1387.823943\n",
            "6     BsmtHalfBath   -139.988297\n",
            "14      PavedDrive  -1066.273423\n",
            "4       CentralAir  -1354.161666\n",
            "10    KitchenAbvGr  -5647.968471\n"
          ]
        }
      ]
    },
    {
      "cell_type": "code",
      "source": [
        "####################################################################################\n",
        "# Implementing Support Vector Regression\n",
        "# Tuning the SVR parameters 'kernel', 'C', 'epsilon' and implementing cross-validation using Grid Search\n",
        "svr = SVR()\n",
        "grid_param = {'kernel': ['linear', 'poly', 'rbf', 'sigmoid'], 'C': [100,1000,10000], 'epsilon': [100,1000,10000]}\n",
        "\n",
        "gd_sr = GridSearchCV(estimator=svr, param_grid=grid_param, scoring='r2', cv=5)\n",
        "\n",
        "gd_sr.fit(X_scaled, y)\n",
        "\n",
        "best_parameters = gd_sr.best_params_\n",
        "print(\"Optimal parameters:\\n\", best_parameters)\n",
        "\n",
        "best_result = gd_sr.best_score_ # Mean cross-validated score of the best_estimator\n",
        "print(\"Best mean cross-validated score:\\n\", best_result)\n"
      ],
      "metadata": {
        "colab": {
          "base_uri": "https://localhost:8080/"
        },
        "id": "Nsk9n4_HMbgT",
        "outputId": "6a97c744-a17c-4510-9e95-c84ac8b2ea3d"
      },
      "execution_count": 83,
      "outputs": [
        {
          "output_type": "stream",
          "name": "stdout",
          "text": [
            "Optimal parameters:\n",
            " {'C': 10000, 'epsilon': 10000, 'kernel': 'rbf'}\n",
            "Best mean cross-validated score:\n",
            " 0.6941589666676533\n"
          ]
        }
      ]
    },
    {
      "cell_type": "code",
      "source": [
        ""
      ],
      "metadata": {
        "id": "xa4BuPA4MbjO"
      },
      "execution_count": null,
      "outputs": []
    },
    {
      "cell_type": "code",
      "source": [
        ""
      ],
      "metadata": {
        "id": "3gYxZDMIMbmC"
      },
      "execution_count": null,
      "outputs": []
    },
    {
      "cell_type": "code",
      "source": [
        ""
      ],
      "metadata": {
        "id": "9f8z4YsWMbo4"
      },
      "execution_count": null,
      "outputs": []
    },
    {
      "cell_type": "code",
      "source": [
        ""
      ],
      "metadata": {
        "id": "r1o1auuRMbrp"
      },
      "execution_count": null,
      "outputs": []
    },
    {
      "cell_type": "code",
      "source": [
        ""
      ],
      "metadata": {
        "id": "DZXffae_Mbuh"
      },
      "execution_count": null,
      "outputs": []
    },
    {
      "cell_type": "code",
      "source": [
        ""
      ],
      "metadata": {
        "id": "UpcOY2UBMbxd"
      },
      "execution_count": null,
      "outputs": []
    },
    {
      "cell_type": "code",
      "source": [
        ""
      ],
      "metadata": {
        "id": "r7dGBGblMb0P"
      },
      "execution_count": null,
      "outputs": []
    },
    {
      "cell_type": "code",
      "source": [
        ""
      ],
      "metadata": {
        "id": "QhbLqbe6Mb3L"
      },
      "execution_count": null,
      "outputs": []
    },
    {
      "cell_type": "code",
      "source": [
        ""
      ],
      "metadata": {
        "id": "erFAXDxLMb6F"
      },
      "execution_count": null,
      "outputs": []
    },
    {
      "cell_type": "code",
      "source": [
        ""
      ],
      "metadata": {
        "id": "llpj1Ph0Mb82"
      },
      "execution_count": null,
      "outputs": []
    },
    {
      "cell_type": "code",
      "source": [
        ""
      ],
      "metadata": {
        "id": "trcCEvl8Mb_s"
      },
      "execution_count": null,
      "outputs": []
    },
    {
      "cell_type": "code",
      "source": [
        ""
      ],
      "metadata": {
        "id": "QjICKKmzMcCn"
      },
      "execution_count": null,
      "outputs": []
    },
    {
      "cell_type": "code",
      "source": [
        ""
      ],
      "metadata": {
        "id": "VvPrBua8McFD"
      },
      "execution_count": null,
      "outputs": []
    },
    {
      "cell_type": "code",
      "source": [
        ""
      ],
      "metadata": {
        "id": "Dr9a8jmoMcIL"
      },
      "execution_count": null,
      "outputs": []
    },
    {
      "cell_type": "code",
      "source": [
        ""
      ],
      "metadata": {
        "id": "IwGAi8vJMcLN"
      },
      "execution_count": null,
      "outputs": []
    },
    {
      "cell_type": "code",
      "source": [
        ""
      ],
      "metadata": {
        "id": "59Iq19LkMcN5"
      },
      "execution_count": null,
      "outputs": []
    },
    {
      "cell_type": "code",
      "source": [
        ""
      ],
      "metadata": {
        "id": "CTyljaZLMcQt"
      },
      "execution_count": null,
      "outputs": []
    }
  ]
}