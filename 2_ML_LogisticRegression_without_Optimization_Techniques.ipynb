{
  "nbformat": 4,
  "nbformat_minor": 0,
  "metadata": {
    "colab": {
      "name": "2.ML LogisticRegression without Optimization Techniques.ipynb",
      "provenance": [],
      "collapsed_sections": [],
      "authorship_tag": "ABX9TyPGwfJk28frZu19WHG0+AdZ",
      "include_colab_link": true
    },
    "kernelspec": {
      "name": "python3",
      "display_name": "Python 3"
    },
    "language_info": {
      "name": "python"
    }
  },
  "cells": [
    {
      "cell_type": "markdown",
      "metadata": {
        "id": "view-in-github",
        "colab_type": "text"
      },
      "source": [
        "<a href=\"https://colab.research.google.com/github/mukeshsharma1981/ML-Projects/blob/main/2_ML_LogisticRegression_without_Optimization_Techniques.ipynb\" target=\"_parent\"><img src=\"https://colab.research.google.com/assets/colab-badge.svg\" alt=\"Open In Colab\"/></a>"
      ]
    },
    {
      "cell_type": "markdown",
      "source": [
        "Use Seed_Data. \n",
        "\n",
        "Consider the column target as the output variable and the remaining columns as input variables. Accomplish the classification task using logistic regression. \n",
        "\n",
        "To do so:\n",
        "\n",
        "![image.png](data:image/png;base64,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)"
      ],
      "metadata": {
        "id": "1ufMlwiS_RyA"
      }
    },
    {
      "cell_type": "code",
      "execution_count": null,
      "metadata": {
        "colab": {
          "base_uri": "https://localhost:8080/",
          "height": 206
        },
        "id": "B9Wq89G6_PDA",
        "outputId": "41b87029-4b62-4588-c423-ee284eff1df2"
      },
      "outputs": [
        {
          "output_type": "execute_result",
          "data": {
            "text/plain": [
              "       A      P       C     LK     WK  A_Coef    LKG  target\n",
              "0  15.26  14.84  0.8710  5.763  3.312   2.221  5.220       0\n",
              "1  14.88  14.57  0.8811  5.554  3.333   1.018  4.956       0\n",
              "2  14.29  14.09  0.9050  5.291  3.337   2.699  4.825       0\n",
              "3  13.84  13.94  0.8955  5.324  3.379   2.259  4.805       0\n",
              "4  16.14  14.99  0.9034  5.658  3.562   1.355  5.175       0"
            ],
            "text/html": [
              "\n",
              "  <div id=\"df-998b7dad-cd33-49c8-8a84-952d3220651d\">\n",
              "    <div class=\"colab-df-container\">\n",
              "      <div>\n",
              "<style scoped>\n",
              "    .dataframe tbody tr th:only-of-type {\n",
              "        vertical-align: middle;\n",
              "    }\n",
              "\n",
              "    .dataframe tbody tr th {\n",
              "        vertical-align: top;\n",
              "    }\n",
              "\n",
              "    .dataframe thead th {\n",
              "        text-align: right;\n",
              "    }\n",
              "</style>\n",
              "<table border=\"1\" class=\"dataframe\">\n",
              "  <thead>\n",
              "    <tr style=\"text-align: right;\">\n",
              "      <th></th>\n",
              "      <th>A</th>\n",
              "      <th>P</th>\n",
              "      <th>C</th>\n",
              "      <th>LK</th>\n",
              "      <th>WK</th>\n",
              "      <th>A_Coef</th>\n",
              "      <th>LKG</th>\n",
              "      <th>target</th>\n",
              "    </tr>\n",
              "  </thead>\n",
              "  <tbody>\n",
              "    <tr>\n",
              "      <th>0</th>\n",
              "      <td>15.26</td>\n",
              "      <td>14.84</td>\n",
              "      <td>0.8710</td>\n",
              "      <td>5.763</td>\n",
              "      <td>3.312</td>\n",
              "      <td>2.221</td>\n",
              "      <td>5.220</td>\n",
              "      <td>0</td>\n",
              "    </tr>\n",
              "    <tr>\n",
              "      <th>1</th>\n",
              "      <td>14.88</td>\n",
              "      <td>14.57</td>\n",
              "      <td>0.8811</td>\n",
              "      <td>5.554</td>\n",
              "      <td>3.333</td>\n",
              "      <td>1.018</td>\n",
              "      <td>4.956</td>\n",
              "      <td>0</td>\n",
              "    </tr>\n",
              "    <tr>\n",
              "      <th>2</th>\n",
              "      <td>14.29</td>\n",
              "      <td>14.09</td>\n",
              "      <td>0.9050</td>\n",
              "      <td>5.291</td>\n",
              "      <td>3.337</td>\n",
              "      <td>2.699</td>\n",
              "      <td>4.825</td>\n",
              "      <td>0</td>\n",
              "    </tr>\n",
              "    <tr>\n",
              "      <th>3</th>\n",
              "      <td>13.84</td>\n",
              "      <td>13.94</td>\n",
              "      <td>0.8955</td>\n",
              "      <td>5.324</td>\n",
              "      <td>3.379</td>\n",
              "      <td>2.259</td>\n",
              "      <td>4.805</td>\n",
              "      <td>0</td>\n",
              "    </tr>\n",
              "    <tr>\n",
              "      <th>4</th>\n",
              "      <td>16.14</td>\n",
              "      <td>14.99</td>\n",
              "      <td>0.9034</td>\n",
              "      <td>5.658</td>\n",
              "      <td>3.562</td>\n",
              "      <td>1.355</td>\n",
              "      <td>5.175</td>\n",
              "      <td>0</td>\n",
              "    </tr>\n",
              "  </tbody>\n",
              "</table>\n",
              "</div>\n",
              "      <button class=\"colab-df-convert\" onclick=\"convertToInteractive('df-998b7dad-cd33-49c8-8a84-952d3220651d')\"\n",
              "              title=\"Convert this dataframe to an interactive table.\"\n",
              "              style=\"display:none;\">\n",
              "        \n",
              "  <svg xmlns=\"http://www.w3.org/2000/svg\" height=\"24px\"viewBox=\"0 0 24 24\"\n",
              "       width=\"24px\">\n",
              "    <path d=\"M0 0h24v24H0V0z\" fill=\"none\"/>\n",
              "    <path d=\"M18.56 5.44l.94 2.06.94-2.06 2.06-.94-2.06-.94-.94-2.06-.94 2.06-2.06.94zm-11 1L8.5 8.5l.94-2.06 2.06-.94-2.06-.94L8.5 2.5l-.94 2.06-2.06.94zm10 10l.94 2.06.94-2.06 2.06-.94-2.06-.94-.94-2.06-.94 2.06-2.06.94z\"/><path d=\"M17.41 7.96l-1.37-1.37c-.4-.4-.92-.59-1.43-.59-.52 0-1.04.2-1.43.59L10.3 9.45l-7.72 7.72c-.78.78-.78 2.05 0 2.83L4 21.41c.39.39.9.59 1.41.59.51 0 1.02-.2 1.41-.59l7.78-7.78 2.81-2.81c.8-.78.8-2.07 0-2.86zM5.41 20L4 18.59l7.72-7.72 1.47 1.35L5.41 20z\"/>\n",
              "  </svg>\n",
              "      </button>\n",
              "      \n",
              "  <style>\n",
              "    .colab-df-container {\n",
              "      display:flex;\n",
              "      flex-wrap:wrap;\n",
              "      gap: 12px;\n",
              "    }\n",
              "\n",
              "    .colab-df-convert {\n",
              "      background-color: #E8F0FE;\n",
              "      border: none;\n",
              "      border-radius: 50%;\n",
              "      cursor: pointer;\n",
              "      display: none;\n",
              "      fill: #1967D2;\n",
              "      height: 32px;\n",
              "      padding: 0 0 0 0;\n",
              "      width: 32px;\n",
              "    }\n",
              "\n",
              "    .colab-df-convert:hover {\n",
              "      background-color: #E2EBFA;\n",
              "      box-shadow: 0px 1px 2px rgba(60, 64, 67, 0.3), 0px 1px 3px 1px rgba(60, 64, 67, 0.15);\n",
              "      fill: #174EA6;\n",
              "    }\n",
              "\n",
              "    [theme=dark] .colab-df-convert {\n",
              "      background-color: #3B4455;\n",
              "      fill: #D2E3FC;\n",
              "    }\n",
              "\n",
              "    [theme=dark] .colab-df-convert:hover {\n",
              "      background-color: #434B5C;\n",
              "      box-shadow: 0px 1px 3px 1px rgba(0, 0, 0, 0.15);\n",
              "      filter: drop-shadow(0px 1px 2px rgba(0, 0, 0, 0.3));\n",
              "      fill: #FFFFFF;\n",
              "    }\n",
              "  </style>\n",
              "\n",
              "      <script>\n",
              "        const buttonEl =\n",
              "          document.querySelector('#df-998b7dad-cd33-49c8-8a84-952d3220651d button.colab-df-convert');\n",
              "        buttonEl.style.display =\n",
              "          google.colab.kernel.accessAllowed ? 'block' : 'none';\n",
              "\n",
              "        async function convertToInteractive(key) {\n",
              "          const element = document.querySelector('#df-998b7dad-cd33-49c8-8a84-952d3220651d');\n",
              "          const dataTable =\n",
              "            await google.colab.kernel.invokeFunction('convertToInteractive',\n",
              "                                                     [key], {});\n",
              "          if (!dataTable) return;\n",
              "\n",
              "          const docLinkHtml = 'Like what you see? Visit the ' +\n",
              "            '<a target=\"_blank\" href=https://colab.research.google.com/notebooks/data_table.ipynb>data table notebook</a>'\n",
              "            + ' to learn more about interactive tables.';\n",
              "          element.innerHTML = '';\n",
              "          dataTable['output_type'] = 'display_data';\n",
              "          await google.colab.output.renderOutput(dataTable, element);\n",
              "          const docLink = document.createElement('div');\n",
              "          docLink.innerHTML = docLinkHtml;\n",
              "          element.appendChild(docLink);\n",
              "        }\n",
              "      </script>\n",
              "    </div>\n",
              "  </div>\n",
              "  "
            ]
          },
          "metadata": {},
          "execution_count": 2
        }
      ],
      "source": [
        "import pandas as pd\n",
        "\n",
        "\n",
        "dataset=pd.read_csv(\"/content/Seed_Data.csv\")\n",
        "dataset.head()"
      ]
    },
    {
      "cell_type": "code",
      "source": [
        "import warnings\n",
        "warnings.simplefilter(\"ignore\")\n"
      ],
      "metadata": {
        "id": "PY49PsXP_2Vj"
      },
      "execution_count": null,
      "outputs": []
    },
    {
      "cell_type": "code",
      "source": [
        "X=dataset.drop(\"target\", axis=1)\n",
        "y=dataset[\"target\"]\n",
        "\n",
        "## fit the LogisticRegression on X and y\n",
        "from sklearn.linear_model import LogisticRegression\n",
        "model=LogisticRegression()\n",
        "model.fit(X,y)\n"
      ],
      "metadata": {
        "colab": {
          "base_uri": "https://localhost:8080/"
        },
        "id": "-nIWl6ak_9pT",
        "outputId": "231a81d7-ed4e-4824-a76e-3cc0944e2028"
      },
      "execution_count": null,
      "outputs": [
        {
          "output_type": "execute_result",
          "data": {
            "text/plain": [
              "LogisticRegression()"
            ]
          },
          "metadata": {},
          "execution_count": 5
        }
      ]
    },
    {
      "cell_type": "code",
      "source": [
        "# a) paramert estimation\n",
        "\n",
        "cf=model.coef_[0]\n",
        "\n",
        "pd.DataFrame(cf, X.columns, columns=[\"coef\"])"
      ],
      "metadata": {
        "colab": {
          "base_uri": "https://localhost:8080/",
          "height": 268
        },
        "id": "Tul2RT2kAxFh",
        "outputId": "f66bcfa2-2e54-456f-e014-3d43cff208f0"
      },
      "execution_count": null,
      "outputs": [
        {
          "output_type": "execute_result",
          "data": {
            "text/plain": [
              "            coef\n",
              "A       0.051148\n",
              "P       0.581061\n",
              "C       0.120364\n",
              "LK      1.306770\n",
              "WK      0.232930\n",
              "A_Coef -0.559869\n",
              "LKG    -2.849231"
            ],
            "text/html": [
              "\n",
              "  <div id=\"df-72750994-c85f-481a-9c6b-c1f4d2205aa2\">\n",
              "    <div class=\"colab-df-container\">\n",
              "      <div>\n",
              "<style scoped>\n",
              "    .dataframe tbody tr th:only-of-type {\n",
              "        vertical-align: middle;\n",
              "    }\n",
              "\n",
              "    .dataframe tbody tr th {\n",
              "        vertical-align: top;\n",
              "    }\n",
              "\n",
              "    .dataframe thead th {\n",
              "        text-align: right;\n",
              "    }\n",
              "</style>\n",
              "<table border=\"1\" class=\"dataframe\">\n",
              "  <thead>\n",
              "    <tr style=\"text-align: right;\">\n",
              "      <th></th>\n",
              "      <th>coef</th>\n",
              "    </tr>\n",
              "  </thead>\n",
              "  <tbody>\n",
              "    <tr>\n",
              "      <th>A</th>\n",
              "      <td>0.051148</td>\n",
              "    </tr>\n",
              "    <tr>\n",
              "      <th>P</th>\n",
              "      <td>0.581061</td>\n",
              "    </tr>\n",
              "    <tr>\n",
              "      <th>C</th>\n",
              "      <td>0.120364</td>\n",
              "    </tr>\n",
              "    <tr>\n",
              "      <th>LK</th>\n",
              "      <td>1.306770</td>\n",
              "    </tr>\n",
              "    <tr>\n",
              "      <th>WK</th>\n",
              "      <td>0.232930</td>\n",
              "    </tr>\n",
              "    <tr>\n",
              "      <th>A_Coef</th>\n",
              "      <td>-0.559869</td>\n",
              "    </tr>\n",
              "    <tr>\n",
              "      <th>LKG</th>\n",
              "      <td>-2.849231</td>\n",
              "    </tr>\n",
              "  </tbody>\n",
              "</table>\n",
              "</div>\n",
              "      <button class=\"colab-df-convert\" onclick=\"convertToInteractive('df-72750994-c85f-481a-9c6b-c1f4d2205aa2')\"\n",
              "              title=\"Convert this dataframe to an interactive table.\"\n",
              "              style=\"display:none;\">\n",
              "        \n",
              "  <svg xmlns=\"http://www.w3.org/2000/svg\" height=\"24px\"viewBox=\"0 0 24 24\"\n",
              "       width=\"24px\">\n",
              "    <path d=\"M0 0h24v24H0V0z\" fill=\"none\"/>\n",
              "    <path d=\"M18.56 5.44l.94 2.06.94-2.06 2.06-.94-2.06-.94-.94-2.06-.94 2.06-2.06.94zm-11 1L8.5 8.5l.94-2.06 2.06-.94-2.06-.94L8.5 2.5l-.94 2.06-2.06.94zm10 10l.94 2.06.94-2.06 2.06-.94-2.06-.94-.94-2.06-.94 2.06-2.06.94z\"/><path d=\"M17.41 7.96l-1.37-1.37c-.4-.4-.92-.59-1.43-.59-.52 0-1.04.2-1.43.59L10.3 9.45l-7.72 7.72c-.78.78-.78 2.05 0 2.83L4 21.41c.39.39.9.59 1.41.59.51 0 1.02-.2 1.41-.59l7.78-7.78 2.81-2.81c.8-.78.8-2.07 0-2.86zM5.41 20L4 18.59l7.72-7.72 1.47 1.35L5.41 20z\"/>\n",
              "  </svg>\n",
              "      </button>\n",
              "      \n",
              "  <style>\n",
              "    .colab-df-container {\n",
              "      display:flex;\n",
              "      flex-wrap:wrap;\n",
              "      gap: 12px;\n",
              "    }\n",
              "\n",
              "    .colab-df-convert {\n",
              "      background-color: #E8F0FE;\n",
              "      border: none;\n",
              "      border-radius: 50%;\n",
              "      cursor: pointer;\n",
              "      display: none;\n",
              "      fill: #1967D2;\n",
              "      height: 32px;\n",
              "      padding: 0 0 0 0;\n",
              "      width: 32px;\n",
              "    }\n",
              "\n",
              "    .colab-df-convert:hover {\n",
              "      background-color: #E2EBFA;\n",
              "      box-shadow: 0px 1px 2px rgba(60, 64, 67, 0.3), 0px 1px 3px 1px rgba(60, 64, 67, 0.15);\n",
              "      fill: #174EA6;\n",
              "    }\n",
              "\n",
              "    [theme=dark] .colab-df-convert {\n",
              "      background-color: #3B4455;\n",
              "      fill: #D2E3FC;\n",
              "    }\n",
              "\n",
              "    [theme=dark] .colab-df-convert:hover {\n",
              "      background-color: #434B5C;\n",
              "      box-shadow: 0px 1px 3px 1px rgba(0, 0, 0, 0.15);\n",
              "      filter: drop-shadow(0px 1px 2px rgba(0, 0, 0, 0.3));\n",
              "      fill: #FFFFFF;\n",
              "    }\n",
              "  </style>\n",
              "\n",
              "      <script>\n",
              "        const buttonEl =\n",
              "          document.querySelector('#df-72750994-c85f-481a-9c6b-c1f4d2205aa2 button.colab-df-convert');\n",
              "        buttonEl.style.display =\n",
              "          google.colab.kernel.accessAllowed ? 'block' : 'none';\n",
              "\n",
              "        async function convertToInteractive(key) {\n",
              "          const element = document.querySelector('#df-72750994-c85f-481a-9c6b-c1f4d2205aa2');\n",
              "          const dataTable =\n",
              "            await google.colab.kernel.invokeFunction('convertToInteractive',\n",
              "                                                     [key], {});\n",
              "          if (!dataTable) return;\n",
              "\n",
              "          const docLinkHtml = 'Like what you see? Visit the ' +\n",
              "            '<a target=\"_blank\" href=https://colab.research.google.com/notebooks/data_table.ipynb>data table notebook</a>'\n",
              "            + ' to learn more about interactive tables.';\n",
              "          element.innerHTML = '';\n",
              "          dataTable['output_type'] = 'display_data';\n",
              "          await google.colab.output.renderOutput(dataTable, element);\n",
              "          const docLink = document.createElement('div');\n",
              "          docLink.innerHTML = docLinkHtml;\n",
              "          element.appendChild(docLink);\n",
              "        }\n",
              "      </script>\n",
              "    </div>\n",
              "  </div>\n",
              "  "
            ]
          },
          "metadata": {},
          "execution_count": 7
        }
      ]
    },
    {
      "cell_type": "code",
      "source": [
        "# b) p.values\n",
        "from sklearn.feature_selection import chi2\n",
        "\n",
        "scores, pvalues = chi2(X,y)\n",
        "pvalues"
      ],
      "metadata": {
        "colab": {
          "base_uri": "https://localhost:8080/"
        },
        "id": "Jn-wOYzOBG0v",
        "outputId": "cb2da292-dde8-4bfc-dff4-28f3dcd3f50c"
      },
      "execution_count": null,
      "outputs": [
        {
          "output_type": "execute_result",
          "data": {
            "text/plain": [
              "array([1.70334569e-22, 3.44011725e-05, 9.72062750e-01, 6.33878884e-02,\n",
              "       2.60859793e-02, 5.50776926e-10, 2.61212799e-02])"
            ]
          },
          "metadata": {},
          "execution_count": 9
        }
      ]
    },
    {
      "cell_type": "markdown",
      "source": [
        "Looking at the pvalues and alpha, we can say that variable [C] is not significantly different and can be excluded from the feature selection"
      ],
      "metadata": {
        "id": "RxTMNhZLB3pk"
      }
    },
    {
      "cell_type": "code",
      "source": [
        "## AGain we are doing the above task removing Variable [C] & [LK]\n",
        "\n",
        "X1=dataset.drop([\"target\",\"C\",\"LK\"], axis=1)\n",
        "y1=dataset[\"target\"]\n",
        "\n",
        "## fit the LogisticRegression on X and y\n",
        "from sklearn.linear_model import LogisticRegression\n",
        "model=LogisticRegression()\n",
        "model.fit(X1,y1)"
      ],
      "metadata": {
        "colab": {
          "base_uri": "https://localhost:8080/"
        },
        "id": "M5YRY-7yCDhB",
        "outputId": "465cd702-f927-4635-8e38-61e0a0e748b7"
      },
      "execution_count": null,
      "outputs": [
        {
          "output_type": "execute_result",
          "data": {
            "text/plain": [
              "LogisticRegression()"
            ]
          },
          "metadata": {},
          "execution_count": 14
        }
      ]
    },
    {
      "cell_type": "code",
      "source": [
        "# a) paramert estimation\n",
        "\n",
        "cf=model.coef_[0]\n",
        "\n",
        "pd.DataFrame(cf, X1.columns, columns=[\"coef\"])"
      ],
      "metadata": {
        "colab": {
          "base_uri": "https://localhost:8080/",
          "height": 206
        },
        "id": "8N1Vj0B0CpAV",
        "outputId": "27e45179-631f-43f7-f35e-d3bb4d3e4a3e"
      },
      "execution_count": null,
      "outputs": [
        {
          "output_type": "execute_result",
          "data": {
            "text/plain": [
              "            coef\n",
              "A       0.442288\n",
              "P      -0.420209\n",
              "WK     -0.052621\n",
              "A_Coef -0.671726\n",
              "LKG    -1.898205"
            ],
            "text/html": [
              "\n",
              "  <div id=\"df-c7f9eae3-2c6f-4de8-815b-bf73e94beca9\">\n",
              "    <div class=\"colab-df-container\">\n",
              "      <div>\n",
              "<style scoped>\n",
              "    .dataframe tbody tr th:only-of-type {\n",
              "        vertical-align: middle;\n",
              "    }\n",
              "\n",
              "    .dataframe tbody tr th {\n",
              "        vertical-align: top;\n",
              "    }\n",
              "\n",
              "    .dataframe thead th {\n",
              "        text-align: right;\n",
              "    }\n",
              "</style>\n",
              "<table border=\"1\" class=\"dataframe\">\n",
              "  <thead>\n",
              "    <tr style=\"text-align: right;\">\n",
              "      <th></th>\n",
              "      <th>coef</th>\n",
              "    </tr>\n",
              "  </thead>\n",
              "  <tbody>\n",
              "    <tr>\n",
              "      <th>A</th>\n",
              "      <td>0.442288</td>\n",
              "    </tr>\n",
              "    <tr>\n",
              "      <th>P</th>\n",
              "      <td>-0.420209</td>\n",
              "    </tr>\n",
              "    <tr>\n",
              "      <th>WK</th>\n",
              "      <td>-0.052621</td>\n",
              "    </tr>\n",
              "    <tr>\n",
              "      <th>A_Coef</th>\n",
              "      <td>-0.671726</td>\n",
              "    </tr>\n",
              "    <tr>\n",
              "      <th>LKG</th>\n",
              "      <td>-1.898205</td>\n",
              "    </tr>\n",
              "  </tbody>\n",
              "</table>\n",
              "</div>\n",
              "      <button class=\"colab-df-convert\" onclick=\"convertToInteractive('df-c7f9eae3-2c6f-4de8-815b-bf73e94beca9')\"\n",
              "              title=\"Convert this dataframe to an interactive table.\"\n",
              "              style=\"display:none;\">\n",
              "        \n",
              "  <svg xmlns=\"http://www.w3.org/2000/svg\" height=\"24px\"viewBox=\"0 0 24 24\"\n",
              "       width=\"24px\">\n",
              "    <path d=\"M0 0h24v24H0V0z\" fill=\"none\"/>\n",
              "    <path d=\"M18.56 5.44l.94 2.06.94-2.06 2.06-.94-2.06-.94-.94-2.06-.94 2.06-2.06.94zm-11 1L8.5 8.5l.94-2.06 2.06-.94-2.06-.94L8.5 2.5l-.94 2.06-2.06.94zm10 10l.94 2.06.94-2.06 2.06-.94-2.06-.94-.94-2.06-.94 2.06-2.06.94z\"/><path d=\"M17.41 7.96l-1.37-1.37c-.4-.4-.92-.59-1.43-.59-.52 0-1.04.2-1.43.59L10.3 9.45l-7.72 7.72c-.78.78-.78 2.05 0 2.83L4 21.41c.39.39.9.59 1.41.59.51 0 1.02-.2 1.41-.59l7.78-7.78 2.81-2.81c.8-.78.8-2.07 0-2.86zM5.41 20L4 18.59l7.72-7.72 1.47 1.35L5.41 20z\"/>\n",
              "  </svg>\n",
              "      </button>\n",
              "      \n",
              "  <style>\n",
              "    .colab-df-container {\n",
              "      display:flex;\n",
              "      flex-wrap:wrap;\n",
              "      gap: 12px;\n",
              "    }\n",
              "\n",
              "    .colab-df-convert {\n",
              "      background-color: #E8F0FE;\n",
              "      border: none;\n",
              "      border-radius: 50%;\n",
              "      cursor: pointer;\n",
              "      display: none;\n",
              "      fill: #1967D2;\n",
              "      height: 32px;\n",
              "      padding: 0 0 0 0;\n",
              "      width: 32px;\n",
              "    }\n",
              "\n",
              "    .colab-df-convert:hover {\n",
              "      background-color: #E2EBFA;\n",
              "      box-shadow: 0px 1px 2px rgba(60, 64, 67, 0.3), 0px 1px 3px 1px rgba(60, 64, 67, 0.15);\n",
              "      fill: #174EA6;\n",
              "    }\n",
              "\n",
              "    [theme=dark] .colab-df-convert {\n",
              "      background-color: #3B4455;\n",
              "      fill: #D2E3FC;\n",
              "    }\n",
              "\n",
              "    [theme=dark] .colab-df-convert:hover {\n",
              "      background-color: #434B5C;\n",
              "      box-shadow: 0px 1px 3px 1px rgba(0, 0, 0, 0.15);\n",
              "      filter: drop-shadow(0px 1px 2px rgba(0, 0, 0, 0.3));\n",
              "      fill: #FFFFFF;\n",
              "    }\n",
              "  </style>\n",
              "\n",
              "      <script>\n",
              "        const buttonEl =\n",
              "          document.querySelector('#df-c7f9eae3-2c6f-4de8-815b-bf73e94beca9 button.colab-df-convert');\n",
              "        buttonEl.style.display =\n",
              "          google.colab.kernel.accessAllowed ? 'block' : 'none';\n",
              "\n",
              "        async function convertToInteractive(key) {\n",
              "          const element = document.querySelector('#df-c7f9eae3-2c6f-4de8-815b-bf73e94beca9');\n",
              "          const dataTable =\n",
              "            await google.colab.kernel.invokeFunction('convertToInteractive',\n",
              "                                                     [key], {});\n",
              "          if (!dataTable) return;\n",
              "\n",
              "          const docLinkHtml = 'Like what you see? Visit the ' +\n",
              "            '<a target=\"_blank\" href=https://colab.research.google.com/notebooks/data_table.ipynb>data table notebook</a>'\n",
              "            + ' to learn more about interactive tables.';\n",
              "          element.innerHTML = '';\n",
              "          dataTable['output_type'] = 'display_data';\n",
              "          await google.colab.output.renderOutput(dataTable, element);\n",
              "          const docLink = document.createElement('div');\n",
              "          docLink.innerHTML = docLinkHtml;\n",
              "          element.appendChild(docLink);\n",
              "        }\n",
              "      </script>\n",
              "    </div>\n",
              "  </div>\n",
              "  "
            ]
          },
          "metadata": {},
          "execution_count": 15
        }
      ]
    },
    {
      "cell_type": "code",
      "source": [
        "# b) p.values\n",
        "from sklearn.feature_selection import chi2\n",
        "\n",
        "scores, pvalues = chi2(X1,y1)\n",
        "pvalues"
      ],
      "metadata": {
        "colab": {
          "base_uri": "https://localhost:8080/"
        },
        "id": "wEbZ5vOECjU_",
        "outputId": "2ccfff09-81c2-447b-fb6d-043499a3b10b"
      },
      "execution_count": null,
      "outputs": [
        {
          "output_type": "execute_result",
          "data": {
            "text/plain": [
              "array([1.70334569e-22, 3.44011725e-05, 2.60859793e-02, 5.50776926e-10,\n",
              "       2.61212799e-02])"
            ]
          },
          "metadata": {},
          "execution_count": 16
        }
      ]
    },
    {
      "cell_type": "markdown",
      "source": [
        "# c) predictive model at significanct level alpha= 0.05\n",
        "\n",
        "thati = 0.442288*A + -0.420209*P + \t-0.052621*WK + -0.671726*A_Coef + -1.898205*LKG\n",
        "\n",
        "phati = 1/(i+e)-thati\n",
        "\n",
        "## yhati = 1 if phati >= 0.5\n",
        "## yhati = 0 if phati < 0.5\n"
      ],
      "metadata": {
        "id": "Agf51LZbDg0L"
      }
    },
    {
      "cell_type": "code",
      "source": [
        ""
      ],
      "metadata": {
        "id": "uVVRvERLEzaJ"
      },
      "execution_count": null,
      "outputs": []
    }
  ]
}